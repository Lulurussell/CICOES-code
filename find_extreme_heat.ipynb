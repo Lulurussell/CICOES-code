{
 "metadata": {
  "language_info": {
   "codemirror_mode": {
    "name": "ipython",
    "version": 3
   },
   "file_extension": ".py",
   "mimetype": "text/x-python",
   "name": "python",
   "nbconvert_exporter": "python",
   "pygments_lexer": "ipython3",
   "version": 3
  },
  "orig_nbformat": 2
 },
 "nbformat": 4,
 "nbformat_minor": 2,
 "cells": [
  {
   "cell_type": "code",
   "execution_count": null,
   "metadata": {},
   "outputs": [],
   "source": [
    "tas_anomaly_hist = xr.open_dataset('filepath')\n",
    "tas_anomaly_ssp126 = xr.open_dataset('filepath')\n",
    "tas_anomaly_ssp245 = xr.open_dataset('filepath')\n",
    "tas_anomaly_ssp370 = xr.open_dataset('filepath')\n",
    "tas_anomaly_ssp585 = xr.open_dataset('filepath')"
   ]
  },
  {
   "cell_type": "code",
   "execution_count": null,
   "metadata": {},
   "outputs": [],
   "source": [
    "#We now have modelled surface temperature  under tas_hist['tas'] corresponding to dates tas_hist['time']\n",
    "def find_heatwaves(tas_anomaly):\n",
    "    \"\"\"\n",
    "    this function finds heatwaves (defined poorly by Lulu to be 6 or more consecutive days above the MEAN     ANOMALY for the given year)\n",
    "    \"\"\"\n",
    "    yr_heatwave_centers = []\n",
    "    years = []\n",
    "    for yr, tas_anomaly in tas_anomaly.groupby('year'):\n",
    "        temps = tas_anomaly['tas']\n",
    "        ann_avg_anomaly = np.nanmean(temps)\n",
    "        heatwave_centers = []\n",
    "\n",
    "        for i in range(3,362):\n",
    "            num_days_above = 0\n",
    "            for j in range (i-3,i+4):\n",
    "                if temps[j] > ann_avg_anomaly:\n",
    "                    num_days_above +=1\n",
    "            if num_days_above >=6:\n",
    "                heatwave_centers.append(i)\n",
    "    \n",
    "        # find if there is overlap between heatwaves\n",
    "        new_heatwave_centers = []\n",
    "        for i in range(len(heatwave_centers)):\n",
    "            if (heatwave_centers[i+1]-heatwave_centers[i])<=3:\n",
    "                # if overlap, replace with halfway between the two\n",
    "                new_center = math.floor((heatwave_centers[i+1] + heatwave_centers[i])/2)\n",
    "                new_heatwave_centers.append(new_center)\n",
    "            else:\n",
    "                new_heatwave_centers.append(heatwave_centers[i])\n",
    "        yr_heatwave_centers.append(new_heatwave_centers)\n",
    "        years.append(yr)\n",
    "    return years, yr_heatwave_centers\n",
    "\n"
   ]
  },
  {
   "cell_type": "code",
   "execution_count": null,
   "metadata": {},
   "outputs": [],
   "source": [
    "# let's find and plot how many heatwaves there are per year (RELATIVE TO ANNUAL AVG ANOMALY )\n",
    "def find_heatwaves_per_year(years, yr_heatwave_centers)\n",
    "    yr_heatwaves = [len(center_list) for center_list in yr_heatwave_centers]\n",
    "    plt.figure(figsize=(8,6))\n",
    "    plt.plot(years,yr_heatwaves)\n",
    "    plt.title('Number of Heatwaves Per Year')\n",
    "    plt.xlabel('Year')\n",
    "    plt.ylabel('Number of heatwaves (>6 days above mean yearly anomaly)')\n",
    "    plt.show()\n",
    "    return yr_heatwaves\n",
    "\n",
    "def plot_heatwaves_per_year(list_models,list_years, list_yr_heatwave_centers)\n",
    "    plt.figure(figsize=(8,6))\n",
    "    for i in range(len(list_years)):\n",
    "        yr_heatwave_centers = list_yr_heatwave_centers[i]\n",
    "        years = list_years[i]\n",
    "        yr_heatwaves = [len(center_list) for center_list in yr_heatwave_centers]\n",
    "        plt.plot(years,yr_heatwaves,label=list_models[i])\n",
    "    plt.title('Number of Heatwaves Per Year')\n",
    "    plt.xlabel('Year')\n",
    "    plt.ylabel('Number of heatwaves (>6 days above mean yearly anomaly)'\n",
    "    plt.legend()\n",
    "    plt.show()\n",
    "\n"
   ]
  },
  {
   "cell_type": "code",
   "execution_count": null,
   "metadata": {},
   "outputs": [],
   "source": [
    "def find_num_days_1deg_anomaly(tas_anomaly):\n",
    "    \"\"\"\n",
    "    this function finds the number of days per year that are greater than 1 degree anomaly above the          1981-2010 mean temperature for that day of the year. \n",
    "    \"\"\"\n",
    "    yr_num_days_above = []\n",
    "    years = []\n",
    "    for yr, tas_anomaly in tas_anomaly.groupby('year'):\n",
    "        temps = tas_anomaly['tas']\n",
    "        num_days_above_1deg = 0\n",
    "        for i in range(len(temps)):\n",
    "            if temps[i]>1\n",
    "                num_days_above_1deg +=1\n",
    "        yr_num_days_above.append(num_days_above_1deg)\n",
    "        years.append(yr)\n",
    "    return  years, yr_num_days_above"
   ]
  }
 ]
}