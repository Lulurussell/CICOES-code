{
 "metadata": {
  "language_info": {
   "codemirror_mode": {
    "name": "ipython",
    "version": 3
   },
   "file_extension": ".py",
   "mimetype": "text/x-python",
   "name": "python",
   "nbconvert_exporter": "python",
   "pygments_lexer": "ipython3",
   "version": 3
  },
  "orig_nbformat": 2
 },
 "nbformat": 4,
 "nbformat_minor": 2,
 "cells": [
  {
   "cell_type": "code",
   "execution_count": null,
   "metadata": {},
   "outputs": [],
   "source": [
    "#USE DAILY SURFACE TEMPERATURE CLIMATE DATA FROM load_in_daily_tas"
   ]
  },
  {
   "cell_type": "code",
   "execution_count": null,
   "metadata": {},
   "outputs": [],
   "source": [
    "for k, v in tqdm(dsets_.items()):\n",
    "\n",
    "    # Check for any missing experiments that we expect\n",
    "    expt_dsets = v.values()\n",
    "    if any([d is None for d in expt_dsets]):\n",
    "        print(f\"Missing experiment for {k}\")\n",
    "        continue\n",
    "\n",
    "    #climatology = v['historical'].sel(time=slice('1981-01-01', '2010-12-31')).groupby('time.dayofyear').mean('time')\n",
    "\n",
    "    for i in v:\n",
    "        if i == 'historical':\n",
    "            # When working with daily data, it's very easy for objects to run your computer out of memory, so we shorten historical runs because to the date range we need.\n",
    "            tas = v[i].sel(time=slice('1981-01-01', '2010-12-31')).groupby('time.dayofyear')# - climatology\n",
    "        else:\n",
    "            tas = v[i].groupby('time.dayofyear')# - climatology\n",
    "        # Because these files are too large to store in memory, we use the option compute=False to create a dask delayed object and then compute it later.\n",
    "        # Remember to change the file location to the relevant folder.\n",
    "        delayed_obj = tas.to_netcdf(path=f\"~/tas_{k}_{i}.nc\", mode='w', compute=False, engine='netcdf4', format='NETCDF4')\n",
    "        print(f\"writing data to ~/tas_{k}_{i}.nc\")\n",
    "\n",
    "        with progress.ProgressBar():\n",
    "            results = delayed_obj.compute()"
   ]
  },
  {
   "cell_type": "code",
   "execution_count": null,
   "metadata": {},
   "outputs": [],
   "source": [
    "# load in data \n",
    "tas_hist = xr.open_dataset('filepath')"
   ]
  },
  {
   "cell_type": "code",
   "execution_count": null,
   "metadata": {},
   "outputs": [],
   "source": [
    "# NEED TO FIND OBSERVED HISTORICAL SURFACE TEMPERATURE, NOT MODELLED\n",
    "# also put in celsius\n",
    "#We now have historical MODELLED surface temperature  under tas_hist['tas'] corresponding to dates tas_hist['time']\n",
    "\n",
    "#I'll assume we have historical ice season end dates for some set of years (let's say 1980-2015)\n",
    "ice_season_end = np.array(('datetime1','datetime2','datetime3'))\n",
    "\n",
    "#step one: plot tas for 1-2 weeks around each end date in ice_season_end\n",
    "\n",
    "plt.figure(figsize=(8,6))\n",
    "for i in ice_season_end:\n",
    "    year = i.year\n",
    "    day = i.dayofyear\n",
    "    start_window = # FIGURE OUT HOW TO SUBTRACT 1 WEEK FROM day (want datetime object)\n",
    "    end_window = # FIGURE OUT HOW TO ADD 1 WEEK TO day (want datetime object)\n",
    "    tas_window = tas_hist.sel(time=slice(start_window, end_window))\n",
    "    plt.plot(tas_window['tas'],label=str(year)) # PLOT SLICE \n",
    "\n",
    "plt.show()\n",
    "\n",
    "\n",
    "# THIS IS FOR NH ICE CLIMBING SEASON (can adjust as needed for other regions)\n",
    "start_season = '-01-01'\n",
    "end_season = '-04-01'\n",
    "for i in ice_season_end:\n",
    "    plt.figure(figsize=(8,6))\n",
    "    year = i.year\n",
    "    day = i.dayofyear\n",
    "    start_window = str(yr)+ start_season\n",
    "    end_window = str(yr)+ end_season\n",
    "    tas_window = tas_hist.sel(time=slice(start_window, end_window))\n",
    "    plt.plot(tas_window['time'],tas_window['tas'],label='historical surface temperatures')\n",
    "    plt.axvline(x=i,label='ice season end')\n",
    "    plt.ahline(y=0,label='freezing point')\n",
    "    plt.show()\n"
   ]
  }
 ]
}