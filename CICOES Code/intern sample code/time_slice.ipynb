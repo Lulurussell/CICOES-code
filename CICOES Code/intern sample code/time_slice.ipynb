{
 "cells": [
  {
   "cell_type": "markdown",
   "metadata": {},
   "source": [
    "This notebook contains code for calculating the tas anomaly of a given dataset. We use the Pangeo CMIP6 Public Dataset. A lot of this code was modified starting from code from the Pangeo Gallery,found [here](https://gallery.pangeo.io/repos/pangeo-gallery/cmip6/).\n",
    "\n",
    "Additionally, the [xarray documentation](https://xarray.pydata.org/en/stable/) and [xarray-extras documentation](https://xarray-extras.readthedocs.io/en/latest/), along with the online documentation for any of the other used libraries are a useful resource."
   ]
  },
  {
   "cell_type": "code",
   "execution_count": 2,
   "metadata": {},
   "outputs": [
    {
     "name": "stderr",
     "output_type": "stream",
     "text": [
      "<ipython-input-2-3655b52eb663>:6: TqdmExperimentalWarning: Using `tqdm.autonotebook.tqdm` in notebook mode. Use `tqdm.tqdm` instead to force console mode (e.g. in jupyter console)\n",
      "  from tqdm.autonotebook import tqdm\n"
     ]
    }
   ],
   "source": [
    "from matplotlib import pyplot as plt\n",
    "import xarray as xr\n",
    "import numpy as np\n",
    "import dask\n",
    "from dask.diagnostics import progress\n",
    "from tqdm.autonotebook import tqdm\n",
    "import intake\n",
    "import fsspec\n",
    "import seaborn as sns\n",
    "import pandas as pd\n",
    "from tqdm.autonotebook import tqdm  # Fancy progress bars for our loops!\n",
    "from dask_gateway import Gateway\n",
    "from dask.distributed import Client\n",
    "import cftime\n",
    "import datetime\n"
   ]
  },
  {
   "cell_type": "code",
   "execution_count": 3,
   "metadata": {},
   "outputs": [],
   "source": [
    "col = intake.open_esm_datastore(\"https://storage.googleapis.com/cmip6/pangeo-cmip6.json\")"
   ]
  },
  {
   "cell_type": "markdown",
   "metadata": {},
   "source": [
    "After importing all relevant packages and using intake to open the pangeo cmip6 database, we construct our query. Note that this particular query requires all sources have all 5 experiments. This is due to the passing the .search() function the perameter `require_all_on`. Info at the [intake-esm docs](https://intake-esm.readthedocs.io/en/latest/api.html?highlight=search#intake_esm.core.esm_datastore.search)."
   ]
  },
  {
   "cell_type": "code",
   "execution_count": 5,
   "metadata": {
    "tags": []
   },
   "outputs": [
    {
     "name": "stdout",
     "output_type": "stream",
     "text": [
      "               experiment_id  variable_id  table_id\n",
      "source_id                                          \n",
      "ACCESS-ESM1-5              5            1         1\n",
      "CESM2-WACCM                5            1         1\n",
      "MPI-ESM1-2-HR              5            1         1\n"
     ]
    }
   ],
   "source": [
    "expts = ['historical', 'ssp126', 'ssp245', 'ssp370', 'ssp585']\n",
    "\n",
    "query = dict(\n",
    "    experiment_id = expts,\n",
    "    variable_id = ['tas'],\n",
    "    table_id = ['Amon'],\n",
    "    source_id = ['ACCESS-ESM1-5','CESM2-WACCM', 'MPI-ESM1-2-HR'],\n",
    "    member_id = 'r1i1p1f1'\n",
    ")\n",
    "\n",
    "# In the other two documents, I used col_subset instead of cat.\n",
    "cat = col.search(require_all_on=['source_id'], **query)\n",
    "\n",
    "\n",
    "print(cat.df.groupby(\"source_id\")[\n",
    "    [\"experiment_id\", \"variable_id\", \"table_id\"]\n",
    "].nunique())"
   ]
  },
  {
   "cell_type": "code",
   "execution_count": 7,
   "metadata": {},
   "outputs": [
    {
     "name": "stdout",
     "output_type": "stream",
     "text": [
      "\n",
      "--> The keys in the returned dictionary of datasets are constructed as follows:\n",
      "\t'activity_id.institution_id.source_id.experiment_id.table_id.grid_label'\n"
     ]
    },
    {
     "data": {
      "text/html": [
       "\n",
       "    <div>\n",
       "        <style>\n",
       "            /* Turns off some styling */\n",
       "            progress {\n",
       "                /* gets rid of default border in Firefox and Opera. */\n",
       "                border: none;\n",
       "                /* Needs to be in here for Safari polyfill so background images work as expected. */\n",
       "                background-size: auto;\n",
       "            }\n",
       "            .progress-bar-interrupted, .progress-bar-interrupted::-webkit-progress-bar {\n",
       "                background: #F44336;\n",
       "            }\n",
       "        </style>\n",
       "      <progress value='15' class='' max='15' style='width:300px; height:20px; vertical-align: middle;'></progress>\n",
       "      100.00% [15/15 00:00<00:00]\n",
       "    </div>\n",
       "    "
      ],
      "text/plain": [
       "<IPython.core.display.HTML object>"
      ]
     },
     "metadata": {},
     "output_type": "display_data"
    }
   ],
   "source": [
    "# Create an xarray dataset using our catalog.\n",
    "dset_dict = cat.to_dataset_dict(zarr_kwargs={'consolidated': True, 'decode_times': False},cdf_kwargs={'chunks': {}, 'decode_times': False})"
   ]
  },
  {
   "cell_type": "markdown",
   "metadata": {},
   "source": [
    "The next block of code is mainly for formatting all of the datasets into a more standard format. This is especially important if you want to make a graph using multiple"
   ]
  },
  {
   "cell_type": "code",
   "execution_count": 8,
   "metadata": {},
   "outputs": [],
   "source": [
    "def drop_all_bounds(ds):\n",
    "    \"\"\"Drop coordinates like 'time_bounds' from datasets,\n",
    "    which can lead to issues when merging.\"\"\"\n",
    "    drop_vars = [vname for vname in ds.coords if (('_bounds') in vname ) or ('_bnds') in vname]\n",
    "    return ds.drop(drop_vars)\n",
    "\n",
    "def open_dsets(df):\n",
    "    \"\"\"Open datasets from cloud storage and return xarray dataset.\"\"\"\n",
    "    dsets = [xr.open_zarr(fsspec.get_mapper(ds_url), consolidated=True).pipe(drop_all_bounds) for ds_url in df.zstore]\n",
    "    try:\n",
    "        ds = xr.merge(dsets, join='exact')\n",
    "        return ds\n",
    "    except ValueError:\n",
    "        return None\n",
    "\n",
    "def open_delayed(df):\n",
    "    \"\"\"A dask.delayed wrapper around `open_dsets`.\n",
    "    Allows us to open many datasets in parallel.\"\"\"\n",
    "    return dask.delayed(open_dsets)(df)\n",
    "\n",
    "from collections import defaultdict\n",
    "\n",
    "dsets = defaultdict(dict)\n",
    "for group, df in cat.df.groupby(by=['source_id', 'experiment_id']):\n",
    "    dsets[group[0]][group[1]] = open_delayed(df)\n",
    "\n",
    "open_dsets(df)\n",
    "dsets_ = dask.compute(dict(dsets))[0]\n",
    "\n",
    "expt_da = xr.DataArray(expts, dims='experiment_id', name='experiment_id', coords={'experiment_id': expts})\n",
    "\n",
    "dsets_aligned = {}"
   ]
  },
  {
   "cell_type": "markdown",
   "metadata": {},
   "source": [
    "The main dictionary we will be working with is `dsets_`. Generally, `dsets_[source][scenario]` will be an xarray dataset with its data stored as a dask array.\n"
   ]
  },
  {
   "cell_type": "code",
   "execution_count": 9,
   "metadata": {},
   "outputs": [
    {
     "data": {
      "text/plain": [
       "{'ACCESS-ESM1-5': {'historical': <xarray.Dataset>\n",
       "  Dimensions:  (lat: 145, lon: 192, time: 1980)\n",
       "  Coordinates:\n",
       "      height   float64 ...\n",
       "    * lat      (lat) float64 -90.0 -88.75 -87.5 -86.25 ... 86.25 87.5 88.75 90.0\n",
       "    * lon      (lon) float64 0.0 1.875 3.75 5.625 7.5 ... 352.5 354.4 356.2 358.1\n",
       "    * time     (time) datetime64[ns] 1850-01-16T12:00:00 ... 2014-12-16T12:00:00\n",
       "  Data variables:\n",
       "      tas      (time, lat, lon) float32 dask.array<chunksize=(589, 145, 192), meta=np.ndarray>\n",
       "  Attributes: (12/50)\n",
       "      Conventions:            CF-1.7 CMIP-6.2\n",
       "      activity_id:            CMIP\n",
       "      branch_method:          standard\n",
       "      branch_time_in_child:   0.0\n",
       "      branch_time_in_parent:  21915.0\n",
       "      cmor_version:           3.4.0\n",
       "      ...                     ...\n",
       "      tracking_id:            hdl:21.14100/d2debfa6-c0e2-4339-bac8-08d97867ae3a\n",
       "      variable_id:            tas\n",
       "      variant_label:          r1i1p1f1\n",
       "      version:                v20191115\n",
       "      netcdf_tracking_ids:    hdl:21.14100/d2debfa6-c0e2-4339-bac8-08d97867ae3a\n",
       "      version_id:             v20191115,\n",
       "  'ssp126': <xarray.Dataset>\n",
       "  Dimensions:  (lat: 145, lon: 192, time: 1032)\n",
       "  Coordinates:\n",
       "      height   float64 ...\n",
       "    * lat      (lat) float64 -90.0 -88.75 -87.5 -86.25 ... 86.25 87.5 88.75 90.0\n",
       "    * lon      (lon) float64 0.0 1.875 3.75 5.625 7.5 ... 352.5 354.4 356.2 358.1\n",
       "    * time     (time) datetime64[ns] 2015-01-16T12:00:00 ... 2100-12-16T12:00:00\n",
       "  Data variables:\n",
       "      tas      (time, lat, lon) float32 dask.array<chunksize=(516, 145, 192), meta=np.ndarray>\n",
       "  Attributes: (12/50)\n",
       "      Conventions:            CF-1.7 CMIP-6.2\n",
       "      activity_id:            ScenarioMIP\n",
       "      branch_method:          standard\n",
       "      branch_time_in_child:   60265.0\n",
       "      branch_time_in_parent:  60265.0\n",
       "      cmor_version:           3.4.0\n",
       "      ...                     ...\n",
       "      tracking_id:            hdl:21.14100/db9ad393-222e-4462-831c-dcfb48059ad9\n",
       "      variable_id:            tas\n",
       "      variant_label:          r1i1p1f1\n",
       "      version:                v20191115\n",
       "      netcdf_tracking_ids:    hdl:21.14100/db9ad393-222e-4462-831c-dcfb48059ad9\n",
       "      version_id:             v20191115,\n",
       "  'ssp245': <xarray.Dataset>\n",
       "  Dimensions:  (lat: 145, lon: 192, time: 1032)\n",
       "  Coordinates:\n",
       "      height   float64 ...\n",
       "    * lat      (lat) float64 -90.0 -88.75 -87.5 -86.25 ... 86.25 87.5 88.75 90.0\n",
       "    * lon      (lon) float64 0.0 1.875 3.75 5.625 7.5 ... 352.5 354.4 356.2 358.1\n",
       "    * time     (time) datetime64[ns] 2015-01-16T12:00:00 ... 2100-12-16T12:00:00\n",
       "  Data variables:\n",
       "      tas      (time, lat, lon) float32 dask.array<chunksize=(516, 145, 192), meta=np.ndarray>\n",
       "  Attributes: (12/50)\n",
       "      Conventions:            CF-1.7 CMIP-6.2\n",
       "      activity_id:            ScenarioMIP\n",
       "      branch_method:          standard\n",
       "      branch_time_in_child:   60265.0\n",
       "      branch_time_in_parent:  60265.0\n",
       "      cmor_version:           3.4.0\n",
       "      ...                     ...\n",
       "      tracking_id:            hdl:21.14100/d0f52779-2409-41a0-9935-df92aa9412e3\n",
       "      variable_id:            tas\n",
       "      variant_label:          r1i1p1f1\n",
       "      version:                v20191115\n",
       "      netcdf_tracking_ids:    hdl:21.14100/d0f52779-2409-41a0-9935-df92aa9412e3\n",
       "      version_id:             v20191115,\n",
       "  'ssp370': <xarray.Dataset>\n",
       "  Dimensions:  (lat: 145, lon: 192, time: 1032)\n",
       "  Coordinates:\n",
       "      height   float64 ...\n",
       "    * lat      (lat) float64 -90.0 -88.75 -87.5 -86.25 ... 86.25 87.5 88.75 90.0\n",
       "    * lon      (lon) float64 0.0 1.875 3.75 5.625 7.5 ... 352.5 354.4 356.2 358.1\n",
       "    * time     (time) datetime64[ns] 2015-01-16T12:00:00 ... 2100-12-16T12:00:00\n",
       "  Data variables:\n",
       "      tas      (time, lat, lon) float32 dask.array<chunksize=(516, 145, 192), meta=np.ndarray>\n",
       "  Attributes: (12/50)\n",
       "      Conventions:            CF-1.7 CMIP-6.2\n",
       "      activity_id:            ScenarioMIP AerChemMIP\n",
       "      branch_method:          standard\n",
       "      branch_time_in_child:   60265.0\n",
       "      branch_time_in_parent:  60265.0\n",
       "      cmor_version:           3.4.0\n",
       "      ...                     ...\n",
       "      tracking_id:            hdl:21.14100/d26145e5-3c3a-4f53-9049-b4d3ec89bb03\n",
       "      variable_id:            tas\n",
       "      variant_label:          r1i1p1f1\n",
       "      version:                v20191115\n",
       "      netcdf_tracking_ids:    hdl:21.14100/d26145e5-3c3a-4f53-9049-b4d3ec89bb03\n",
       "      version_id:             v20191115,\n",
       "  'ssp585': <xarray.Dataset>\n",
       "  Dimensions:  (lat: 145, lon: 192, time: 1032)\n",
       "  Coordinates:\n",
       "      height   float64 ...\n",
       "    * lat      (lat) float64 -90.0 -88.75 -87.5 -86.25 ... 86.25 87.5 88.75 90.0\n",
       "    * lon      (lon) float64 0.0 1.875 3.75 5.625 7.5 ... 352.5 354.4 356.2 358.1\n",
       "    * time     (time) datetime64[ns] 2015-01-16T12:00:00 ... 2100-12-16T12:00:00\n",
       "  Data variables:\n",
       "      tas      (time, lat, lon) float32 dask.array<chunksize=(590, 145, 192), meta=np.ndarray>\n",
       "  Attributes: (12/50)\n",
       "      Conventions:            CF-1.7 CMIP-6.2\n",
       "      activity_id:            ScenarioMIP\n",
       "      branch_method:          standard\n",
       "      branch_time_in_child:   60265.0\n",
       "      branch_time_in_parent:  60265.0\n",
       "      cmor_version:           3.4.0\n",
       "      ...                     ...\n",
       "      tracking_id:            hdl:21.14100/212ec2b1-0901-46c7-8537-5424c0ea1055\n",
       "      variable_id:            tas\n",
       "      variant_label:          r1i1p1f1\n",
       "      version:                v20191115\n",
       "      netcdf_tracking_ids:    hdl:21.14100/212ec2b1-0901-46c7-8537-5424c0ea1055\n",
       "      version_id:             v20191115},\n",
       " 'CESM2-WACCM': {'historical': <xarray.Dataset>\n",
       "  Dimensions:  (lat: 192, lon: 288, time: 1980)\n",
       "  Coordinates:\n",
       "    * lat      (lat) float64 -90.0 -89.06 -88.12 -87.17 ... 87.17 88.12 89.06 90.0\n",
       "    * lon      (lon) float64 0.0 1.25 2.5 3.75 5.0 ... 355.0 356.2 357.5 358.8\n",
       "    * time     (time) object 1850-01-15 12:00:00 ... 2014-12-15 12:00:00\n",
       "  Data variables:\n",
       "      tas      (time, lat, lon) float32 dask.array<chunksize=(600, 192, 288), meta=np.ndarray>\n",
       "  Attributes: (12/48)\n",
       "      Conventions:            CF-1.7 CMIP-6.2\n",
       "      activity_id:            CMIP\n",
       "      branch_method:          standard\n",
       "      branch_time_in_child:   674885.0\n",
       "      branch_time_in_parent:  20075.0\n",
       "      case_id:                4\n",
       "      ...                     ...\n",
       "      variable_id:            tas\n",
       "      variant_info:           CMIP6 CESM2 hindcast (1850-2014) with high-top at...\n",
       "      variant_label:          r1i1p1f1\n",
       "      status:                 2019-10-25;created;by nhn2@columbia.edu\n",
       "      netcdf_tracking_ids:    hdl:21.14100/55a8af4c-3729-4051-9e53-f22295c2ec1c\n",
       "      version_id:             v20190227,\n",
       "  'ssp126': <xarray.Dataset>\n",
       "  Dimensions:  (lat: 192, lon: 288, time: 3420)\n",
       "  Coordinates:\n",
       "    * lat      (lat) float64 -90.0 -89.06 -88.12 -87.17 ... 87.17 88.12 89.06 90.0\n",
       "    * lon      (lon) float64 0.0 1.25 2.5 3.75 5.0 ... 355.0 356.2 357.5 358.8\n",
       "    * time     (time) object 2015-01-15 12:00:00 ... 2299-12-15 12:00:00\n",
       "  Data variables:\n",
       "      tas      (time, lat, lon) float32 dask.array<chunksize=(408, 192, 288), meta=np.ndarray>\n",
       "  Attributes: (12/48)\n",
       "      Conventions:            CF-1.7 CMIP-6.2\n",
       "      activity_id:            ScenarioMIP\n",
       "      branch_method:          standard\n",
       "      branch_time_in_child:   735110.0\n",
       "      branch_time_in_parent:  735110.0\n",
       "      case_id:                55\n",
       "      ...                     ...\n",
       "      table_id:               Amon\n",
       "      tracking_id:            hdl:21.14100/fad60e33-eb1d-4b09-b6e6-5955babe55ec\n",
       "      variable_id:            tas\n",
       "      variant_info:           CMIP6 CESM2 future scenario SSP1-2.6, years 2015-...\n",
       "      variant_label:          r1i1p1f1\n",
       "      version_id:             v20210211,\n",
       "  'ssp245': <xarray.Dataset>\n",
       "  Dimensions:  (lat: 192, lon: 288, time: 1032)\n",
       "  Coordinates:\n",
       "    * lat      (lat) float64 -90.0 -89.06 -88.12 -87.17 ... 87.17 88.12 89.06 90.0\n",
       "    * lon      (lon) float64 0.0 1.25 2.5 3.75 5.0 ... 355.0 356.2 357.5 358.8\n",
       "    * time     (time) object 2015-01-15 12:00:00 ... 2100-12-15 12:00:00\n",
       "  Data variables:\n",
       "      tas      (time, lat, lon) float32 dask.array<chunksize=(600, 192, 288), meta=np.ndarray>\n",
       "  Attributes: (12/48)\n",
       "      Conventions:            CF-1.7 CMIP-6.2\n",
       "      activity_id:            ScenarioMIP\n",
       "      branch_method:          standard\n",
       "      branch_time_in_child:   735110.0\n",
       "      branch_time_in_parent:  735110.0\n",
       "      case_id:                966\n",
       "      ...                     ...\n",
       "      variable_id:            tas\n",
       "      variant_info:           CMIP6 CESM2 future scenario SSP2-4.5, years 2015-...\n",
       "      variant_label:          r1i1p1f1\n",
       "      status:                 2019-10-25;created;by nhn2@columbia.edu\n",
       "      netcdf_tracking_ids:    hdl:21.14100/2f7bd0c7-5c06-4461-a0f9-af8335252d14...\n",
       "      version_id:             v20190815,\n",
       "  'ssp370': <xarray.Dataset>\n",
       "  Dimensions:  (lat: 192, lon: 288, time: 1032)\n",
       "  Coordinates:\n",
       "    * lat      (lat) float64 -90.0 -89.06 -88.12 -87.17 ... 87.17 88.12 89.06 90.0\n",
       "    * lon      (lon) float64 0.0 1.25 2.5 3.75 5.0 ... 355.0 356.2 357.5 358.8\n",
       "    * time     (time) object 2015-01-15 12:00:00 ... 2100-12-15 12:00:00\n",
       "  Data variables:\n",
       "      tas      (time, lat, lon) float32 dask.array<chunksize=(816, 192, 288), meta=np.ndarray>\n",
       "  Attributes: (12/48)\n",
       "      Conventions:            CF-1.7 CMIP-6.2\n",
       "      activity_id:            ScenarioMIP\n",
       "      branch_method:          standard\n",
       "      branch_time_in_child:   735110.0\n",
       "      branch_time_in_parent:  735110.0\n",
       "      case_id:                969\n",
       "      ...                     ...\n",
       "      variable_id:            tas\n",
       "      variant_info:           CMIP6 CESM2 future scenario SSP3-7.0, years 2015-...\n",
       "      variant_label:          r1i1p1f1\n",
       "      status:                 2019-10-25;created;by nhn2@columbia.edu\n",
       "      netcdf_tracking_ids:    hdl:21.14100/0ed8e413-4a34-46dd-9fcc-9e0c84f30bd8...\n",
       "      version_id:             v20190815,\n",
       "  'ssp585': <xarray.Dataset>\n",
       "  Dimensions:  (lat: 192, lon: 288, time: 1032)\n",
       "  Coordinates:\n",
       "    * lat      (lat) float64 -90.0 -89.06 -88.12 -87.17 ... 87.17 88.12 89.06 90.0\n",
       "    * lon      (lon) float64 0.0 1.25 2.5 3.75 5.0 ... 355.0 356.2 357.5 358.8\n",
       "    * time     (time) object 2015-01-15 12:00:00 ... 2100-12-15 12:00:00\n",
       "  Data variables:\n",
       "      tas      (time, lat, lon) float32 dask.array<chunksize=(600, 192, 288), meta=np.ndarray>\n",
       "  Attributes: (12/48)\n",
       "      Conventions:            CF-1.7 CMIP-6.2\n",
       "      activity_id:            ScenarioMIP\n",
       "      branch_method:          standard\n",
       "      branch_time_in_child:   735110.0\n",
       "      branch_time_in_parent:  735110.0\n",
       "      case_id:                43\n",
       "      ...                     ...\n",
       "      variable_id:            tas\n",
       "      variant_info:           CMIP6 CESM2 future scenario SSP5-8.5 between 2014...\n",
       "      variant_label:          r1i1p1f1\n",
       "      status:                 2019-10-25;created;by nhn2@columbia.edu\n",
       "      netcdf_tracking_ids:    hdl:21.14100/8e986dfa-cd3a-45a4-9e3b-9cb67433b6ab\n",
       "      version_id:             v20200702},\n",
       " 'MPI-ESM1-2-HR': {'historical': <xarray.Dataset>\n",
       "  Dimensions:  (lat: 192, lon: 384, time: 1980)\n",
       "  Coordinates:\n",
       "      height   float64 ...\n",
       "    * lat      (lat) float64 -89.28 -88.36 -87.42 -86.49 ... 87.42 88.36 89.28\n",
       "    * lon      (lon) float64 0.0 0.9375 1.875 2.812 ... 356.2 357.2 358.1 359.1\n",
       "    * time     (time) datetime64[ns] 1915-01-16T12:00:00 ... 1959-12-16T12:00:00\n",
       "  Data variables:\n",
       "      tas      (time, lat, lon) float32 dask.array<chunksize=(422, 192, 384), meta=np.ndarray>\n",
       "  Attributes: (12/50)\n",
       "      Conventions:                     CF-1.7 CMIP-6.2\n",
       "      DODS_EXTRA.Unlimited_Dimension:  time\n",
       "      activity_id:                     CMIP\n",
       "      branch_method:                   standard\n",
       "      branch_time_in_child:            0.0\n",
       "      branch_time_in_parent:           0.0\n",
       "      ...                              ...\n",
       "      title:                           MPI-ESM1-2-HR output prepared for CMIP6\n",
       "      tracking_id:                     hdl:21.14100/2fdb379f-1a37-4f3c-81a6-8c1...\n",
       "      variable_id:                     tas\n",
       "      variant_label:                   r1i1p1f1\n",
       "      netcdf_tracking_ids:             hdl:21.14100/2fdb379f-1a37-4f3c-81a6-8c1...\n",
       "      version_id:                      v20190710,\n",
       "  'ssp126': <xarray.Dataset>\n",
       "  Dimensions:  (lat: 192, lon: 384, time: 1032)\n",
       "  Coordinates:\n",
       "      height   float64 ...\n",
       "    * lat      (lat) float64 -89.28 -88.36 -87.42 -86.49 ... 87.42 88.36 89.28\n",
       "    * lon      (lon) float64 0.0 0.9375 1.875 2.812 ... 356.2 357.2 358.1 359.1\n",
       "    * time     (time) datetime64[ns] 2015-01-16T12:00:00 ... 2100-12-16T12:00:00\n",
       "  Data variables:\n",
       "      tas      (time, lat, lon) float32 dask.array<chunksize=(845, 192, 384), meta=np.ndarray>\n",
       "  Attributes: (12/50)\n",
       "      Conventions:            CF-1.7 CMIP-6.2\n",
       "      activity_id:            ScenarioMIP\n",
       "      branch_method:          standard\n",
       "      branch_time_in_child:   60265.0\n",
       "      branch_time_in_parent:  60265.0\n",
       "      cmor_version:           3.4.0\n",
       "      ...                     ...\n",
       "      tracking_id:            hdl:21.14100/981bf19d-e45d-478d-97a8-3214485079b6...\n",
       "      variable_id:            tas\n",
       "      variant_label:          r1i1p1f1\n",
       "      status:                 2019-10-25;created;by nhn2@columbia.edu\n",
       "      netcdf_tracking_ids:    hdl:21.14100/981bf19d-e45d-478d-97a8-3214485079b6...\n",
       "      version_id:             v20190710,\n",
       "  'ssp245': <xarray.Dataset>\n",
       "  Dimensions:  (lat: 192, lon: 384, time: 1032)\n",
       "  Coordinates:\n",
       "      height   float64 ...\n",
       "    * lat      (lat) float64 -89.28 -88.36 -87.42 -86.49 ... 87.42 88.36 89.28\n",
       "    * lon      (lon) float64 0.0 0.9375 1.875 2.812 ... 356.2 357.2 358.1 359.1\n",
       "    * time     (time) datetime64[ns] 2015-01-16T12:00:00 ... 2100-12-16T12:00:00\n",
       "  Data variables:\n",
       "      tas      (time, lat, lon) float32 dask.array<chunksize=(600, 192, 384), meta=np.ndarray>\n",
       "  Attributes: (12/50)\n",
       "      Conventions:            CF-1.7 CMIP-6.2\n",
       "      activity_id:            ScenarioMIP\n",
       "      branch_method:          standard\n",
       "      branch_time_in_child:   60265.0\n",
       "      branch_time_in_parent:  60265.0\n",
       "      cmor_version:           3.4.0\n",
       "      ...                     ...\n",
       "      tracking_id:            hdl:21.14100/5d919613-fddc-429a-a6eb-e7b4cb90eaeb...\n",
       "      variable_id:            tas\n",
       "      variant_label:          r1i1p1f1\n",
       "      status:                 2019-10-25;created;by nhn2@columbia.edu\n",
       "      netcdf_tracking_ids:    hdl:21.14100/5d919613-fddc-429a-a6eb-e7b4cb90eaeb...\n",
       "      version_id:             v20190710,\n",
       "  'ssp370': <xarray.Dataset>\n",
       "  Dimensions:  (lat: 192, lon: 384, time: 1032)\n",
       "  Coordinates:\n",
       "      height   float64 ...\n",
       "    * lat      (lat) float64 -89.28 -88.36 -87.42 -86.49 ... 87.42 88.36 89.28\n",
       "    * lon      (lon) float64 0.0 0.9375 1.875 2.812 ... 356.2 357.2 358.1 359.1\n",
       "    * time     (time) datetime64[ns] 2015-01-16T12:00:00 ... 2100-12-16T12:00:00\n",
       "  Data variables:\n",
       "      tas      (time, lat, lon) float32 dask.array<chunksize=(845, 192, 384), meta=np.ndarray>\n",
       "  Attributes: (12/50)\n",
       "      Conventions:            CF-1.7 CMIP-6.2\n",
       "      activity_id:            ScenarioMIP AerChemMIP\n",
       "      branch_method:          standard\n",
       "      branch_time_in_child:   60265.0\n",
       "      branch_time_in_parent:  60265.0\n",
       "      cmor_version:           3.4.0\n",
       "      ...                     ...\n",
       "      tracking_id:            hdl:21.14100/d6f0f6b2-b4c2-460b-bc5e-f1c72f932399...\n",
       "      variable_id:            tas\n",
       "      variant_label:          r1i1p1f1\n",
       "      status:                 2019-10-25;created;by nhn2@columbia.edu\n",
       "      netcdf_tracking_ids:    hdl:21.14100/d6f0f6b2-b4c2-460b-bc5e-f1c72f932399...\n",
       "      version_id:             v20190710,\n",
       "  'ssp585': <xarray.Dataset>\n",
       "  Dimensions:  (lat: 192, lon: 384, time: 1032)\n",
       "  Coordinates:\n",
       "      height   float64 ...\n",
       "    * lat      (lat) float64 -89.28 -88.36 -87.42 -86.49 ... 87.42 88.36 89.28\n",
       "    * lon      (lon) float64 0.0 0.9375 1.875 2.812 ... 356.2 357.2 358.1 359.1\n",
       "    * time     (time) datetime64[ns] 2015-01-16T12:00:00 ... 2100-12-16T12:00:00\n",
       "  Data variables:\n",
       "      tas      (time, lat, lon) float32 dask.array<chunksize=(600, 192, 384), meta=np.ndarray>\n",
       "  Attributes: (12/50)\n",
       "      Conventions:            CF-1.7 CMIP-6.2\n",
       "      activity_id:            ScenarioMIP\n",
       "      branch_method:          standard\n",
       "      branch_time_in_child:   60265.0\n",
       "      branch_time_in_parent:  60265.0\n",
       "      cmor_version:           3.4.0\n",
       "      ...                     ...\n",
       "      tracking_id:            hdl:21.14100/caeece40-b811-4e4c-b02e-7a5c4c6f48bc...\n",
       "      variable_id:            tas\n",
       "      variant_label:          r1i1p1f1\n",
       "      status:                 2019-10-25;created;by nhn2@columbia.edu\n",
       "      netcdf_tracking_ids:    hdl:21.14100/caeece40-b811-4e4c-b02e-7a5c4c6f48bc...\n",
       "      version_id:             v20190710}}"
      ]
     },
     "execution_count": 9,
     "metadata": {},
     "output_type": "execute_result"
    }
   ],
   "source": [
    "dsets_"
   ]
  },
  {
   "cell_type": "markdown",
   "metadata": {},
   "source": [
    "A lot of code I used ended up needing the line `climatology = v['historical'].sel(time=slice('1981-01-01', '2010-12-31')).groupby('time.month').mean('time')` or something similar. The `sel`, `groupby`, and `mean` methods are all in xarray's documetation (linked at the start of this notebook). For `slice`, see [here](https://docs.python.org/3/library/functions.html#slice)."
   ]
  },
  {
   "cell_type": "code",
   "execution_count": 10,
   "metadata": {},
   "outputs": [
    {
     "data": {
      "application/vnd.jupyter.widget-view+json": {
       "model_id": "bbe195d8162148869414016f7edf3d66",
       "version_major": 2,
       "version_minor": 0
      },
      "text/plain": [
       "  0%|          | 0/3 [00:00<?, ?it/s]"
      ]
     },
     "metadata": {},
     "output_type": "display_data"
    },
    {
     "name": "stdout",
     "output_type": "stream",
     "text": [
      "writing data to ~/tas-anomaly_ACCESS-ESM1-5_historical.nc\n",
      "[                                        ] | 0% Completed |  0.1s"
     ]
    },
    {
     "name": "stderr",
     "output_type": "stream",
     "text": [
      "/opt/anaconda3/envs/cicoes37/lib/python3.9/site-packages/xarray/core/indexing.py:1381: PerformanceWarning: Slicing with an out-of-order index is generating 15 times more chunks\n",
      "  return self.array[key]\n"
     ]
    },
    {
     "name": "stdout",
     "output_type": "stream",
     "text": [
      "[########################################] | 100% Completed |  5.0s\n",
      "writing data to ~/tas-anomaly_ACCESS-ESM1-5_ssp126.nc\n",
      "[                                        ] | 0% Completed |  0.1s"
     ]
    },
    {
     "name": "stderr",
     "output_type": "stream",
     "text": [
      "/opt/anaconda3/envs/cicoes37/lib/python3.9/site-packages/xarray/core/indexing.py:1381: PerformanceWarning: Slicing with an out-of-order index is generating 43 times more chunks\n",
      "  return self.array[key]\n"
     ]
    },
    {
     "name": "stdout",
     "output_type": "stream",
     "text": [
      "[########################################] | 100% Completed | 11.3s\n",
      "writing data to ~/tas-anomaly_ACCESS-ESM1-5_ssp245.nc\n",
      "[                                        ] | 0% Completed |  0.1s"
     ]
    },
    {
     "name": "stderr",
     "output_type": "stream",
     "text": [
      "/opt/anaconda3/envs/cicoes37/lib/python3.9/site-packages/xarray/core/indexing.py:1381: PerformanceWarning: Slicing with an out-of-order index is generating 43 times more chunks\n",
      "  return self.array[key]\n"
     ]
    },
    {
     "name": "stdout",
     "output_type": "stream",
     "text": [
      "[########################################] | 100% Completed | 10.5s\n",
      "writing data to ~/tas-anomaly_ACCESS-ESM1-5_ssp370.nc\n",
      "[                                        ] | 0% Completed |  0.1s"
     ]
    },
    {
     "name": "stderr",
     "output_type": "stream",
     "text": [
      "/opt/anaconda3/envs/cicoes37/lib/python3.9/site-packages/xarray/core/indexing.py:1381: PerformanceWarning: Slicing with an out-of-order index is generating 43 times more chunks\n",
      "  return self.array[key]\n"
     ]
    },
    {
     "name": "stdout",
     "output_type": "stream",
     "text": [
      "[########################################] | 100% Completed | 10.3s\n",
      "writing data to ~/tas-anomaly_ACCESS-ESM1-5_ssp585.nc\n",
      "[                                        ] | 0% Completed |  0.1s"
     ]
    },
    {
     "name": "stderr",
     "output_type": "stream",
     "text": [
      "/opt/anaconda3/envs/cicoes37/lib/python3.9/site-packages/xarray/core/indexing.py:1381: PerformanceWarning: Slicing with an out-of-order index is generating 43 times more chunks\n",
      "  return self.array[key]\n"
     ]
    },
    {
     "name": "stdout",
     "output_type": "stream",
     "text": [
      "[########################################] | 100% Completed |  9.7s\n",
      "writing data to ~/tas-anomaly_CESM2-WACCM_historical.nc\n",
      "[                                        ] | 0% Completed |  0.1s"
     ]
    },
    {
     "name": "stderr",
     "output_type": "stream",
     "text": [
      "/opt/anaconda3/envs/cicoes37/lib/python3.9/site-packages/xarray/core/indexing.py:1381: PerformanceWarning: Slicing with an out-of-order index is generating 15 times more chunks\n",
      "  return self.array[key]\n"
     ]
    },
    {
     "name": "stdout",
     "output_type": "stream",
     "text": [
      "[########################################] | 100% Completed |  8.4s\n"
     ]
    },
    {
     "name": "stderr",
     "output_type": "stream",
     "text": [
      "/opt/anaconda3/envs/cicoes37/lib/python3.9/site-packages/xarray/core/indexing.py:1381: PerformanceWarning: Slicing with an out-of-order index is generating 32 times more chunks\n",
      "  return self.array[key]\n"
     ]
    },
    {
     "name": "stdout",
     "output_type": "stream",
     "text": [
      "writing data to ~/tas-anomaly_CESM2-WACCM_ssp126.nc\n",
      "[########################################] | 100% Completed | 40.4s\n",
      "writing data to ~/tas-anomaly_CESM2-WACCM_ssp245.nc\n",
      "[                                        ] | 0% Completed |  0.1s"
     ]
    },
    {
     "name": "stderr",
     "output_type": "stream",
     "text": [
      "/opt/anaconda3/envs/cicoes37/lib/python3.9/site-packages/xarray/core/indexing.py:1381: PerformanceWarning: Slicing with an out-of-order index is generating 43 times more chunks\n",
      "  return self.array[key]\n"
     ]
    },
    {
     "name": "stdout",
     "output_type": "stream",
     "text": [
      "[########################################] | 100% Completed | 18.4s\n",
      "writing data to ~/tas-anomaly_CESM2-WACCM_ssp370.nc\n",
      "[                                        ] | 0% Completed |  0.1s"
     ]
    },
    {
     "name": "stderr",
     "output_type": "stream",
     "text": [
      "/opt/anaconda3/envs/cicoes37/lib/python3.9/site-packages/xarray/core/indexing.py:1381: PerformanceWarning: Slicing with an out-of-order index is generating 43 times more chunks\n",
      "  return self.array[key]\n"
     ]
    },
    {
     "name": "stdout",
     "output_type": "stream",
     "text": [
      "[########################################] | 100% Completed | 18.7s\n",
      "writing data to ~/tas-anomaly_CESM2-WACCM_ssp585.nc\n",
      "[                                        ] | 0% Completed |  0.0s"
     ]
    },
    {
     "name": "stderr",
     "output_type": "stream",
     "text": [
      "/opt/anaconda3/envs/cicoes37/lib/python3.9/site-packages/xarray/core/indexing.py:1381: PerformanceWarning: Slicing with an out-of-order index is generating 43 times more chunks\n",
      "  return self.array[key]\n"
     ]
    },
    {
     "name": "stdout",
     "output_type": "stream",
     "text": [
      "[########################################] | 100% Completed | 18.9s\n"
     ]
    },
    {
     "name": "stderr",
     "output_type": "stream",
     "text": [
      "/opt/anaconda3/envs/cicoes37/lib/python3.9/site-packages/xarray/core/dataset.py:2348: FutureWarning: Value based partial slicing on non-monotonic DatetimeIndexes with non-existing keys is deprecated and will raise a KeyError in a future Version.\n",
      "  pos_indexers, new_indexes = remap_label_indexers(\n"
     ]
    },
    {
     "ename": "KeyError",
     "evalue": "\"cannot represent labeled-based slice indexer for dimension 'time' with a slice over integer positions; the index is unsorted or non-unique\"",
     "output_type": "error",
     "traceback": [
      "\u001b[0;31m---------------------------------------------------------------------------\u001b[0m",
      "\u001b[0;31mKeyError\u001b[0m                                  Traceback (most recent call last)",
      "\u001b[0;32m<ipython-input-10-e5d017cd8968>\u001b[0m in \u001b[0;36m<module>\u001b[0;34m\u001b[0m\n\u001b[1;32m      7\u001b[0m         \u001b[0;32mcontinue\u001b[0m\u001b[0;34m\u001b[0m\u001b[0;34m\u001b[0m\u001b[0m\n\u001b[1;32m      8\u001b[0m \u001b[0;34m\u001b[0m\u001b[0m\n\u001b[0;32m----> 9\u001b[0;31m     \u001b[0mclimatology\u001b[0m \u001b[0;34m=\u001b[0m \u001b[0mv\u001b[0m\u001b[0;34m[\u001b[0m\u001b[0;34m'historical'\u001b[0m\u001b[0;34m]\u001b[0m\u001b[0;34m.\u001b[0m\u001b[0msel\u001b[0m\u001b[0;34m(\u001b[0m\u001b[0mtime\u001b[0m\u001b[0;34m=\u001b[0m\u001b[0mslice\u001b[0m\u001b[0;34m(\u001b[0m\u001b[0;34m'1981-01-01'\u001b[0m\u001b[0;34m,\u001b[0m \u001b[0;34m'2010-12-31'\u001b[0m\u001b[0;34m)\u001b[0m\u001b[0;34m)\u001b[0m\u001b[0;34m.\u001b[0m\u001b[0mgroupby\u001b[0m\u001b[0;34m(\u001b[0m\u001b[0;34m'time.month'\u001b[0m\u001b[0;34m)\u001b[0m\u001b[0;34m.\u001b[0m\u001b[0mmean\u001b[0m\u001b[0;34m(\u001b[0m\u001b[0;34m'time'\u001b[0m\u001b[0;34m)\u001b[0m\u001b[0;34m\u001b[0m\u001b[0;34m\u001b[0m\u001b[0m\n\u001b[0m\u001b[1;32m     10\u001b[0m \u001b[0;34m\u001b[0m\u001b[0m\n\u001b[1;32m     11\u001b[0m     \u001b[0;32mfor\u001b[0m \u001b[0mi\u001b[0m \u001b[0;32min\u001b[0m \u001b[0mv\u001b[0m\u001b[0;34m:\u001b[0m\u001b[0;34m\u001b[0m\u001b[0;34m\u001b[0m\u001b[0m\n",
      "\u001b[0;32m/opt/anaconda3/envs/cicoes37/lib/python3.9/site-packages/xarray/core/dataset.py\u001b[0m in \u001b[0;36msel\u001b[0;34m(self, indexers, method, tolerance, drop, **indexers_kwargs)\u001b[0m\n\u001b[1;32m   2346\u001b[0m         \"\"\"\n\u001b[1;32m   2347\u001b[0m         \u001b[0mindexers\u001b[0m \u001b[0;34m=\u001b[0m \u001b[0meither_dict_or_kwargs\u001b[0m\u001b[0;34m(\u001b[0m\u001b[0mindexers\u001b[0m\u001b[0;34m,\u001b[0m \u001b[0mindexers_kwargs\u001b[0m\u001b[0;34m,\u001b[0m \u001b[0;34m\"sel\"\u001b[0m\u001b[0;34m)\u001b[0m\u001b[0;34m\u001b[0m\u001b[0;34m\u001b[0m\u001b[0m\n\u001b[0;32m-> 2348\u001b[0;31m         pos_indexers, new_indexes = remap_label_indexers(\n\u001b[0m\u001b[1;32m   2349\u001b[0m             \u001b[0mself\u001b[0m\u001b[0;34m,\u001b[0m \u001b[0mindexers\u001b[0m\u001b[0;34m=\u001b[0m\u001b[0mindexers\u001b[0m\u001b[0;34m,\u001b[0m \u001b[0mmethod\u001b[0m\u001b[0;34m=\u001b[0m\u001b[0mmethod\u001b[0m\u001b[0;34m,\u001b[0m \u001b[0mtolerance\u001b[0m\u001b[0;34m=\u001b[0m\u001b[0mtolerance\u001b[0m\u001b[0;34m\u001b[0m\u001b[0;34m\u001b[0m\u001b[0m\n\u001b[1;32m   2350\u001b[0m         )\n",
      "\u001b[0;32m/opt/anaconda3/envs/cicoes37/lib/python3.9/site-packages/xarray/core/coordinates.py\u001b[0m in \u001b[0;36mremap_label_indexers\u001b[0;34m(obj, indexers, method, tolerance, **indexers_kwargs)\u001b[0m\n\u001b[1;32m    417\u001b[0m     }\n\u001b[1;32m    418\u001b[0m \u001b[0;34m\u001b[0m\u001b[0m\n\u001b[0;32m--> 419\u001b[0;31m     pos_indexers, new_indexes = indexing.remap_label_indexers(\n\u001b[0m\u001b[1;32m    420\u001b[0m         \u001b[0mobj\u001b[0m\u001b[0;34m,\u001b[0m \u001b[0mv_indexers\u001b[0m\u001b[0;34m,\u001b[0m \u001b[0mmethod\u001b[0m\u001b[0;34m=\u001b[0m\u001b[0mmethod\u001b[0m\u001b[0;34m,\u001b[0m \u001b[0mtolerance\u001b[0m\u001b[0;34m=\u001b[0m\u001b[0mtolerance\u001b[0m\u001b[0;34m\u001b[0m\u001b[0;34m\u001b[0m\u001b[0m\n\u001b[1;32m    421\u001b[0m     )\n",
      "\u001b[0;32m/opt/anaconda3/envs/cicoes37/lib/python3.9/site-packages/xarray/core/indexing.py\u001b[0m in \u001b[0;36mremap_label_indexers\u001b[0;34m(data_obj, indexers, method, tolerance)\u001b[0m\n\u001b[1;32m    276\u001b[0m             \u001b[0mcoords_dtype\u001b[0m \u001b[0;34m=\u001b[0m \u001b[0mdata_obj\u001b[0m\u001b[0;34m.\u001b[0m\u001b[0mcoords\u001b[0m\u001b[0;34m[\u001b[0m\u001b[0mdim\u001b[0m\u001b[0;34m]\u001b[0m\u001b[0;34m.\u001b[0m\u001b[0mdtype\u001b[0m\u001b[0;34m\u001b[0m\u001b[0;34m\u001b[0m\u001b[0m\n\u001b[1;32m    277\u001b[0m             \u001b[0mlabel\u001b[0m \u001b[0;34m=\u001b[0m \u001b[0mmaybe_cast_to_coords_dtype\u001b[0m\u001b[0;34m(\u001b[0m\u001b[0mlabel\u001b[0m\u001b[0;34m,\u001b[0m \u001b[0mcoords_dtype\u001b[0m\u001b[0;34m)\u001b[0m\u001b[0;34m\u001b[0m\u001b[0;34m\u001b[0m\u001b[0m\n\u001b[0;32m--> 278\u001b[0;31m             \u001b[0midxr\u001b[0m\u001b[0;34m,\u001b[0m \u001b[0mnew_idx\u001b[0m \u001b[0;34m=\u001b[0m \u001b[0mconvert_label_indexer\u001b[0m\u001b[0;34m(\u001b[0m\u001b[0mindex\u001b[0m\u001b[0;34m,\u001b[0m \u001b[0mlabel\u001b[0m\u001b[0;34m,\u001b[0m \u001b[0mdim\u001b[0m\u001b[0;34m,\u001b[0m \u001b[0mmethod\u001b[0m\u001b[0;34m,\u001b[0m \u001b[0mtolerance\u001b[0m\u001b[0;34m)\u001b[0m\u001b[0;34m\u001b[0m\u001b[0;34m\u001b[0m\u001b[0m\n\u001b[0m\u001b[1;32m    279\u001b[0m             \u001b[0mpos_indexers\u001b[0m\u001b[0;34m[\u001b[0m\u001b[0mdim\u001b[0m\u001b[0;34m]\u001b[0m \u001b[0;34m=\u001b[0m \u001b[0midxr\u001b[0m\u001b[0;34m\u001b[0m\u001b[0;34m\u001b[0m\u001b[0m\n\u001b[1;32m    280\u001b[0m             \u001b[0;32mif\u001b[0m \u001b[0mnew_idx\u001b[0m \u001b[0;32mis\u001b[0m \u001b[0;32mnot\u001b[0m \u001b[0;32mNone\u001b[0m\u001b[0;34m:\u001b[0m\u001b[0;34m\u001b[0m\u001b[0;34m\u001b[0m\u001b[0m\n",
      "\u001b[0;32m/opt/anaconda3/envs/cicoes37/lib/python3.9/site-packages/xarray/core/indexing.py\u001b[0m in \u001b[0;36mconvert_label_indexer\u001b[0;34m(index, label, index_name, method, tolerance)\u001b[0m\n\u001b[1;32m    135\u001b[0m             \u001b[0;31m# unlike pandas, in xarray we never want to silently convert a\u001b[0m\u001b[0;34m\u001b[0m\u001b[0;34m\u001b[0m\u001b[0;34m\u001b[0m\u001b[0m\n\u001b[1;32m    136\u001b[0m             \u001b[0;31m# slice indexer into an array indexer\u001b[0m\u001b[0;34m\u001b[0m\u001b[0;34m\u001b[0m\u001b[0;34m\u001b[0m\u001b[0m\n\u001b[0;32m--> 137\u001b[0;31m             raise KeyError(\n\u001b[0m\u001b[1;32m    138\u001b[0m                 \u001b[0;34m\"cannot represent labeled-based slice indexer for dimension \"\u001b[0m\u001b[0;34m\u001b[0m\u001b[0;34m\u001b[0m\u001b[0m\n\u001b[1;32m    139\u001b[0m                 \u001b[0;34mf\"{index_name!r} with a slice over integer positions; the index is \"\u001b[0m\u001b[0;34m\u001b[0m\u001b[0;34m\u001b[0m\u001b[0m\n",
      "\u001b[0;31mKeyError\u001b[0m: \"cannot represent labeled-based slice indexer for dimension 'time' with a slice over integer positions; the index is unsorted or non-unique\""
     ]
    }
   ],
   "source": [
    "for k, v in tqdm(dsets_.items()):\n",
    "\n",
    "    # Check for any missing experiments that we expect\n",
    "    expt_dsets = v.values()\n",
    "    if any([d is None for d in expt_dsets]):\n",
    "        print(f\"Missing experiment for {k}\")\n",
    "        continue\n",
    "\n",
    "    climatology = v['historical'].sel(time=slice('1981-01-01', '2010-12-31')).groupby('time.month').mean('time')\n",
    "\n",
    "    for i in v:\n",
    "        if i == 'historical':\n",
    "            # When working with daily data, it's very easy for objects to run your computer out of memory, so we shorten historical runs because to the date range we need.\n",
    "            anomaly = v[i].sel(time=slice('1981-01-01', '2010-12-31')).groupby('time.month') - climatology\n",
    "        else:\n",
    "            anomaly = v[i].groupby('time.month') - climatology\n",
    "        # Because these files are too large to store in memory, we use the option compute=False to create a dask delayed object and then compute it later.\n",
    "        # Remember to change the file location to the relevant folder.\n",
    "        delayed_obj = anomaly.to_netcdf(path=f\"~/tas-anomaly_{k}_{i}.nc\", mode='w', compute=False, engine='netcdf4', format='NETCDF4')\n",
    "        print(f\"writing data to ~/tas-anomaly_{k}_{i}.nc\")\n",
    "\n",
    "        with progress.ProgressBar():\n",
    "            results = delayed_obj.compute()"
   ]
  },
  {
   "cell_type": "code",
   "execution_count": null,
   "metadata": {},
   "outputs": [],
   "source": []
  }
 ],
 "metadata": {
  "kernelspec": {
   "display_name": "Python 3",
   "language": "python",
   "name": "python3"
  },
  "language_info": {
   "codemirror_mode": {
    "name": "ipython",
    "version": 3
   },
   "file_extension": ".py",
   "mimetype": "text/x-python",
   "name": "python",
   "nbconvert_exporter": "python",
   "pygments_lexer": "ipython3",
   "version": "3.9.5"
  }
 },
 "nbformat": 4,
 "nbformat_minor": 4
}
