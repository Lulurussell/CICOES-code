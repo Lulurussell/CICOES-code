{
 "cells": [
  {
   "cell_type": "code",
   "execution_count": 2,
   "metadata": {},
   "outputs": [
    {
     "name": "stderr",
     "output_type": "stream",
     "text": [
      "<ipython-input-2-fcc32bc5f501>:6: TqdmExperimentalWarning: Using `tqdm.autonotebook.tqdm` in notebook mode. Use `tqdm.tqdm` instead to force console mode (e.g. in jupyter console)\n",
      "  from tqdm.autonotebook import tqdm\n"
     ]
    }
   ],
   "source": [
    "from matplotlib import pyplot as plt\n",
    "import xarray as xr\n",
    "import numpy as np\n",
    "import dask\n",
    "from dask.diagnostics import progress\n",
    "from tqdm.autonotebook import tqdm \n",
    "import intake\n",
    "import fsspec\n",
    "import seaborn as sns\n",
    "import math\n",
    "import cartopy.crs as ccrs\n",
    "import cartopy.feature as cf\n",
    "import os\n",
    "import cdsapi\n",
    "\n",
    "%matplotlib inline\n",
    "%config InlineBackend.figure_format = 'retina' "
   ]
  },
  {
   "cell_type": "code",
   "execution_count": 3,
   "metadata": {},
   "outputs": [],
   "source": [
    "def get_lat_name(ds):\n",
    "    for lat_name in ['latitude','lat']:\n",
    "        if lat_name in ds.coords:\n",
    "            return lat_name\n",
    "    raise RuntimeError(\"Couldn't find a latitude coordinate\")\n",
    "\n",
    "def global_mean(ds):\n",
    "    lat = ds[get_lat_name(ds)]\n",
    "    weight = np.cos(np.deg2rad(lat))\n",
    "    weight /= weight.mean()\n",
    "    other_dims = set(ds.dims) - {'time'}\n",
    "    return (ds * weight).mean(other_dims)\n",
    "\n",
    "def alaska_mean(ds):\n",
    "    lat_slice = ds.sel(lat=slice(60,71))\n",
    "    ak_slice = lat_slice.sel(lon=slice(193,219))\n",
    "    lat = ak_slice[get_lat_name(ds)]\n",
    "    weight = np.cos(np.deg2rad(lat))\n",
    "    weight /= weight.mean()\n",
    "    other_dims = set(ak_slice.dims) - {'time'}\n",
    "    return (ak_slice * weight).mean(other_dims)\n",
    "\n",
    "def arctic_mean(ds):\n",
    "    lat_slice = ds.sel(latitude=slice(90,60))\n",
    "    lat = lat_slice[get_lat_name(ds)]\n",
    "    weight = np.cos(np.deg2rad(lat))\n",
    "    weight /= weight.mean()\n",
    "    other_dims = set(lat_slice.dims) - {'time'}\n",
    "    return (lat_slice * weight).mean(other_dims)"
   ]
  },
  {
   "cell_type": "code",
   "execution_count": null,
   "metadata": {},
   "outputs": [],
   "source": [
    "def load_all_models(model_name):\n",
    "    tas_anomaly_hist = xr.open_dataset('/nobackup/users/lulur/tas-anomaly_'+model_name+'_historical.nc')\n",
    "    tas_anomaly_ssp126 = xr.open_dataset('/nobackup/users/lulur/tas-anomaly_'+model_name+'_ssp126.nc')\n",
    "    tas_anomaly_ssp245 = xr.open_dataset('/nobackup/users/lulur/tas-anomaly_'+model_name+'_ssp245.nc')\n",
    "    tas_anomaly_ssp370 = xr.open_dataset('/nobackup/users/lulur/tas-anomaly_'+model_name+'_ssp370.nc')\n",
    "    tas_anomaly_ssp585 = xr.open_dataset('/nobackup/users/lulur/tas-anomaly_'+model_name+'_ssp585.nc')\n",
    "    tas_anomalies = [tas_anomaly_hist,tas_anomaly_ssp126,tas_anomaly_ssp245,tas_anomaly_ssp370,tas_anomaly_ssp585]\n",
    "    return tas_anomalies"
   ]
  },
  {
   "cell_type": "code",
   "execution_count": null,
   "metadata": {},
   "outputs": [],
   "source": [
    "BCC_tas_anomalies = load_all_models('BCC-CSM2-MR')\n",
    "#WACCM_tas_anomalies = load_all_models('CESM2-WACCM')\n",
    "ACCESS_CM2_tas_anomalies = load_all_models('ACCESS-CM2') #this one works but doesn't have ssp370"
   ]
  },
  {
   "cell_type": "code",
   "execution_count": null,
   "metadata": {},
   "outputs": [],
   "source": [
    "def calc_ann_max(msts):\n",
    "    years = []\n",
    "    year_maxes = []\n",
    "    for yr, tas in msts.groupby('time.year'):\n",
    "        years.append(yr)\n",
    "        max_temp = -100\n",
    "        for t in tas['tas']:\n",
    "            #print(tas)\n",
    "            if t > max_temp:\n",
    "                max_temp = t\n",
    "        year_maxes.append(max_temp)\n",
    "    \n",
    "    return years, year_maxes"
   ]
  },
  {
   "cell_type": "code",
   "execution_count": 5,
   "metadata": {},
   "outputs": [],
   "source": [
    "def download_day_mx2t(year,month,day):\n",
    "    \"\"\"\n",
    "    year, month and day are all strings giving the day being requested. If month or day are single-digit, \n",
    "    must be in the format '01','02', etc.\n",
    "    \"\"\"\n",
    "    #variable shortname is mx2t\n",
    "    c = cdsapi.Client()\n",
    "    r = c.retrieve(\n",
    "        'reanalysis-era5-single-levels', {\n",
    "                'variable'    : 'maximum_2m_temperature_since_previous_post_processing',\n",
    "                'product_type': 'reanalysis',\n",
    "                'year'        : year,\n",
    "                'month'       : month,\n",
    "                'day'         : day,\n",
    "                'time'        : [\n",
    "                    '00:00','01:00','02:00',\n",
    "                    '03:00','04:00','05:00',\n",
    "                    '06:00','07:00','08:00',\n",
    "                    '09:00','10:00','11:00',\n",
    "                    '12:00','13:00','14:00',\n",
    "                    '15:00','16:00','17:00',\n",
    "                    '18:00','19:00','20:00',\n",
    "                    '21:00','22:00','23:00'\n",
    "                ],\n",
    "                'format'      : 'netcdf'\n",
    "        })\n",
    "    r.download('/nobackup/users/lulur/ERA5_day_temps/mx2t_'+year+month+day+'.nc')\n",
    "\n",
    "def delete_day_mx2t(year,month,day):\n",
    "    os.remove('/nobackup/users/lulur/ERA5_day_temps/mx2t_'+year+month+day+'.nc')\n",
    "\n",
    "def find_arctic_mean_daily_max(year,month,day):\n",
    "    download_day_mx2t(year,month,day)\n",
    "    ds = xr.open_dataset('/nobackup/users/lulur/ERA5_day_temps/mx2t_'+year+month+day+'.nc')\n",
    "    mean_temp = arctic_mean(ds)\n",
    "    dailymax = mean_temp.max(dim='time')\n",
    "    delete_day_mx2t(year,month,day)\n",
    "    \n",
    "    return float(dailymax['mx2t'])\n",
    "\n",
    "def find_arctic_daily_maxes(year):\n",
    "    months = ['01','02','03','04','05','06','07','08','09','10','11','12']\n",
    "    days31 = ['01','03','05','07','08','10','12']\n",
    "    daily_maxes = []\n",
    "    for month in months:\n",
    "        if month in days31:\n",
    "            days = np.arange(1,32)\n",
    "        elif month == '02':\n",
    "            days = np.arange(1,29)\n",
    "        else:\n",
    "            days = np.arange(1,31)\n",
    "        for day in days:\n",
    "            if len(str(day))==1:\n",
    "                day = '0'+str(day)\n",
    "            else:\n",
    "                day = str(day)\n",
    "            print('finding max of month '+month+', day '+day)\n",
    "            dailymax = find_arctic_mean_daily_max(year, month, day)\n",
    "            daily_maxes.append(dailymax)\n",
    "    \n",
    "    return daily_maxes\n",
    "\n",
    "def find_arctic_mean_daily_mean(year,month,day):\n",
    "    download_day_mx2t(year,month,day)\n",
    "    ds = xr.open_dataset('/nobackup/users/lulur/ERA5_day_temps/mx2t_'+year+month+day+'.nc')\n",
    "    mean_temp = arctic_mean(ds)\n",
    "    dailymax = mean_temp.mean(dim='time')\n",
    "    delete_day_mx2t(year,month,day)\n",
    "    \n",
    "    return float(dailymax['mx2t'])\n",
    "\n",
    "def find_arctic_summer_daily_means(year):\n",
    "    months = ['05','06','07','08','09']\n",
    "    days31 = ['01','03','05','07','08','10','12']\n",
    "    daily_means = []\n",
    "    for month in months:\n",
    "        if month in days31:\n",
    "            days = np.arange(1,32)\n",
    "        elif month == '02':\n",
    "            days = np.arange(1,29)\n",
    "        else:\n",
    "            days = np.arange(1,31)\n",
    "        for day in days:\n",
    "            if len(str(day))==1:\n",
    "                day = '0'+str(day)\n",
    "            else:\n",
    "                day = str(day)\n",
    "            print('finding mean of month '+month+', day '+day)\n",
    "            dailymean = find_arctic_mean_daily_mean(year, month, day)\n",
    "            daily_means.append(dailymean)\n",
    "    \n",
    "    return daily_means\n",
    "\n",
    "#use xarray.ufuncs.maximum"
   ]
  },
  {
   "cell_type": "code",
   "execution_count": 10,
   "metadata": {},
   "outputs": [],
   "source": [
    "np.savetxt('/nobackup/users/lulur/ERA5_day_temps/mx2t_means_2016',means2016)"
   ]
  },
  {
   "cell_type": "code",
   "execution_count": 11,
   "metadata": {},
   "outputs": [
    {
     "name": "stdout",
     "output_type": "stream",
     "text": [
      "finding mean of month 05, day 01\n"
     ]
    },
    {
     "name": "stderr",
     "output_type": "stream",
     "text": [
      "2021-07-16 18:23:31,706 INFO Welcome to the CDS\n",
      "2021-07-16 18:23:31,707 INFO Sending request to https://cds.climate.copernicus.eu/api/v2/resources/reanalysis-era5-single-levels\n",
      "2021-07-16 18:23:31,805 INFO Request is queued\n",
      "2021-07-16 18:23:32,887 INFO Request is running\n",
      "2021-07-16 18:23:40,264 INFO Request is completed\n",
      "2021-07-16 18:23:40,265 INFO Downloading https://download-0003.copernicus-climate.eu/cache-compute-0003/cache/data8/adaptor.mars.internal-1626474216.2339873-18364-14-4420f6f8-f74a-4d55-8a42-7d4611137374.nc to /nobackup/users/lulur/ERA5_day_temps/mx2t_20140501.nc (47.5M)\n",
      "2021-07-16 18:23:58,875 INFO Download rate 2.6M/s   \n",
      "2021-07-16 18:23:59,111 INFO Welcome to the CDS\n",
      "2021-07-16 18:23:59,112 INFO Sending request to https://cds.climate.copernicus.eu/api/v2/resources/reanalysis-era5-single-levels\n",
      "2021-07-16 18:23:59,200 INFO Request is queued\n"
     ]
    },
    {
     "name": "stdout",
     "output_type": "stream",
     "text": [
      "finding mean of month 05, day 02\n"
     ]
    },
    {
     "name": "stderr",
     "output_type": "stream",
     "text": [
      "2021-07-16 18:24:00,283 INFO Request is running\n",
      "2021-07-16 18:24:07,663 INFO Request is completed\n",
      "2021-07-16 18:24:07,663 INFO Downloading https://download-0000.copernicus-climate.eu/cache-compute-0000/cache/data2/adaptor.mars.internal-1626474243.493895-12317-15-ac3f5c8d-41b4-4680-b88d-e9c579611be7.nc to /nobackup/users/lulur/ERA5_day_temps/mx2t_20140502.nc (47.5M)\n",
      "2021-07-16 18:24:12,573 INFO Download rate 9.7M/s   \n",
      "2021-07-16 18:24:12,798 INFO Welcome to the CDS\n",
      "2021-07-16 18:24:12,798 INFO Sending request to https://cds.climate.copernicus.eu/api/v2/resources/reanalysis-era5-single-levels\n",
      "2021-07-16 18:24:12,886 INFO Request is queued\n"
     ]
    },
    {
     "name": "stdout",
     "output_type": "stream",
     "text": [
      "finding mean of month 05, day 03\n"
     ]
    },
    {
     "name": "stderr",
     "output_type": "stream",
     "text": [
      "2021-07-16 18:24:13,970 INFO Request is running\n",
      "2021-07-16 18:24:18,171 INFO Request is completed\n",
      "2021-07-16 18:24:18,172 INFO Downloading https://download-0009.copernicus-climate.eu/cache-compute-0009/cache/data5/adaptor.mars.internal-1626474255.6203418-20707-11-467155c1-b8c0-42d3-81d1-45d9d00d7120.nc to /nobackup/users/lulur/ERA5_day_temps/mx2t_20140503.nc (47.5M)\n",
      "2021-07-16 18:24:25,021 INFO Download rate 6.9M/s   \n",
      "2021-07-16 18:24:25,255 INFO Welcome to the CDS\n",
      "2021-07-16 18:24:25,256 INFO Sending request to https://cds.climate.copernicus.eu/api/v2/resources/reanalysis-era5-single-levels\n",
      "2021-07-16 18:24:25,344 INFO Request is queued\n"
     ]
    },
    {
     "name": "stdout",
     "output_type": "stream",
     "text": [
      "finding mean of month 05, day 04\n"
     ]
    },
    {
     "name": "stderr",
     "output_type": "stream",
     "text": [
      "2021-07-16 18:24:26,426 INFO Request is running\n",
      "2021-07-16 18:24:33,802 INFO Request is completed\n",
      "2021-07-16 18:24:33,802 INFO Downloading https://download-0012.copernicus-climate.eu/cache-compute-0012/cache/data9/adaptor.mars.internal-1626474269.8075955-11009-1-1753a6d0-8a2a-4652-bbd1-51cd58a00ced.nc to /nobackup/users/lulur/ERA5_day_temps/mx2t_20140504.nc (47.5M)\n",
      "2021-07-16 18:24:38,740 INFO Download rate 9.6M/s   \n",
      "2021-07-16 18:24:38,968 INFO Welcome to the CDS\n",
      "2021-07-16 18:24:38,968 INFO Sending request to https://cds.climate.copernicus.eu/api/v2/resources/reanalysis-era5-single-levels\n",
      "2021-07-16 18:24:39,056 INFO Request is queued\n"
     ]
    },
    {
     "name": "stdout",
     "output_type": "stream",
     "text": [
      "finding mean of month 05, day 05\n"
     ]
    },
    {
     "name": "stderr",
     "output_type": "stream",
     "text": [
      "2021-07-16 18:24:40,139 INFO Request is running\n",
      "2021-07-16 18:24:48,233 INFO Request is completed\n",
      "2021-07-16 18:24:48,234 INFO Downloading https://download-0003.copernicus-climate.eu/cache-compute-0003/cache/data0/adaptor.mars.internal-1626474283.7906163-29150-11-5e9ff4cd-5c79-4e96-ae3f-eaf84db5ace5.nc to /nobackup/users/lulur/ERA5_day_temps/mx2t_20140505.nc (47.5M)\n",
      "2021-07-16 18:25:22,682 INFO Download rate 1.4M/s   \n",
      "2021-07-16 18:25:22,905 INFO Welcome to the CDS\n",
      "2021-07-16 18:25:22,906 INFO Sending request to https://cds.climate.copernicus.eu/api/v2/resources/reanalysis-era5-single-levels\n",
      "2021-07-16 18:25:22,996 INFO Request is queued\n"
     ]
    },
    {
     "name": "stdout",
     "output_type": "stream",
     "text": [
      "finding mean of month 05, day 06\n"
     ]
    },
    {
     "name": "stderr",
     "output_type": "stream",
     "text": [
      "2021-07-16 18:25:24,079 INFO Request is running\n",
      "2021-07-16 18:25:31,742 INFO Request is completed\n",
      "2021-07-16 18:25:31,742 INFO Downloading https://download-0008.copernicus-climate.eu/cache-compute-0008/cache/data4/adaptor.mars.internal-1626474327.398738-19392-6-bb93c451-47b6-44c7-8dd2-6ea9922d8ccc.nc to /nobackup/users/lulur/ERA5_day_temps/mx2t_20140506.nc (47.5M)\n",
      "2021-07-16 18:26:51,475 INFO Download rate 610.5K/s \n",
      "2021-07-16 18:26:51,938 INFO Welcome to the CDS\n",
      "2021-07-16 18:26:51,939 INFO Sending request to https://cds.climate.copernicus.eu/api/v2/resources/reanalysis-era5-single-levels\n",
      "2021-07-16 18:26:52,028 INFO Request is queued\n"
     ]
    },
    {
     "name": "stdout",
     "output_type": "stream",
     "text": [
      "finding mean of month 05, day 07\n"
     ]
    },
    {
     "name": "stderr",
     "output_type": "stream",
     "text": [
      "2021-07-16 18:26:53,110 INFO Request is running\n",
      "2021-07-16 18:27:00,486 INFO Request is completed\n",
      "2021-07-16 18:27:00,486 INFO Downloading https://download-0009.copernicus-climate.eu/cache-compute-0009/cache/data6/adaptor.mars.internal-1626474415.869064-20707-13-f4b71495-b640-4c74-93a1-64c096a38f34.nc to /nobackup/users/lulur/ERA5_day_temps/mx2t_20140507.nc (47.5M)\n",
      "2021-07-16 18:27:07,061 INFO Download rate 7.2M/s   \n",
      "2021-07-16 18:27:07,296 INFO Welcome to the CDS\n",
      "2021-07-16 18:27:07,296 INFO Sending request to https://cds.climate.copernicus.eu/api/v2/resources/reanalysis-era5-single-levels\n",
      "2021-07-16 18:27:07,382 INFO Request is queued\n"
     ]
    },
    {
     "name": "stdout",
     "output_type": "stream",
     "text": [
      "finding mean of month 05, day 08\n"
     ]
    },
    {
     "name": "stderr",
     "output_type": "stream",
     "text": [
      "2021-07-16 18:27:08,466 INFO Request is running\n",
      "2021-07-16 18:27:15,842 INFO Request is completed\n",
      "2021-07-16 18:27:15,843 INFO Downloading https://download-0014.copernicus-climate.eu/cache-compute-0014/cache/data3/adaptor.mars.internal-1626474431.4672306-30139-12-af7f8ad9-8144-4b9e-b21f-183477163b17.nc to /nobackup/users/lulur/ERA5_day_temps/mx2t_20140508.nc (47.5M)\n",
      "2021-07-16 18:27:27,312 INFO Download rate 4.1M/s   \n",
      "2021-07-16 18:27:27,535 INFO Welcome to the CDS\n",
      "2021-07-16 18:27:27,535 INFO Sending request to https://cds.climate.copernicus.eu/api/v2/resources/reanalysis-era5-single-levels\n",
      "2021-07-16 18:27:27,624 INFO Request is queued\n"
     ]
    },
    {
     "name": "stdout",
     "output_type": "stream",
     "text": [
      "finding mean of month 05, day 09\n"
     ]
    },
    {
     "name": "stderr",
     "output_type": "stream",
     "text": [
      "2021-07-16 18:27:29,028 INFO Request is running\n",
      "2021-07-16 18:27:32,946 INFO Request is completed\n",
      "2021-07-16 18:27:32,947 INFO Downloading https://download-0011.copernicus-climate.eu/cache-compute-0011/cache/data8/adaptor.mars.internal-1626474451.3213167-11453-5-6750c488-0ac3-4db5-a280-82aaedb9295b.nc to /nobackup/users/lulur/ERA5_day_temps/mx2t_20140509.nc (47.5M)\n",
      "2021-07-16 18:27:36,130 INFO Download rate 14.9M/s  \n",
      "2021-07-16 18:27:36,355 INFO Welcome to the CDS\n",
      "2021-07-16 18:27:36,356 INFO Sending request to https://cds.climate.copernicus.eu/api/v2/resources/reanalysis-era5-single-levels\n",
      "2021-07-16 18:27:36,442 INFO Request is queued\n"
     ]
    },
    {
     "name": "stdout",
     "output_type": "stream",
     "text": [
      "finding mean of month 05, day 10\n"
     ]
    },
    {
     "name": "stderr",
     "output_type": "stream",
     "text": [
      "2021-07-16 18:27:37,524 INFO Request is running\n",
      "2021-07-16 18:27:45,181 INFO Request is completed\n",
      "2021-07-16 18:27:45,182 INFO Downloading https://download-0010.copernicus-climate.eu/cache-compute-0010/cache/data0/adaptor.mars.internal-1626474461.4518373-5936-6-eed77559-179a-4bf3-b07f-cdca59799ce9.nc to /nobackup/users/lulur/ERA5_day_temps/mx2t_20140510.nc (47.5M)\n",
      "2021-07-16 18:27:48,582 INFO Download rate 14M/s    \n",
      "2021-07-16 18:27:48,804 INFO Welcome to the CDS\n",
      "2021-07-16 18:27:48,805 INFO Sending request to https://cds.climate.copernicus.eu/api/v2/resources/reanalysis-era5-single-levels\n"
     ]
    },
    {
     "name": "stdout",
     "output_type": "stream",
     "text": [
      "finding mean of month 05, day 11\n"
     ]
    },
    {
     "name": "stderr",
     "output_type": "stream",
     "text": [
      "2021-07-16 18:27:49,153 INFO Request is queued\n",
      "2021-07-16 18:27:50,235 INFO Request is running\n",
      "2021-07-16 18:27:57,610 INFO Request is completed\n",
      "2021-07-16 18:27:57,611 INFO Downloading https://download-0013.copernicus-climate.eu/cache-compute-0013/cache/data8/adaptor.mars.internal-1626474474.0067909-24719-12-0a0b5e9e-0458-48b1-a612-5ac0c62c41e6.nc to /nobackup/users/lulur/ERA5_day_temps/mx2t_20140511.nc (47.5M)\n",
      "2021-07-16 18:28:08,010 INFO Download rate 4.6M/s   \n",
      "2021-07-16 18:28:08,234 INFO Welcome to the CDS\n",
      "2021-07-16 18:28:08,234 INFO Sending request to https://cds.climate.copernicus.eu/api/v2/resources/reanalysis-era5-single-levels\n",
      "2021-07-16 18:28:08,322 INFO Request is queued\n"
     ]
    },
    {
     "name": "stdout",
     "output_type": "stream",
     "text": [
      "finding mean of month 05, day 12\n"
     ]
    },
    {
     "name": "stderr",
     "output_type": "stream",
     "text": [
      "2021-07-16 18:28:09,404 INFO Request is running\n",
      "2021-07-16 18:28:17,352 INFO Request is completed\n",
      "2021-07-16 18:28:17,353 INFO Downloading https://download-0015.copernicus-climate.eu/cache-compute-0015/cache/data0/adaptor.mars.internal-1626474492.7873187-3084-5-671883fc-b6a4-4f9c-9192-4cec34d1c69f.nc to /nobackup/users/lulur/ERA5_day_temps/mx2t_20140512.nc (47.5M)\n",
      "2021-07-16 18:28:22,730 INFO Download rate 8.8M/s   \n",
      "2021-07-16 18:28:22,953 INFO Welcome to the CDS\n",
      "2021-07-16 18:28:22,954 INFO Sending request to https://cds.climate.copernicus.eu/api/v2/resources/reanalysis-era5-single-levels\n",
      "2021-07-16 18:28:23,040 INFO Request is queued\n"
     ]
    },
    {
     "name": "stdout",
     "output_type": "stream",
     "text": [
      "finding mean of month 05, day 13\n"
     ]
    },
    {
     "name": "stderr",
     "output_type": "stream",
     "text": [
      "2021-07-16 18:28:24,124 INFO Request is running\n",
      "2021-07-16 18:28:31,500 INFO Request is completed\n",
      "2021-07-16 18:28:31,500 INFO Downloading https://download-0007.copernicus-climate.eu/cache-compute-0007/cache/data2/adaptor.mars.internal-1626474506.6422255-14666-16-45439797-052b-483b-aee7-0d855188c766.nc to /nobackup/users/lulur/ERA5_day_temps/mx2t_20140513.nc (47.5M)\n",
      "2021-07-16 18:28:38,832 INFO Download rate 6.5M/s   \n",
      "2021-07-16 18:28:39,055 INFO Welcome to the CDS\n",
      "2021-07-16 18:28:39,056 INFO Sending request to https://cds.climate.copernicus.eu/api/v2/resources/reanalysis-era5-single-levels\n"
     ]
    },
    {
     "name": "stdout",
     "output_type": "stream",
     "text": [
      "finding mean of month 05, day 14\n"
     ]
    },
    {
     "name": "stderr",
     "output_type": "stream",
     "text": [
      "2021-07-16 18:28:39,423 INFO Request is queued\n",
      "2021-07-16 18:28:40,507 INFO Request is running\n",
      "2021-07-16 18:28:44,424 INFO Request is completed\n",
      "2021-07-16 18:28:44,425 INFO Downloading https://download-0011.copernicus-climate.eu/cache-compute-0011/cache/data3/adaptor.mars.internal-1626474522.2312949-6401-9-213bf258-c50f-4a4e-86ca-74106e58ba51.nc to /nobackup/users/lulur/ERA5_day_temps/mx2t_20140514.nc (47.5M)\n",
      "2021-07-16 18:29:03,106 INFO Download rate 2.5M/s   \n"
     ]
    },
    {
     "name": "stdout",
     "output_type": "stream",
     "text": [
      "finding mean of month 05, day 15\n"
     ]
    },
    {
     "name": "stderr",
     "output_type": "stream",
     "text": [
      "2021-07-16 18:29:03,612 INFO Welcome to the CDS\n",
      "2021-07-16 18:29:03,612 INFO Sending request to https://cds.climate.copernicus.eu/api/v2/resources/reanalysis-era5-single-levels\n",
      "2021-07-16 18:29:03,703 INFO Request is queued\n",
      "2021-07-16 18:29:04,786 INFO Request is running\n",
      "2021-07-16 18:29:12,163 INFO Request is completed\n",
      "2021-07-16 18:29:12,163 INFO Downloading https://download-0003.copernicus-climate.eu/cache-compute-0003/cache/data1/adaptor.mars.internal-1626474548.0687144-5024-3-2a9d784d-89fb-4189-a4d3-4dab8e1c3f6a.nc to /nobackup/users/lulur/ERA5_day_temps/mx2t_20140515.nc (47.5M)\n",
      "2021-07-16 18:29:18,162 INFO Download rate 7.9M/s   \n",
      "2021-07-16 18:29:18,386 INFO Welcome to the CDS\n",
      "2021-07-16 18:29:18,386 INFO Sending request to https://cds.climate.copernicus.eu/api/v2/resources/reanalysis-era5-single-levels\n",
      "2021-07-16 18:29:18,473 INFO Request is queued\n"
     ]
    },
    {
     "name": "stdout",
     "output_type": "stream",
     "text": [
      "finding mean of month 05, day 16\n"
     ]
    },
    {
     "name": "stderr",
     "output_type": "stream",
     "text": [
      "2021-07-16 18:29:19,556 INFO Request is running\n",
      "2021-07-16 18:29:27,241 INFO Request is completed\n",
      "2021-07-16 18:29:27,242 INFO Downloading https://download-0014.copernicus-climate.eu/cache-compute-0014/cache/data0/adaptor.mars.internal-1626474562.4700043-29022-17-fe9d7082-0357-4731-bb73-d4cc8d0c5433.nc to /nobackup/users/lulur/ERA5_day_temps/mx2t_20140516.nc (47.5M)\n",
      "2021-07-16 18:30:01,348 INFO Download rate 1.4M/s   \n",
      "2021-07-16 18:30:01,569 INFO Welcome to the CDS\n",
      "2021-07-16 18:30:01,569 INFO Sending request to https://cds.climate.copernicus.eu/api/v2/resources/reanalysis-era5-single-levels\n"
     ]
    },
    {
     "name": "stdout",
     "output_type": "stream",
     "text": [
      "finding mean of month 05, day 17\n"
     ]
    },
    {
     "name": "stderr",
     "output_type": "stream",
     "text": [
      "2021-07-16 18:30:01,938 INFO Request is queued\n",
      "2021-07-16 18:30:03,021 INFO Request is running\n",
      "2021-07-16 18:30:06,937 INFO Request is completed\n",
      "2021-07-16 18:30:06,937 INFO Downloading https://download-0009.copernicus-climate.eu/cache-compute-0009/cache/data5/adaptor.mars.internal-1626474605.469891-25683-7-2c2ed9f4-02b9-4e92-a793-514a3dc2b350.nc to /nobackup/users/lulur/ERA5_day_temps/mx2t_20140517.nc (47.5M)\n",
      "2021-07-16 18:30:30,944 INFO Download rate 2M/s     \n",
      "2021-07-16 18:30:31,166 INFO Welcome to the CDS\n",
      "2021-07-16 18:30:31,169 INFO Sending request to https://cds.climate.copernicus.eu/api/v2/resources/reanalysis-era5-single-levels\n",
      "2021-07-16 18:30:31,255 INFO Request is queued\n"
     ]
    },
    {
     "name": "stdout",
     "output_type": "stream",
     "text": [
      "finding mean of month 05, day 18\n"
     ]
    },
    {
     "name": "stderr",
     "output_type": "stream",
     "text": [
      "2021-07-16 18:30:32,337 INFO Request is running\n",
      "2021-07-16 18:30:39,996 INFO Request is completed\n",
      "2021-07-16 18:30:39,997 INFO Downloading https://download-0006.copernicus-climate.eu/cache-compute-0006/cache/data6/adaptor.mars.internal-1626474635.3729851-22239-18-1422f414-bc38-4c63-b571-b2a237940687.nc to /nobackup/users/lulur/ERA5_day_temps/mx2t_20140518.nc (47.5M)\n",
      "2021-07-16 18:30:46,966 INFO Download rate 6.8M/s   \n",
      "2021-07-16 18:30:47,189 INFO Welcome to the CDS\n",
      "2021-07-16 18:30:47,190 INFO Sending request to https://cds.climate.copernicus.eu/api/v2/resources/reanalysis-era5-single-levels\n",
      "2021-07-16 18:30:47,277 INFO Request is queued\n"
     ]
    },
    {
     "name": "stdout",
     "output_type": "stream",
     "text": [
      "finding mean of month 05, day 19\n"
     ]
    },
    {
     "name": "stderr",
     "output_type": "stream",
     "text": [
      "2021-07-16 18:30:48,360 INFO Request is running\n",
      "2021-07-16 18:30:52,562 INFO Request is completed\n",
      "2021-07-16 18:30:52,563 INFO Downloading https://download-0004.copernicus-climate.eu/cache-compute-0004/cache/data6/adaptor.mars.internal-1626474650.19489-20731-3-b0a6a546-069b-4993-96fd-143b5f5096c8.nc to /nobackup/users/lulur/ERA5_day_temps/mx2t_20140519.nc (47.5M)\n",
      "2021-07-16 18:30:57,230 INFO Download rate 10.2M/s  \n",
      "2021-07-16 18:30:57,453 INFO Welcome to the CDS\n",
      "2021-07-16 18:30:57,453 INFO Sending request to https://cds.climate.copernicus.eu/api/v2/resources/reanalysis-era5-single-levels\n",
      "2021-07-16 18:30:57,540 INFO Request is queued\n"
     ]
    },
    {
     "name": "stdout",
     "output_type": "stream",
     "text": [
      "finding mean of month 05, day 20\n"
     ]
    },
    {
     "name": "stderr",
     "output_type": "stream",
     "text": [
      "2021-07-16 18:30:58,623 INFO Request is running\n",
      "2021-07-16 18:31:06,282 INFO Request is completed\n",
      "2021-07-16 18:31:06,283 INFO Downloading https://download-0002.copernicus-climate.eu/cache-compute-0002/cache/data0/adaptor.mars.internal-1626474661.9018867-15684-10-1603a7c0-234e-43c2-b7d7-6045c39e9665.nc to /nobackup/users/lulur/ERA5_day_temps/mx2t_20140520.nc (47.5M)\n",
      "2021-07-16 18:31:12,002 INFO Download rate 8.3M/s   \n",
      "2021-07-16 18:31:13,072 INFO Welcome to the CDS\n",
      "2021-07-16 18:31:13,073 INFO Sending request to https://cds.climate.copernicus.eu/api/v2/resources/reanalysis-era5-single-levels\n",
      "2021-07-16 18:31:13,160 INFO Request is queued\n"
     ]
    },
    {
     "name": "stdout",
     "output_type": "stream",
     "text": [
      "finding mean of month 05, day 21\n"
     ]
    },
    {
     "name": "stderr",
     "output_type": "stream",
     "text": [
      "2021-07-16 18:31:14,243 INFO Request is running\n",
      "2021-07-16 18:31:22,517 INFO Request is completed\n",
      "2021-07-16 18:31:22,518 INFO Downloading https://download-0000.copernicus-climate.eu/cache-compute-0000/cache/data7/adaptor.mars.internal-1626474678.047999-5242-8-d458c824-8d02-4ece-823a-a2b7e0f57593.nc to /nobackup/users/lulur/ERA5_day_temps/mx2t_20140521.nc (47.5M)\n",
      "2021-07-16 18:31:25,761 INFO Download rate 14.7M/s  \n",
      "2021-07-16 18:31:25,986 INFO Welcome to the CDS\n",
      "2021-07-16 18:31:25,987 INFO Sending request to https://cds.climate.copernicus.eu/api/v2/resources/reanalysis-era5-single-levels\n",
      "2021-07-16 18:31:26,074 INFO Request is queued\n"
     ]
    },
    {
     "name": "stdout",
     "output_type": "stream",
     "text": [
      "finding mean of month 05, day 22\n"
     ]
    },
    {
     "name": "stderr",
     "output_type": "stream",
     "text": [
      "2021-07-16 18:31:27,158 INFO Request is running\n",
      "2021-07-16 18:31:34,535 INFO Request is completed\n",
      "2021-07-16 18:31:34,535 INFO Downloading https://download-0013.copernicus-climate.eu/cache-compute-0013/cache/data8/adaptor.mars.internal-1626474690.158373-27918-5-acdc414a-06cf-4a85-a492-b3db3930c842.nc to /nobackup/users/lulur/ERA5_day_temps/mx2t_20140522.nc (47.5M)\n",
      "2021-07-16 18:31:38,183 INFO Download rate 13M/s    \n",
      "2021-07-16 18:31:38,733 INFO Welcome to the CDS\n",
      "2021-07-16 18:31:38,733 INFO Sending request to https://cds.climate.copernicus.eu/api/v2/resources/reanalysis-era5-single-levels\n",
      "2021-07-16 18:31:38,823 INFO Request is queued\n"
     ]
    },
    {
     "name": "stdout",
     "output_type": "stream",
     "text": [
      "finding mean of month 05, day 23\n"
     ]
    },
    {
     "name": "stderr",
     "output_type": "stream",
     "text": [
      "2021-07-16 18:31:39,906 INFO Request is running\n",
      "2021-07-16 18:31:43,824 INFO Request is completed\n",
      "2021-07-16 18:31:43,824 INFO Downloading https://download-0006.copernicus-climate.eu/cache-compute-0006/cache/data3/adaptor.mars.internal-1626474702.2646606-32034-2-bb1f9844-8b7f-43e1-bd16-b5591a28dbe2.nc to /nobackup/users/lulur/ERA5_day_temps/mx2t_20140523.nc (47.5M)\n",
      "2021-07-16 18:32:30,371 INFO Download rate 1M/s     \n"
     ]
    },
    {
     "name": "stdout",
     "output_type": "stream",
     "text": [
      "finding mean of month 05, day 24\n"
     ]
    },
    {
     "name": "stderr",
     "output_type": "stream",
     "text": [
      "2021-07-16 18:32:30,890 INFO Welcome to the CDS\n",
      "2021-07-16 18:32:30,891 INFO Sending request to https://cds.climate.copernicus.eu/api/v2/resources/reanalysis-era5-single-levels\n",
      "2021-07-16 18:32:30,980 INFO Request is queued\n",
      "2021-07-16 18:32:32,063 INFO Request is running\n",
      "2021-07-16 18:32:39,440 INFO Request is completed\n",
      "2021-07-16 18:32:39,441 INFO Downloading https://download-0000.copernicus-climate.eu/cache-compute-0000/cache/data3/adaptor.mars.internal-1626474755.4539723-5242-9-5c64cebe-13a0-44a1-8187-a473406bc5bf.nc to /nobackup/users/lulur/ERA5_day_temps/mx2t_20140524.nc (47.5M)\n",
      "2021-07-16 18:32:43,785 INFO Download rate 10.9M/s  \n",
      "2021-07-16 18:32:44,017 INFO Welcome to the CDS\n",
      "2021-07-16 18:32:44,017 INFO Sending request to https://cds.climate.copernicus.eu/api/v2/resources/reanalysis-era5-single-levels\n",
      "2021-07-16 18:32:44,105 INFO Request is queued\n"
     ]
    },
    {
     "name": "stdout",
     "output_type": "stream",
     "text": [
      "finding mean of month 05, day 25\n"
     ]
    },
    {
     "name": "stderr",
     "output_type": "stream",
     "text": [
      "2021-07-16 18:32:45,187 INFO Request is running\n",
      "2021-07-16 18:32:49,103 INFO Request is completed\n",
      "2021-07-16 18:32:49,104 INFO Downloading https://download-0007.copernicus-climate.eu/cache-compute-0007/cache/data7/adaptor.mars.internal-1626474767.4522674-14514-15-9d8407db-7bea-4cc7-9519-3d285c071948.nc to /nobackup/users/lulur/ERA5_day_temps/mx2t_20140525.nc (47.5M)\n",
      "2021-07-16 18:32:53,748 INFO Download rate 10.2M/s  \n",
      "2021-07-16 18:32:53,969 INFO Welcome to the CDS\n",
      "2021-07-16 18:32:53,970 INFO Sending request to https://cds.climate.copernicus.eu/api/v2/resources/reanalysis-era5-single-levels\n",
      "2021-07-16 18:32:54,055 INFO Request is queued\n"
     ]
    },
    {
     "name": "stdout",
     "output_type": "stream",
     "text": [
      "finding mean of month 05, day 26\n"
     ]
    },
    {
     "name": "stderr",
     "output_type": "stream",
     "text": [
      "2021-07-16 18:32:55,138 INFO Request is running\n",
      "2021-07-16 18:33:03,082 INFO Request is completed\n",
      "2021-07-16 18:33:03,083 INFO Downloading https://download-0001.copernicus-climate.eu/cache-compute-0001/cache/data8/adaptor.mars.internal-1626474778.1292942-25172-19-4667f9af-c899-4021-a926-4e5e2b94b13f.nc to /nobackup/users/lulur/ERA5_day_temps/mx2t_20140526.nc (47.5M)\n",
      "2021-07-16 18:33:09,860 INFO Download rate 7M/s     \n",
      "2021-07-16 18:33:10,084 INFO Welcome to the CDS\n",
      "2021-07-16 18:33:10,085 INFO Sending request to https://cds.climate.copernicus.eu/api/v2/resources/reanalysis-era5-single-levels\n",
      "2021-07-16 18:33:10,171 INFO Request is queued\n"
     ]
    },
    {
     "name": "stdout",
     "output_type": "stream",
     "text": [
      "finding mean of month 05, day 27\n"
     ]
    },
    {
     "name": "stderr",
     "output_type": "stream",
     "text": [
      "2021-07-16 18:33:11,253 INFO Request is running\n",
      "2021-07-16 18:33:18,915 INFO Request is completed\n",
      "2021-07-16 18:33:18,916 INFO Downloading https://download-0013.copernicus-climate.eu/cache-compute-0013/cache/data1/adaptor.mars.internal-1626474794.4067047-28100-8-d5651ee1-b8ee-43d5-85ed-b59fd187d788.nc to /nobackup/users/lulur/ERA5_day_temps/mx2t_20140527.nc (47.5M)\n",
      "2021-07-16 18:34:12,147 INFO Download rate 914.5K/s \n",
      "2021-07-16 18:34:12,378 INFO Welcome to the CDS\n",
      "2021-07-16 18:34:12,378 INFO Sending request to https://cds.climate.copernicus.eu/api/v2/resources/reanalysis-era5-single-levels\n",
      "2021-07-16 18:34:12,468 INFO Request is queued\n"
     ]
    },
    {
     "name": "stdout",
     "output_type": "stream",
     "text": [
      "finding mean of month 05, day 28\n"
     ]
    },
    {
     "name": "stderr",
     "output_type": "stream",
     "text": [
      "2021-07-16 18:34:13,550 INFO Request is running\n",
      "2021-07-16 18:34:17,750 INFO Request is completed\n",
      "2021-07-16 18:34:17,751 INFO Downloading https://download-0006.copernicus-climate.eu/cache-compute-0006/cache/data6/adaptor.mars.internal-1626474855.1130836-27220-9-a4d980d6-bbd7-4858-9354-e506b8fc81d2.nc to /nobackup/users/lulur/ERA5_day_temps/mx2t_20140528.nc (47.5M)\n",
      "2021-07-16 18:34:24,813 INFO Download rate 6.7M/s   \n",
      "2021-07-16 18:34:25,036 INFO Welcome to the CDS\n",
      "2021-07-16 18:34:25,038 INFO Sending request to https://cds.climate.copernicus.eu/api/v2/resources/reanalysis-era5-single-levels\n",
      "2021-07-16 18:34:25,125 INFO Request is queued\n"
     ]
    },
    {
     "name": "stdout",
     "output_type": "stream",
     "text": [
      "finding mean of month 05, day 29\n"
     ]
    },
    {
     "name": "stderr",
     "output_type": "stream",
     "text": [
      "2021-07-16 18:34:26,207 INFO Request is running\n",
      "2021-07-16 18:34:30,125 INFO Request is completed\n",
      "2021-07-16 18:34:30,125 INFO Downloading https://download-0000.copernicus-climate.eu/cache-compute-0000/cache/data2/adaptor.mars.internal-1626474868.1133754-11345-16-69225713-a013-481b-a3a1-89be4d534c6e.nc to /nobackup/users/lulur/ERA5_day_temps/mx2t_20140529.nc (47.5M)\n",
      "2021-07-16 18:35:39,180 INFO Download rate 704.9K/s \n"
     ]
    },
    {
     "name": "stdout",
     "output_type": "stream",
     "text": [
      "finding mean of month 05, day 30\n"
     ]
    },
    {
     "name": "stderr",
     "output_type": "stream",
     "text": [
      "2021-07-16 18:35:39,929 INFO Welcome to the CDS\n",
      "2021-07-16 18:35:39,930 INFO Sending request to https://cds.climate.copernicus.eu/api/v2/resources/reanalysis-era5-single-levels\n",
      "2021-07-16 18:35:40,017 INFO Request is queued\n",
      "2021-07-16 18:35:41,101 INFO Request is running\n",
      "2021-07-16 18:35:48,477 INFO Request is completed\n",
      "2021-07-16 18:35:48,478 INFO Downloading https://download-0009.copernicus-climate.eu/cache-compute-0009/cache/data5/adaptor.mars.internal-1626474944.1986933-24526-11-6c36b459-4f0e-423f-ac44-fb87f9ebd83b.nc to /nobackup/users/lulur/ERA5_day_temps/mx2t_20140530.nc (47.5M)\n",
      "2021-07-16 18:36:07,020 INFO Download rate 2.6M/s   \n",
      "2021-07-16 18:36:07,242 INFO Welcome to the CDS\n",
      "2021-07-16 18:36:07,244 INFO Sending request to https://cds.climate.copernicus.eu/api/v2/resources/reanalysis-era5-single-levels\n",
      "2021-07-16 18:36:07,333 INFO Request is queued\n"
     ]
    },
    {
     "name": "stdout",
     "output_type": "stream",
     "text": [
      "finding mean of month 05, day 31\n"
     ]
    },
    {
     "name": "stderr",
     "output_type": "stream",
     "text": [
      "2021-07-16 18:36:08,416 INFO Request is running\n",
      "2021-07-16 18:36:16,075 INFO Request is completed\n",
      "2021-07-16 18:36:16,075 INFO Downloading https://download-0002.copernicus-climate.eu/cache-compute-0002/cache/data1/adaptor.mars.internal-1626474971.496291-23805-3-8dcf9788-a6bd-4987-a1c8-e2e1d42b76c0.nc to /nobackup/users/lulur/ERA5_day_temps/mx2t_20140531.nc (47.5M)\n",
      "2021-07-16 18:36:21,762 INFO Download rate 8.4M/s   \n",
      "2021-07-16 18:36:22,828 INFO Welcome to the CDS\n",
      "2021-07-16 18:36:22,829 INFO Sending request to https://cds.climate.copernicus.eu/api/v2/resources/reanalysis-era5-single-levels\n",
      "2021-07-16 18:36:22,917 INFO Request is queued\n"
     ]
    },
    {
     "name": "stdout",
     "output_type": "stream",
     "text": [
      "finding mean of month 06, day 01\n"
     ]
    },
    {
     "name": "stderr",
     "output_type": "stream",
     "text": [
      "2021-07-16 18:36:23,999 INFO Request is running\n",
      "2021-07-16 18:36:28,252 INFO Request is completed\n",
      "2021-07-16 18:36:28,253 INFO Downloading https://download-0011.copernicus-climate.eu/cache-compute-0011/cache/data8/adaptor.mars.internal-1626474985.41079-19383-1-99fc46bb-7fc3-4e8c-9c95-37acbf0dbf65.nc to /nobackup/users/lulur/ERA5_day_temps/mx2t_20140601.nc (47.5M)\n",
      "2021-07-16 18:36:32,631 INFO Download rate 10.9M/s  \n",
      "2021-07-16 18:36:32,856 INFO Welcome to the CDS\n",
      "2021-07-16 18:36:32,857 INFO Sending request to https://cds.climate.copernicus.eu/api/v2/resources/reanalysis-era5-single-levels\n",
      "2021-07-16 18:36:32,943 INFO Request is queued\n"
     ]
    },
    {
     "name": "stdout",
     "output_type": "stream",
     "text": [
      "finding mean of month 06, day 02\n"
     ]
    },
    {
     "name": "stderr",
     "output_type": "stream",
     "text": [
      "2021-07-16 18:36:34,025 INFO Request is running\n",
      "2021-07-16 18:36:38,226 INFO Request is completed\n",
      "2021-07-16 18:36:38,227 INFO Downloading https://download-0000.copernicus-climate.eu/cache-compute-0000/cache/data3/adaptor.mars.internal-1626474995.57876-23465-7-e64e1eb6-a1cd-4667-a625-8e28572ec4b1.nc to /nobackup/users/lulur/ERA5_day_temps/mx2t_20140602.nc (47.5M)\n",
      "2021-07-16 18:37:27,585 INFO Download rate 986.2K/s \n",
      "2021-07-16 18:37:27,822 INFO Welcome to the CDS\n",
      "2021-07-16 18:37:27,822 INFO Sending request to https://cds.climate.copernicus.eu/api/v2/resources/reanalysis-era5-single-levels\n",
      "2021-07-16 18:37:27,910 INFO Request is queued\n"
     ]
    },
    {
     "name": "stdout",
     "output_type": "stream",
     "text": [
      "finding mean of month 06, day 03\n"
     ]
    },
    {
     "name": "stderr",
     "output_type": "stream",
     "text": [
      "2021-07-16 18:37:28,993 INFO Request is running\n",
      "2021-07-16 18:37:32,911 INFO Request is completed\n",
      "2021-07-16 18:37:32,912 INFO Downloading https://download-0001.copernicus-climate.eu/cache-compute-0001/cache/data2/adaptor.mars.internal-1626475049.8720686-4504-2-07566931-dcab-4e33-ae22-20a1cd69f95c.nc to /nobackup/users/lulur/ERA5_day_temps/mx2t_20140603.nc (47.5M)\n",
      "2021-07-16 18:37:39,334 INFO Download rate 7.4M/s   \n",
      "2021-07-16 18:37:39,557 INFO Welcome to the CDS\n",
      "2021-07-16 18:37:39,557 INFO Sending request to https://cds.climate.copernicus.eu/api/v2/resources/reanalysis-era5-single-levels\n",
      "2021-07-16 18:37:39,645 INFO Request is queued\n"
     ]
    },
    {
     "name": "stdout",
     "output_type": "stream",
     "text": [
      "finding mean of month 06, day 04\n"
     ]
    },
    {
     "name": "stderr",
     "output_type": "stream",
     "text": [
      "2021-07-16 18:37:40,729 INFO Request is running\n",
      "2021-07-16 18:37:48,832 INFO Request is completed\n",
      "2021-07-16 18:37:48,833 INFO Downloading https://download-0009.copernicus-climate.eu/cache-compute-0009/cache/data0/adaptor.mars.internal-1626475063.5968382-23162-18-5747f0aa-dcc6-48a4-858e-0a736c4d08ce.nc to /nobackup/users/lulur/ERA5_day_temps/mx2t_20140604.nc (47.5M)\n",
      "2021-07-16 18:37:56,774 INFO Download rate 6M/s     \n",
      "2021-07-16 18:37:57,010 INFO Welcome to the CDS\n",
      "2021-07-16 18:37:57,010 INFO Sending request to https://cds.climate.copernicus.eu/api/v2/resources/reanalysis-era5-single-levels\n",
      "2021-07-16 18:37:57,099 INFO Request is queued\n"
     ]
    },
    {
     "name": "stdout",
     "output_type": "stream",
     "text": [
      "finding mean of month 06, day 05\n"
     ]
    },
    {
     "name": "stderr",
     "output_type": "stream",
     "text": [
      "2021-07-16 18:37:58,181 INFO Request is running\n",
      "2021-07-16 18:38:05,561 INFO Request is completed\n",
      "2021-07-16 18:38:05,562 INFO Downloading https://download-0011.copernicus-climate.eu/cache-compute-0011/cache/data0/adaptor.mars.internal-1626475081.757488-19119-3-79c834e1-f56e-4d88-adde-76f77465d5f4.nc to /nobackup/users/lulur/ERA5_day_temps/mx2t_20140605.nc (47.5M)\n",
      "2021-07-16 18:38:16,452 INFO Download rate 4.4M/s   \n",
      "2021-07-16 18:38:16,992 INFO Welcome to the CDS\n",
      "2021-07-16 18:38:16,993 INFO Sending request to https://cds.climate.copernicus.eu/api/v2/resources/reanalysis-era5-single-levels\n",
      "2021-07-16 18:38:17,080 INFO Request is queued\n"
     ]
    },
    {
     "name": "stdout",
     "output_type": "stream",
     "text": [
      "finding mean of month 06, day 06\n"
     ]
    },
    {
     "name": "stderr",
     "output_type": "stream",
     "text": [
      "2021-07-16 18:38:18,163 INFO Request is running\n",
      "2021-07-16 18:38:25,538 INFO Request is completed\n",
      "2021-07-16 18:38:25,539 INFO Downloading https://download-0009.copernicus-climate.eu/cache-compute-0009/cache/data6/adaptor.mars.internal-1626475101.743941-24526-13-e3176cf1-b405-494e-8230-c340c963c850.nc to /nobackup/users/lulur/ERA5_day_temps/mx2t_20140606.nc (47.5M)\n",
      "2021-07-16 18:38:41,211 INFO Download rate 3M/s     \n",
      "2021-07-16 18:38:41,435 INFO Welcome to the CDS\n",
      "2021-07-16 18:38:41,435 INFO Sending request to https://cds.climate.copernicus.eu/api/v2/resources/reanalysis-era5-single-levels\n",
      "2021-07-16 18:38:41,522 INFO Request is queued\n"
     ]
    },
    {
     "name": "stdout",
     "output_type": "stream",
     "text": [
      "finding mean of month 06, day 07\n"
     ]
    },
    {
     "name": "stderr",
     "output_type": "stream",
     "text": [
      "2021-07-16 18:38:42,604 INFO Request is running\n",
      "2021-07-16 18:38:49,982 INFO Request is completed\n",
      "2021-07-16 18:38:49,983 INFO Downloading https://download-0007.copernicus-climate.eu/cache-compute-0007/cache/data3/adaptor.mars.internal-1626475125.3456063-21708-9-4980d26a-7722-4273-b250-d4f72002f290.nc to /nobackup/users/lulur/ERA5_day_temps/mx2t_20140607.nc (47.5M)\n",
      "2021-07-16 18:39:07,720 INFO Download rate 2.7M/s   \n",
      "2021-07-16 18:39:07,954 INFO Welcome to the CDS\n",
      "2021-07-16 18:39:07,955 INFO Sending request to https://cds.climate.copernicus.eu/api/v2/resources/reanalysis-era5-single-levels\n",
      "2021-07-16 18:39:08,043 INFO Request is queued\n"
     ]
    },
    {
     "name": "stdout",
     "output_type": "stream",
     "text": [
      "finding mean of month 06, day 08\n"
     ]
    },
    {
     "name": "stderr",
     "output_type": "stream",
     "text": [
      "2021-07-16 18:39:09,126 INFO Request is running\n",
      "2021-07-16 18:39:13,043 INFO Request is completed\n",
      "2021-07-16 18:39:13,043 INFO Downloading https://download-0011.copernicus-climate.eu/cache-compute-0011/cache/data8/adaptor.mars.internal-1626475151.0427022-6401-18-244f98eb-15a7-4221-b9b9-bf3701476395.nc to /nobackup/users/lulur/ERA5_day_temps/mx2t_20140608.nc (47.5M)\n",
      "2021-07-16 18:39:56,336 INFO Download rate 1.1M/s   \n",
      "2021-07-16 18:39:56,572 INFO Welcome to the CDS\n",
      "2021-07-16 18:39:56,572 INFO Sending request to https://cds.climate.copernicus.eu/api/v2/resources/reanalysis-era5-single-levels\n",
      "2021-07-16 18:39:56,662 INFO Request is queued\n"
     ]
    },
    {
     "name": "stdout",
     "output_type": "stream",
     "text": [
      "finding mean of month 06, day 09\n"
     ]
    },
    {
     "name": "stderr",
     "output_type": "stream",
     "text": [
      "2021-07-16 18:39:57,745 INFO Request is running\n",
      "2021-07-16 18:40:05,400 INFO Request is completed\n",
      "2021-07-16 18:40:05,401 INFO Downloading https://download-0007.copernicus-climate.eu/cache-compute-0007/cache/data3/adaptor.mars.internal-1626475200.3841205-16167-16-b531ec9b-dc02-4b2e-9609-d227bce48387.nc to /nobackup/users/lulur/ERA5_day_temps/mx2t_20140609.nc (47.5M)\n",
      "2021-07-16 18:40:46,218 INFO Download rate 1.2M/s   \n",
      "2021-07-16 18:40:46,452 INFO Welcome to the CDS\n",
      "2021-07-16 18:40:46,452 INFO Sending request to https://cds.climate.copernicus.eu/api/v2/resources/reanalysis-era5-single-levels\n",
      "2021-07-16 18:40:46,538 INFO Request is queued\n"
     ]
    },
    {
     "name": "stdout",
     "output_type": "stream",
     "text": [
      "finding mean of month 06, day 10\n"
     ]
    },
    {
     "name": "stderr",
     "output_type": "stream",
     "text": [
      "2021-07-16 18:40:47,622 INFO Request is running\n",
      "2021-07-16 18:40:51,540 INFO Request is completed\n",
      "2021-07-16 18:40:51,540 INFO Downloading https://download-0006.copernicus-climate.eu/cache-compute-0006/cache/data3/adaptor.mars.internal-1626475248.760569-23804-17-0937984b-7209-410d-85f7-53f77b2b55df.nc to /nobackup/users/lulur/ERA5_day_temps/mx2t_20140610.nc (47.5M)\n",
      "2021-07-16 18:40:54,691 INFO Download rate 15.1M/s  \n",
      "2021-07-16 18:40:54,913 INFO Welcome to the CDS\n",
      "2021-07-16 18:40:54,914 INFO Sending request to https://cds.climate.copernicus.eu/api/v2/resources/reanalysis-era5-single-levels\n",
      "2021-07-16 18:40:55,001 INFO Request is queued\n"
     ]
    },
    {
     "name": "stdout",
     "output_type": "stream",
     "text": [
      "finding mean of month 06, day 11\n"
     ]
    },
    {
     "name": "stderr",
     "output_type": "stream",
     "text": [
      "2021-07-16 18:40:56,083 INFO Request is running\n",
      "2021-07-16 18:41:00,000 INFO Request is completed\n",
      "2021-07-16 18:41:00,001 INFO Downloading https://download-0004.copernicus-climate.eu/cache-compute-0004/cache/data5/adaptor.mars.internal-1626475257.6865144-18888-16-9e500751-e6d3-49a5-922d-c297288de61d.nc to /nobackup/users/lulur/ERA5_day_temps/mx2t_20140611.nc (47.5M)\n",
      "2021-07-16 18:41:04,624 INFO Download rate 10.3M/s  \n",
      "2021-07-16 18:41:04,854 INFO Welcome to the CDS\n",
      "2021-07-16 18:41:04,854 INFO Sending request to https://cds.climate.copernicus.eu/api/v2/resources/reanalysis-era5-single-levels\n",
      "2021-07-16 18:41:04,939 INFO Request is queued\n"
     ]
    },
    {
     "name": "stdout",
     "output_type": "stream",
     "text": [
      "finding mean of month 06, day 12\n"
     ]
    },
    {
     "name": "stderr",
     "output_type": "stream",
     "text": [
      "2021-07-16 18:41:06,021 INFO Request is running\n",
      "2021-07-16 18:41:10,228 INFO Request is completed\n",
      "2021-07-16 18:41:10,229 INFO Downloading https://download-0007.copernicus-climate.eu/cache-compute-0007/cache/data1/adaptor.mars.internal-1626475267.7118332-27802-4-6eccd290-0e25-4edf-bfc8-51e9b155df34.nc to /nobackup/users/lulur/ERA5_day_temps/mx2t_20140612.nc (47.5M)\n",
      "2021-07-16 18:41:51,510 INFO Download rate 1.2M/s   \n"
     ]
    },
    {
     "name": "stdout",
     "output_type": "stream",
     "text": [
      "finding mean of month 06, day 13\n"
     ]
    },
    {
     "name": "stderr",
     "output_type": "stream",
     "text": [
      "2021-07-16 18:41:52,027 INFO Welcome to the CDS\n",
      "2021-07-16 18:41:52,028 INFO Sending request to https://cds.climate.copernicus.eu/api/v2/resources/reanalysis-era5-single-levels\n",
      "2021-07-16 18:41:52,116 INFO Request is queued\n",
      "2021-07-16 18:41:53,197 INFO Request is running\n",
      "2021-07-16 18:41:57,114 INFO Request is completed\n",
      "2021-07-16 18:41:57,114 INFO Downloading https://download-0003.copernicus-climate.eu/cache-compute-0003/cache/data0/adaptor.mars.internal-1626475315.2459369-8101-5-ab755f28-0971-48e9-af88-75e79906153d.nc to /nobackup/users/lulur/ERA5_day_temps/mx2t_20140613.nc (47.5M)\n",
      "2021-07-16 18:42:18,811 INFO Download rate 2.2M/s   \n",
      "2021-07-16 18:42:19,032 INFO Welcome to the CDS\n",
      "2021-07-16 18:42:19,035 INFO Sending request to https://cds.climate.copernicus.eu/api/v2/resources/reanalysis-era5-single-levels\n",
      "2021-07-16 18:42:19,124 INFO Request is queued\n"
     ]
    },
    {
     "name": "stdout",
     "output_type": "stream",
     "text": [
      "finding mean of month 06, day 14\n"
     ]
    },
    {
     "name": "stderr",
     "output_type": "stream",
     "text": [
      "2021-07-16 18:42:20,445 INFO Request is running\n",
      "2021-07-16 18:42:24,646 INFO Request is completed\n",
      "2021-07-16 18:42:24,646 INFO Downloading https://download-0014.copernicus-climate.eu/cache-compute-0014/cache/data5/adaptor.mars.internal-1626475342.4855747-971-15-f117b131-d74e-4cd2-80f9-611a5f3c85d1.nc to /nobackup/users/lulur/ERA5_day_temps/mx2t_20140614.nc (47.5M)\n",
      "2021-07-16 18:42:29,045 INFO Download rate 10.8M/s  \n",
      "2021-07-16 18:42:29,268 INFO Welcome to the CDS\n",
      "2021-07-16 18:42:29,270 INFO Sending request to https://cds.climate.copernicus.eu/api/v2/resources/reanalysis-era5-single-levels\n",
      "2021-07-16 18:42:29,361 INFO Request is queued\n"
     ]
    },
    {
     "name": "stdout",
     "output_type": "stream",
     "text": [
      "finding mean of month 06, day 15\n"
     ]
    },
    {
     "name": "stderr",
     "output_type": "stream",
     "text": [
      "2021-07-16 18:42:30,443 INFO Request is running\n",
      "2021-07-16 18:42:34,643 INFO Request is completed\n",
      "2021-07-16 18:42:34,643 INFO Downloading https://download-0014.copernicus-climate.eu/cache-compute-0014/cache/data7/adaptor.mars.internal-1626475352.2397366-10725-1-5d994e46-9202-4d38-b250-511b04744803.nc to /nobackup/users/lulur/ERA5_day_temps/mx2t_20140615.nc (47.5M)\n",
      "2021-07-16 18:42:39,453 INFO Download rate 9.9M/s   \n",
      "2021-07-16 18:42:39,676 INFO Welcome to the CDS\n",
      "2021-07-16 18:42:39,677 INFO Sending request to https://cds.climate.copernicus.eu/api/v2/resources/reanalysis-era5-single-levels\n",
      "2021-07-16 18:42:39,765 INFO Request is queued\n"
     ]
    },
    {
     "name": "stdout",
     "output_type": "stream",
     "text": [
      "finding mean of month 06, day 16\n"
     ]
    },
    {
     "name": "stderr",
     "output_type": "stream",
     "text": [
      "2021-07-16 18:42:40,847 INFO Request is running\n",
      "2021-07-16 18:42:44,762 INFO Request is completed\n",
      "2021-07-16 18:42:44,763 INFO Downloading https://download-0006.copernicus-climate.eu/cache-compute-0006/cache/data3/adaptor.mars.internal-1626475363.044387-2974-2-004f0b96-3cc7-45f0-845a-5ee3b4b02007.nc to /nobackup/users/lulur/ERA5_day_temps/mx2t_20140616.nc (47.5M)\n",
      "2021-07-16 18:42:49,253 INFO Download rate 10.6M/s  \n",
      "2021-07-16 18:42:49,487 INFO Welcome to the CDS\n",
      "2021-07-16 18:42:49,487 INFO Sending request to https://cds.climate.copernicus.eu/api/v2/resources/reanalysis-era5-single-levels\n",
      "2021-07-16 18:42:49,574 INFO Request is queued\n"
     ]
    },
    {
     "name": "stdout",
     "output_type": "stream",
     "text": [
      "finding mean of month 06, day 17\n"
     ]
    },
    {
     "name": "stderr",
     "output_type": "stream",
     "text": [
      "2021-07-16 18:42:50,657 INFO Request is running\n",
      "2021-07-16 18:42:54,575 INFO Request is completed\n",
      "2021-07-16 18:42:54,575 INFO Downloading https://download-0002.copernicus-climate.eu/cache-compute-0002/cache/data1/adaptor.mars.internal-1626475372.3979597-26591-3-ad29bd96-481d-47a1-8a37-2e5a1d2c8f3c.nc to /nobackup/users/lulur/ERA5_day_temps/mx2t_20140617.nc (47.5M)\n",
      "2021-07-16 18:43:11,870 INFO Download rate 2.7M/s   \n",
      "2021-07-16 18:43:12,093 INFO Welcome to the CDS\n",
      "2021-07-16 18:43:12,093 INFO Sending request to https://cds.climate.copernicus.eu/api/v2/resources/reanalysis-era5-single-levels\n",
      "2021-07-16 18:43:12,181 INFO Request is queued\n"
     ]
    },
    {
     "name": "stdout",
     "output_type": "stream",
     "text": [
      "finding mean of month 06, day 18\n"
     ]
    },
    {
     "name": "stderr",
     "output_type": "stream",
     "text": [
      "2021-07-16 18:43:13,266 INFO Request is running\n",
      "2021-07-16 18:43:17,184 INFO Request is completed\n",
      "2021-07-16 18:43:17,184 INFO Downloading https://download-0013.copernicus-climate.eu/cache-compute-0013/cache/data4/adaptor.mars.internal-1626475395.3823633-2229-9-faf8ae1d-1bd7-40e9-af5d-078049a77bfa.nc to /nobackup/users/lulur/ERA5_day_temps/mx2t_20140618.nc (47.5M)\n",
      "2021-07-16 18:43:22,162 INFO Download rate 9.6M/s   \n"
     ]
    },
    {
     "name": "stdout",
     "output_type": "stream",
     "text": [
      "finding mean of month 06, day 19\n"
     ]
    },
    {
     "name": "stderr",
     "output_type": "stream",
     "text": [
      "2021-07-16 18:43:22,670 INFO Welcome to the CDS\n",
      "2021-07-16 18:43:22,670 INFO Sending request to https://cds.climate.copernicus.eu/api/v2/resources/reanalysis-era5-single-levels\n",
      "2021-07-16 18:43:22,756 INFO Request is queued\n",
      "2021-07-16 18:43:23,839 INFO Request is running\n",
      "2021-07-16 18:43:27,757 INFO Request is completed\n",
      "2021-07-16 18:43:27,757 INFO Downloading https://download-0000.copernicus-climate.eu/cache-compute-0000/cache/data2/adaptor.mars.internal-1626475405.3894346-23908-9-48dc0bb8-2b74-4475-a27f-35a8563beb79.nc to /nobackup/users/lulur/ERA5_day_temps/mx2t_20140619.nc (47.5M)\n",
      "2021-07-16 18:44:03,322 INFO Download rate 1.3M/s   \n",
      "2021-07-16 18:44:03,543 INFO Welcome to the CDS\n",
      "2021-07-16 18:44:03,544 INFO Sending request to https://cds.climate.copernicus.eu/api/v2/resources/reanalysis-era5-single-levels\n",
      "2021-07-16 18:44:03,636 INFO Request is queued\n"
     ]
    },
    {
     "name": "stdout",
     "output_type": "stream",
     "text": [
      "finding mean of month 06, day 20\n"
     ]
    },
    {
     "name": "stderr",
     "output_type": "stream",
     "text": [
      "2021-07-16 18:44:04,720 INFO Request is running\n",
      "2021-07-16 18:44:08,920 INFO Request is completed\n",
      "2021-07-16 18:44:08,921 INFO Downloading https://download-0003.copernicus-climate.eu/cache-compute-0003/cache/data9/adaptor.mars.internal-1626475446.0795372-31081-18-904b4631-55d0-4f42-8cc3-62d4e3ad9342.nc to /nobackup/users/lulur/ERA5_day_temps/mx2t_20140620.nc (47.5M)\n",
      "2021-07-16 18:44:21,822 INFO Download rate 3.7M/s   \n",
      "2021-07-16 18:44:22,044 INFO Welcome to the CDS\n",
      "2021-07-16 18:44:22,044 INFO Sending request to https://cds.climate.copernicus.eu/api/v2/resources/reanalysis-era5-single-levels\n",
      "2021-07-16 18:44:22,132 INFO Request is queued\n"
     ]
    },
    {
     "name": "stdout",
     "output_type": "stream",
     "text": [
      "finding mean of month 06, day 21\n"
     ]
    },
    {
     "name": "stderr",
     "output_type": "stream",
     "text": [
      "2021-07-16 18:44:23,217 INFO Request is running\n",
      "2021-07-16 18:44:27,417 INFO Request is completed\n",
      "2021-07-16 18:44:27,417 INFO Downloading https://download-0007.copernicus-climate.eu/cache-compute-0007/cache/data2/adaptor.mars.internal-1626475464.7486675-14745-19-6f5d4d48-2c82-4d08-be2a-de83043c3216.nc to /nobackup/users/lulur/ERA5_day_temps/mx2t_20140621.nc (47.5M)\n",
      "2021-07-16 18:44:34,567 INFO Download rate 6.6M/s   \n"
     ]
    },
    {
     "name": "stdout",
     "output_type": "stream",
     "text": [
      "finding mean of month 06, day 22\n"
     ]
    },
    {
     "name": "stderr",
     "output_type": "stream",
     "text": [
      "2021-07-16 18:44:35,071 INFO Welcome to the CDS\n",
      "2021-07-16 18:44:35,071 INFO Sending request to https://cds.climate.copernicus.eu/api/v2/resources/reanalysis-era5-single-levels\n",
      "2021-07-16 18:44:35,159 INFO Request is queued\n",
      "2021-07-16 18:44:36,242 INFO Request is running\n",
      "2021-07-16 18:44:40,159 INFO Request is completed\n",
      "2021-07-16 18:44:40,160 INFO Downloading https://download-0000.copernicus-climate.eu/cache-compute-0000/cache/data6/adaptor.mars.internal-1626475478.0022051-11096-18-fea12c1f-9a0a-460b-84c5-d74c5bc1d71d.nc to /nobackup/users/lulur/ERA5_day_temps/mx2t_20140622.nc (47.5M)\n",
      "2021-07-16 18:45:17,698 INFO Download rate 1.3M/s   \n",
      "2021-07-16 18:45:17,920 INFO Welcome to the CDS\n",
      "2021-07-16 18:45:17,922 INFO Sending request to https://cds.climate.copernicus.eu/api/v2/resources/reanalysis-era5-single-levels\n",
      "2021-07-16 18:45:18,009 INFO Request is queued\n"
     ]
    },
    {
     "name": "stdout",
     "output_type": "stream",
     "text": [
      "finding mean of month 06, day 23\n"
     ]
    },
    {
     "name": "stderr",
     "output_type": "stream",
     "text": [
      "2021-07-16 18:45:19,402 INFO Request is running\n",
      "2021-07-16 18:45:23,322 INFO Request is completed\n",
      "2021-07-16 18:45:23,323 INFO Downloading https://download-0010.copernicus-climate.eu/cache-compute-0010/cache/data5/adaptor.mars.internal-1626475520.787816-6557-17-d13191f8-857e-4e84-943e-b387cb3237c1.nc to /nobackup/users/lulur/ERA5_day_temps/mx2t_20140623.nc (47.5M)\n",
      "2021-07-16 18:45:38,456 INFO Download rate 3.1M/s   \n",
      "2021-07-16 18:45:38,681 INFO Welcome to the CDS\n",
      "2021-07-16 18:45:38,682 INFO Sending request to https://cds.climate.copernicus.eu/api/v2/resources/reanalysis-era5-single-levels\n",
      "2021-07-16 18:45:38,770 INFO Request is queued\n"
     ]
    },
    {
     "name": "stdout",
     "output_type": "stream",
     "text": [
      "finding mean of month 06, day 24\n"
     ]
    },
    {
     "name": "stderr",
     "output_type": "stream",
     "text": [
      "2021-07-16 18:45:39,852 INFO Request is running\n",
      "2021-07-16 18:45:43,768 INFO Request is completed\n",
      "2021-07-16 18:45:43,768 INFO Downloading https://download-0006.copernicus-climate.eu/cache-compute-0006/cache/data3/adaptor.mars.internal-1626475541.351691-865-10-69a87bfd-670d-447a-9557-421bd884dee6.nc to /nobackup/users/lulur/ERA5_day_temps/mx2t_20140624.nc (47.5M)\n",
      "2021-07-16 18:46:04,918 INFO Download rate 2.2M/s   \n",
      "2021-07-16 18:46:05,150 INFO Welcome to the CDS\n",
      "2021-07-16 18:46:05,150 INFO Sending request to https://cds.climate.copernicus.eu/api/v2/resources/reanalysis-era5-single-levels\n"
     ]
    },
    {
     "name": "stdout",
     "output_type": "stream",
     "text": [
      "finding mean of month 06, day 25\n"
     ]
    },
    {
     "name": "stderr",
     "output_type": "stream",
     "text": [
      "2021-07-16 18:46:05,518 INFO Request is queued\n",
      "2021-07-16 18:46:06,600 INFO Request is running\n",
      "2021-07-16 18:46:10,519 INFO Request is completed\n",
      "2021-07-16 18:46:10,519 INFO Downloading https://download-0004.copernicus-climate.eu/cache-compute-0004/cache/data8/adaptor.mars.internal-1626475566.9166653-15637-13-059da155-25a2-4a7b-a2f9-405af61eaecb.nc to /nobackup/users/lulur/ERA5_day_temps/mx2t_20140625.nc (47.5M)\n",
      "2021-07-16 18:46:43,056 INFO Download rate 1.5M/s   \n",
      "2021-07-16 18:46:43,287 INFO Welcome to the CDS\n",
      "2021-07-16 18:46:43,287 INFO Sending request to https://cds.climate.copernicus.eu/api/v2/resources/reanalysis-era5-single-levels\n",
      "2021-07-16 18:46:43,377 INFO Request is queued\n"
     ]
    },
    {
     "name": "stdout",
     "output_type": "stream",
     "text": [
      "finding mean of month 06, day 26\n"
     ]
    },
    {
     "name": "stderr",
     "output_type": "stream",
     "text": [
      "2021-07-16 18:46:44,459 INFO Request is running\n",
      "2021-07-16 18:46:48,377 INFO Request is completed\n",
      "2021-07-16 18:46:48,378 INFO Downloading https://download-0014.copernicus-climate.eu/cache-compute-0014/cache/data8/adaptor.mars.internal-1626475604.776294-11241-3-20b07972-5dc6-4a85-9cd4-684309fd1b70.nc to /nobackup/users/lulur/ERA5_day_temps/mx2t_20140626.nc (47.5M)\n",
      "2021-07-16 18:46:55,419 INFO Download rate 6.8M/s   \n"
     ]
    },
    {
     "name": "stdout",
     "output_type": "stream",
     "text": [
      "finding mean of month 06, day 27\n"
     ]
    },
    {
     "name": "stderr",
     "output_type": "stream",
     "text": [
      "2021-07-16 18:46:55,939 INFO Welcome to the CDS\n",
      "2021-07-16 18:46:55,940 INFO Sending request to https://cds.climate.copernicus.eu/api/v2/resources/reanalysis-era5-single-levels\n",
      "2021-07-16 18:46:56,027 INFO Request is queued\n",
      "2021-07-16 18:46:57,110 INFO Request is running\n",
      "2021-07-16 18:47:01,026 INFO Request is completed\n",
      "2021-07-16 18:47:01,027 INFO Downloading https://download-0000.copernicus-climate.eu/cache-compute-0000/cache/data2/adaptor.mars.internal-1626475618.9621048-19800-15-6d9f0b55-8e95-4182-ade1-9f61acfd8a6e.nc to /nobackup/users/lulur/ERA5_day_temps/mx2t_20140627.nc (47.5M)\n",
      "2021-07-16 18:47:48,477 INFO Download rate 1M/s     \n",
      "2021-07-16 18:47:48,711 INFO Welcome to the CDS\n",
      "2021-07-16 18:47:48,712 INFO Sending request to https://cds.climate.copernicus.eu/api/v2/resources/reanalysis-era5-single-levels\n",
      "2021-07-16 18:47:48,800 INFO Request is queued\n"
     ]
    },
    {
     "name": "stdout",
     "output_type": "stream",
     "text": [
      "finding mean of month 06, day 28\n"
     ]
    },
    {
     "name": "stderr",
     "output_type": "stream",
     "text": [
      "2021-07-16 18:47:50,170 INFO Request is running\n",
      "2021-07-16 18:47:54,087 INFO Request is completed\n",
      "2021-07-16 18:47:54,088 INFO Downloading https://download-0002.copernicus-climate.eu/cache-compute-0002/cache/data4/adaptor.mars.internal-1626475671.3743312-28511-2-8cbf377a-4a28-4cae-9bb0-0d16946de6c5.nc to /nobackup/users/lulur/ERA5_day_temps/mx2t_20140628.nc (47.5M)\n",
      "2021-07-16 18:47:58,694 INFO Download rate 10.3M/s  \n",
      "2021-07-16 18:47:58,918 INFO Welcome to the CDS\n",
      "2021-07-16 18:47:58,919 INFO Sending request to https://cds.climate.copernicus.eu/api/v2/resources/reanalysis-era5-single-levels\n",
      "2021-07-16 18:47:59,006 INFO Request is queued\n"
     ]
    },
    {
     "name": "stdout",
     "output_type": "stream",
     "text": [
      "finding mean of month 06, day 29\n"
     ]
    },
    {
     "name": "stderr",
     "output_type": "stream",
     "text": [
      "2021-07-16 18:48:00,088 INFO Request is running\n",
      "2021-07-16 18:48:04,292 INFO Request is completed\n",
      "2021-07-16 18:48:04,293 INFO Downloading https://download-0007.copernicus-climate.eu/cache-compute-0007/cache/data2/adaptor.mars.internal-1626475681.6287308-30689-2-6ee05b48-f732-4e7f-8b7f-dd01217986ee.nc to /nobackup/users/lulur/ERA5_day_temps/mx2t_20140629.nc (47.5M)\n",
      "2021-07-16 18:48:11,623 INFO Download rate 6.5M/s   \n",
      "2021-07-16 18:48:11,854 INFO Welcome to the CDS\n",
      "2021-07-16 18:48:11,854 INFO Sending request to https://cds.climate.copernicus.eu/api/v2/resources/reanalysis-era5-single-levels\n",
      "2021-07-16 18:48:11,942 INFO Request is queued\n"
     ]
    },
    {
     "name": "stdout",
     "output_type": "stream",
     "text": [
      "finding mean of month 06, day 30\n"
     ]
    },
    {
     "name": "stderr",
     "output_type": "stream",
     "text": [
      "2021-07-16 18:48:13,025 INFO Request is running\n",
      "2021-07-16 18:48:16,942 INFO Request is completed\n",
      "2021-07-16 18:48:16,942 INFO Downloading https://download-0002.copernicus-climate.eu/cache-compute-0002/cache/data6/adaptor.mars.internal-1626475694.4986901-26728-7-11b7b5bc-f45c-4414-9d49-100a82b14fcc.nc to /nobackup/users/lulur/ERA5_day_temps/mx2t_20140630.nc (47.5M)\n",
      "2021-07-16 18:48:36,920 INFO Download rate 2.4M/s   \n"
     ]
    },
    {
     "name": "stdout",
     "output_type": "stream",
     "text": [
      "finding mean of month 07, day 01\n"
     ]
    },
    {
     "name": "stderr",
     "output_type": "stream",
     "text": [
      "2021-07-16 18:48:37,394 INFO Welcome to the CDS\n",
      "2021-07-16 18:48:37,395 INFO Sending request to https://cds.climate.copernicus.eu/api/v2/resources/reanalysis-era5-single-levels\n",
      "2021-07-16 18:48:37,482 INFO Request is queued\n",
      "2021-07-16 18:48:38,565 INFO Request is running\n",
      "2021-07-16 18:48:46,512 INFO Request is completed\n",
      "2021-07-16 18:48:46,513 INFO Downloading https://download-0007.copernicus-climate.eu/cache-compute-0007/cache/data3/adaptor.mars.internal-1626475722.1961913-27317-11-a046e8ba-d859-4a70-a31c-487af8ae9b6f.nc to /nobackup/users/lulur/ERA5_day_temps/mx2t_20140701.nc (47.5M)\n",
      "2021-07-16 18:49:09,850 INFO Download rate 2M/s     \n",
      "2021-07-16 18:49:10,082 INFO Welcome to the CDS\n",
      "2021-07-16 18:49:10,083 INFO Sending request to https://cds.climate.copernicus.eu/api/v2/resources/reanalysis-era5-single-levels\n",
      "2021-07-16 18:49:10,169 INFO Request is queued\n"
     ]
    },
    {
     "name": "stdout",
     "output_type": "stream",
     "text": [
      "finding mean of month 07, day 02\n"
     ]
    },
    {
     "name": "stderr",
     "output_type": "stream",
     "text": [
      "2021-07-16 18:49:11,252 INFO Request is running\n",
      "2021-07-16 18:49:18,630 INFO Request is completed\n",
      "2021-07-16 18:49:18,630 INFO Downloading https://download-0012.copernicus-climate.eu/cache-compute-0012/cache/data8/adaptor.mars.internal-1626475754.5877059-20291-6-12fea5e1-f510-45a3-8269-fbe7f11aa492.nc to /nobackup/users/lulur/ERA5_day_temps/mx2t_20140702.nc (47.5M)\n",
      "2021-07-16 18:49:36,094 INFO Download rate 2.7M/s   \n",
      "2021-07-16 18:49:36,315 INFO Welcome to the CDS\n",
      "2021-07-16 18:49:36,315 INFO Sending request to https://cds.climate.copernicus.eu/api/v2/resources/reanalysis-era5-single-levels\n"
     ]
    },
    {
     "name": "stdout",
     "output_type": "stream",
     "text": [
      "finding mean of month 07, day 03\n"
     ]
    },
    {
     "name": "stderr",
     "output_type": "stream",
     "text": [
      "2021-07-16 18:49:36,680 INFO Request is queued\n",
      "2021-07-16 18:49:37,763 INFO Request is running\n",
      "2021-07-16 18:49:45,140 INFO Request is completed\n",
      "2021-07-16 18:49:45,141 INFO Downloading https://download-0010.copernicus-climate.eu/cache-compute-0010/cache/data1/adaptor.mars.internal-1626475780.623962-17542-3-732537ce-74d1-41b4-8c26-702d202bd08a.nc to /nobackup/users/lulur/ERA5_day_temps/mx2t_20140703.nc (47.5M)\n",
      "2021-07-16 18:49:51,529 INFO Download rate 7.4M/s   \n",
      "2021-07-16 18:49:51,754 INFO Welcome to the CDS\n",
      "2021-07-16 18:49:51,754 INFO Sending request to https://cds.climate.copernicus.eu/api/v2/resources/reanalysis-era5-single-levels\n",
      "2021-07-16 18:49:51,843 INFO Request is queued\n"
     ]
    },
    {
     "name": "stdout",
     "output_type": "stream",
     "text": [
      "finding mean of month 07, day 04\n"
     ]
    },
    {
     "name": "stderr",
     "output_type": "stream",
     "text": [
      "2021-07-16 18:49:52,926 INFO Request is running\n",
      "2021-07-16 18:50:00,874 INFO Request is completed\n",
      "2021-07-16 18:50:00,875 INFO Downloading https://download-0008.copernicus-climate.eu/cache-compute-0008/cache/data8/adaptor.mars.internal-1626475795.8327968-19747-19-7629b5b1-764c-4256-a60d-25d3f49f4ee9.nc to /nobackup/users/lulur/ERA5_day_temps/mx2t_20140704.nc (47.5M)\n",
      "2021-07-16 18:50:06,091 INFO Download rate 9.1M/s   \n",
      "2021-07-16 18:50:06,320 INFO Welcome to the CDS\n",
      "2021-07-16 18:50:06,321 INFO Sending request to https://cds.climate.copernicus.eu/api/v2/resources/reanalysis-era5-single-levels\n",
      "2021-07-16 18:50:06,408 INFO Request is queued\n"
     ]
    },
    {
     "name": "stdout",
     "output_type": "stream",
     "text": [
      "finding mean of month 07, day 05\n"
     ]
    },
    {
     "name": "stderr",
     "output_type": "stream",
     "text": [
      "2021-07-16 18:50:07,491 INFO Request is running\n",
      "2021-07-16 18:50:11,408 INFO Request is completed\n",
      "2021-07-16 18:50:11,409 INFO Downloading https://download-0000.copernicus-climate.eu/cache-compute-0000/cache/data2/adaptor.mars.internal-1626475809.353655-24818-15-0a6739c1-94fb-4a93-8d7e-5140159cb662.nc to /nobackup/users/lulur/ERA5_day_temps/mx2t_20140705.nc (47.5M)\n",
      "2021-07-16 18:50:15,803 INFO Download rate 10.8M/s  \n",
      "2021-07-16 18:50:16,031 INFO Welcome to the CDS\n",
      "2021-07-16 18:50:16,032 INFO Sending request to https://cds.climate.copernicus.eu/api/v2/resources/reanalysis-era5-single-levels\n",
      "2021-07-16 18:50:16,119 INFO Request is queued\n"
     ]
    },
    {
     "name": "stdout",
     "output_type": "stream",
     "text": [
      "finding mean of month 07, day 06\n"
     ]
    },
    {
     "name": "stderr",
     "output_type": "stream",
     "text": [
      "2021-07-16 18:50:17,202 INFO Request is running\n",
      "2021-07-16 18:50:21,118 INFO Request is completed\n",
      "2021-07-16 18:50:21,119 INFO Downloading https://download-0007.copernicus-climate.eu/cache-compute-0007/cache/data1/adaptor.mars.internal-1626475818.882758-29936-4-6f996b68-5cc9-4d1c-9784-be7e3e7629fa.nc to /nobackup/users/lulur/ERA5_day_temps/mx2t_20140706.nc (47.5M)\n",
      "2021-07-16 18:50:27,076 INFO Download rate 8M/s     \n",
      "2021-07-16 18:50:27,311 INFO Welcome to the CDS\n",
      "2021-07-16 18:50:27,312 INFO Sending request to https://cds.climate.copernicus.eu/api/v2/resources/reanalysis-era5-single-levels\n",
      "2021-07-16 18:50:27,399 INFO Request is queued\n"
     ]
    },
    {
     "name": "stdout",
     "output_type": "stream",
     "text": [
      "finding mean of month 07, day 07\n"
     ]
    },
    {
     "name": "stderr",
     "output_type": "stream",
     "text": [
      "2021-07-16 18:50:28,483 INFO Request is running\n",
      "2021-07-16 18:50:32,398 INFO Request is completed\n",
      "2021-07-16 18:50:32,398 INFO Downloading https://download-0006.copernicus-climate.eu/cache-compute-0006/cache/data6/adaptor.mars.internal-1626475830.3192537-865-14-a0d8ad05-a1fb-422f-9c2b-5fb5ca29db81.nc to /nobackup/users/lulur/ERA5_day_temps/mx2t_20140707.nc (47.5M)\n",
      "2021-07-16 18:51:30,165 INFO Download rate 842.7K/s \n",
      "2021-07-16 18:51:30,395 INFO Welcome to the CDS\n",
      "2021-07-16 18:51:30,395 INFO Sending request to https://cds.climate.copernicus.eu/api/v2/resources/reanalysis-era5-single-levels\n",
      "2021-07-16 18:51:30,482 INFO Request is queued\n"
     ]
    },
    {
     "name": "stdout",
     "output_type": "stream",
     "text": [
      "finding mean of month 07, day 08\n"
     ]
    },
    {
     "name": "stderr",
     "output_type": "stream",
     "text": [
      "2021-07-16 18:51:31,564 INFO Request is running\n",
      "2021-07-16 18:51:39,225 INFO Request is completed\n",
      "2021-07-16 18:51:39,226 INFO Downloading https://download-0007.copernicus-climate.eu/cache-compute-0007/cache/data1/adaptor.mars.internal-1626475895.0281518-30689-4-000eb993-bb0d-4112-a837-b06892d3e67b.nc to /nobackup/users/lulur/ERA5_day_temps/mx2t_20140708.nc (47.5M)\n",
      "2021-07-16 18:51:45,601 INFO Download rate 7.5M/s   \n",
      "2021-07-16 18:51:45,824 INFO Welcome to the CDS\n",
      "2021-07-16 18:51:45,824 INFO Sending request to https://cds.climate.copernicus.eu/api/v2/resources/reanalysis-era5-single-levels\n",
      "2021-07-16 18:51:45,912 INFO Request is queued\n"
     ]
    },
    {
     "name": "stdout",
     "output_type": "stream",
     "text": [
      "finding mean of month 07, day 09\n"
     ]
    },
    {
     "name": "stderr",
     "output_type": "stream",
     "text": [
      "2021-07-16 18:51:46,994 INFO Request is running\n",
      "2021-07-16 18:51:54,370 INFO Request is completed\n",
      "2021-07-16 18:51:54,371 INFO Downloading https://download-0006.copernicus-climate.eu/cache-compute-0006/cache/data4/adaptor.mars.internal-1626475910.4878514-2252-12-c8f305a1-676a-4a43-b32d-35dd8bafea85.nc to /nobackup/users/lulur/ERA5_day_temps/mx2t_20140709.nc (47.5M)\n",
      "2021-07-16 18:52:48,694 INFO Download rate 896.1K/s \n",
      "2021-07-16 18:52:48,931 INFO Welcome to the CDS\n",
      "2021-07-16 18:52:48,932 INFO Sending request to https://cds.climate.copernicus.eu/api/v2/resources/reanalysis-era5-single-levels\n",
      "2021-07-16 18:52:49,020 INFO Request is queued\n"
     ]
    },
    {
     "name": "stdout",
     "output_type": "stream",
     "text": [
      "finding mean of month 07, day 10\n"
     ]
    },
    {
     "name": "stderr",
     "output_type": "stream",
     "text": [
      "2021-07-16 18:52:50,103 INFO Request is running\n",
      "2021-07-16 18:52:57,478 INFO Request is completed\n",
      "2021-07-16 18:52:57,479 INFO Downloading https://download-0008.copernicus-climate.eu/cache-compute-0008/cache/data7/adaptor.mars.internal-1626475973.5493934-28098-13-d702a19c-b475-40ec-8510-9aa3839066e3.nc to /nobackup/users/lulur/ERA5_day_temps/mx2t_20140710.nc (47.5M)\n",
      "2021-07-16 18:53:03,290 INFO Download rate 8.2M/s   \n",
      "2021-07-16 18:53:03,510 INFO Welcome to the CDS\n",
      "2021-07-16 18:53:03,511 INFO Sending request to https://cds.climate.copernicus.eu/api/v2/resources/reanalysis-era5-single-levels\n"
     ]
    },
    {
     "name": "stdout",
     "output_type": "stream",
     "text": [
      "finding mean of month 07, day 11\n"
     ]
    },
    {
     "name": "stderr",
     "output_type": "stream",
     "text": [
      "2021-07-16 18:53:03,862 INFO Request is queued\n",
      "2021-07-16 18:53:04,945 INFO Request is running\n",
      "2021-07-16 18:53:12,321 INFO Request is completed\n",
      "2021-07-16 18:53:12,322 INFO Downloading https://download-0015.copernicus-climate.eu/cache-compute-0015/cache/data2/adaptor.mars.internal-1626475987.9193454-10051-8-8c025583-9f06-4e13-9574-b67dc00b4cd4.nc to /nobackup/users/lulur/ERA5_day_temps/mx2t_20140711.nc (47.5M)\n",
      "2021-07-16 18:53:19,531 INFO Download rate 6.6M/s   \n",
      "2021-07-16 18:53:19,753 INFO Welcome to the CDS\n",
      "2021-07-16 18:53:19,754 INFO Sending request to https://cds.climate.copernicus.eu/api/v2/resources/reanalysis-era5-single-levels\n",
      "2021-07-16 18:53:19,839 INFO Request is queued\n"
     ]
    },
    {
     "name": "stdout",
     "output_type": "stream",
     "text": [
      "finding mean of month 07, day 12\n"
     ]
    },
    {
     "name": "stderr",
     "output_type": "stream",
     "text": [
      "2021-07-16 18:53:20,921 INFO Request is running\n",
      "2021-07-16 18:53:28,298 INFO Request is completed\n",
      "2021-07-16 18:53:28,298 INFO Downloading https://download-0013.copernicus-climate.eu/cache-compute-0013/cache/data1/adaptor.mars.internal-1626476003.4634185-5148-8-780b25d7-be3a-4192-ad56-a9b88aa4d11f.nc to /nobackup/users/lulur/ERA5_day_temps/mx2t_20140712.nc (47.5M)\n",
      "2021-07-16 18:53:32,781 INFO Download rate 10.6M/s  \n",
      "2021-07-16 18:53:33,003 INFO Welcome to the CDS\n",
      "2021-07-16 18:53:33,004 INFO Sending request to https://cds.climate.copernicus.eu/api/v2/resources/reanalysis-era5-single-levels\n",
      "2021-07-16 18:53:33,090 INFO Request is queued\n"
     ]
    },
    {
     "name": "stdout",
     "output_type": "stream",
     "text": [
      "finding mean of month 07, day 13\n"
     ]
    },
    {
     "name": "stderr",
     "output_type": "stream",
     "text": [
      "2021-07-16 18:53:34,175 INFO Request is running\n",
      "2021-07-16 18:53:38,377 INFO Request is completed\n",
      "2021-07-16 18:53:38,378 INFO Downloading https://download-0008.copernicus-climate.eu/cache-compute-0008/cache/data3/adaptor.mars.internal-1626476016.9518607-32538-2-8a919fc2-de44-4ece-b8bb-6f31acc76fd6.nc to /nobackup/users/lulur/ERA5_day_temps/mx2t_20140713.nc (47.5M)\n",
      "2021-07-16 18:53:57,625 INFO Download rate 2.5M/s   \n"
     ]
    },
    {
     "name": "stdout",
     "output_type": "stream",
     "text": [
      "finding mean of month 07, day 14\n"
     ]
    },
    {
     "name": "stderr",
     "output_type": "stream",
     "text": [
      "2021-07-16 18:53:58,134 INFO Welcome to the CDS\n",
      "2021-07-16 18:53:58,135 INFO Sending request to https://cds.climate.copernicus.eu/api/v2/resources/reanalysis-era5-single-levels\n",
      "2021-07-16 18:53:58,223 INFO Request is queued\n",
      "2021-07-16 18:53:59,308 INFO Request is running\n",
      "2021-07-16 18:54:06,684 INFO Request is completed\n",
      "2021-07-16 18:54:06,685 INFO Downloading https://download-0006.copernicus-climate.eu/cache-compute-0006/cache/data2/adaptor.mars.internal-1626476042.180907-5309-5-f9fadd24-8070-49f7-97e6-1f1ab61ab855.nc to /nobackup/users/lulur/ERA5_day_temps/mx2t_20140714.nc (47.5M)\n",
      "2021-07-16 18:54:11,480 INFO Download rate 9.9M/s   \n",
      "2021-07-16 18:54:11,701 INFO Welcome to the CDS\n",
      "2021-07-16 18:54:11,702 INFO Sending request to https://cds.climate.copernicus.eu/api/v2/resources/reanalysis-era5-single-levels\n",
      "2021-07-16 18:54:11,794 INFO Request is queued\n"
     ]
    },
    {
     "name": "stdout",
     "output_type": "stream",
     "text": [
      "finding mean of month 07, day 15\n"
     ]
    },
    {
     "name": "stderr",
     "output_type": "stream",
     "text": [
      "2021-07-16 18:54:12,878 INFO Request is running\n",
      "2021-07-16 18:54:20,257 INFO Request is completed\n",
      "2021-07-16 18:54:20,257 INFO Downloading https://download-0005.copernicus-climate.eu/cache-compute-0005/cache/data1/adaptor.mars.internal-1626476056.2213914-10499-18-f808219d-554d-485c-9fd1-26ced5e79acc.nc to /nobackup/users/lulur/ERA5_day_temps/mx2t_20140715.nc (47.5M)\n",
      "2021-07-16 18:54:23,221 INFO Download rate 16M/s    \n",
      "2021-07-16 18:54:23,685 INFO Welcome to the CDS\n",
      "2021-07-16 18:54:23,685 INFO Sending request to https://cds.climate.copernicus.eu/api/v2/resources/reanalysis-era5-single-levels\n",
      "2021-07-16 18:54:23,772 INFO Request is queued\n"
     ]
    },
    {
     "name": "stdout",
     "output_type": "stream",
     "text": [
      "finding mean of month 07, day 16\n"
     ]
    },
    {
     "name": "stderr",
     "output_type": "stream",
     "text": [
      "2021-07-16 18:54:24,854 INFO Request is running\n",
      "2021-07-16 18:54:32,230 INFO Request is completed\n",
      "2021-07-16 18:54:32,230 INFO Downloading https://download-0001.copernicus-climate.eu/cache-compute-0001/cache/data8/adaptor.mars.internal-1626476067.5575914-2960-20-bf63cd12-3694-432e-a987-48f4af38630c.nc to /nobackup/users/lulur/ERA5_day_temps/mx2t_20140716.nc (47.5M)\n",
      "2021-07-16 18:54:52,467 INFO Download rate 2.3M/s   \n",
      "2021-07-16 18:54:52,698 INFO Welcome to the CDS\n",
      "2021-07-16 18:54:52,698 INFO Sending request to https://cds.climate.copernicus.eu/api/v2/resources/reanalysis-era5-single-levels\n",
      "2021-07-16 18:54:52,788 INFO Request is queued\n"
     ]
    },
    {
     "name": "stdout",
     "output_type": "stream",
     "text": [
      "finding mean of month 07, day 17\n"
     ]
    },
    {
     "name": "stderr",
     "output_type": "stream",
     "text": [
      "2021-07-16 18:54:53,870 INFO Request is running\n",
      "2021-07-16 18:55:01,247 INFO Request is completed\n",
      "2021-07-16 18:55:01,248 INFO Downloading https://download-0000.copernicus-climate.eu/cache-compute-0000/cache/data3/adaptor.mars.internal-1626476097.0142007-29490-6-c90c5da0-ca2c-4853-8fd8-9d4818d1fcf6.nc to /nobackup/users/lulur/ERA5_day_temps/mx2t_20140717.nc (47.5M)\n",
      "2021-07-16 18:55:25,584 INFO Download rate 2M/s     \n",
      "2021-07-16 18:55:25,810 INFO Welcome to the CDS\n",
      "2021-07-16 18:55:25,811 INFO Sending request to https://cds.climate.copernicus.eu/api/v2/resources/reanalysis-era5-single-levels\n",
      "2021-07-16 18:55:25,899 INFO Request is queued\n"
     ]
    },
    {
     "name": "stdout",
     "output_type": "stream",
     "text": [
      "finding mean of month 07, day 18\n"
     ]
    },
    {
     "name": "stderr",
     "output_type": "stream",
     "text": [
      "2021-07-16 18:55:26,982 INFO Request is running\n",
      "2021-07-16 18:55:34,644 INFO Request is completed\n",
      "2021-07-16 18:55:34,644 INFO Downloading https://download-0012.copernicus-climate.eu/cache-compute-0012/cache/data9/adaptor.mars.internal-1626476130.5737195-23787-1-9e00a161-8635-420e-8e3b-a67452c48e29.nc to /nobackup/users/lulur/ERA5_day_temps/mx2t_20140718.nc (47.5M)\n",
      "2021-07-16 18:55:38,187 INFO Download rate 13.4M/s  \n"
     ]
    },
    {
     "name": "stdout",
     "output_type": "stream",
     "text": [
      "finding mean of month 07, day 19\n"
     ]
    },
    {
     "name": "stderr",
     "output_type": "stream",
     "text": [
      "2021-07-16 18:55:38,707 INFO Welcome to the CDS\n",
      "2021-07-16 18:55:38,707 INFO Sending request to https://cds.climate.copernicus.eu/api/v2/resources/reanalysis-era5-single-levels\n",
      "2021-07-16 18:55:38,794 INFO Request is queued\n",
      "2021-07-16 18:55:39,877 INFO Request is running\n",
      "2021-07-16 18:55:47,253 INFO Request is completed\n",
      "2021-07-16 18:55:47,254 INFO Downloading https://download-0007.copernicus-climate.eu/cache-compute-0007/cache/data2/adaptor.mars.internal-1626476143.308429-26536-16-dccbfa56-9af6-47fb-8362-28ce80fc5306.nc to /nobackup/users/lulur/ERA5_day_temps/mx2t_20140719.nc (47.5M)\n",
      "2021-07-16 18:55:51,853 INFO Download rate 10.3M/s  \n",
      "2021-07-16 18:55:52,077 INFO Welcome to the CDS\n",
      "2021-07-16 18:55:52,078 INFO Sending request to https://cds.climate.copernicus.eu/api/v2/resources/reanalysis-era5-single-levels\n",
      "2021-07-16 18:55:52,166 INFO Request is queued\n"
     ]
    },
    {
     "name": "stdout",
     "output_type": "stream",
     "text": [
      "finding mean of month 07, day 20\n"
     ]
    },
    {
     "name": "stderr",
     "output_type": "stream",
     "text": [
      "2021-07-16 18:55:53,249 INFO Request is running\n",
      "2021-07-16 18:56:00,925 INFO Request is completed\n",
      "2021-07-16 18:56:00,926 INFO Downloading https://download-0007.copernicus-climate.eu/cache-compute-0007/cache/data3/adaptor.mars.internal-1626476155.8892705-28625-14-ab395345-9204-40e7-b3d1-46d45f7b10f3.nc to /nobackup/users/lulur/ERA5_day_temps/mx2t_20140720.nc (47.5M)\n",
      "2021-07-16 18:56:11,975 INFO Download rate 4.3M/s   \n",
      "2021-07-16 18:56:12,199 INFO Welcome to the CDS\n",
      "2021-07-16 18:56:12,199 INFO Sending request to https://cds.climate.copernicus.eu/api/v2/resources/reanalysis-era5-single-levels\n",
      "2021-07-16 18:56:12,285 INFO Request is queued\n"
     ]
    },
    {
     "name": "stdout",
     "output_type": "stream",
     "text": [
      "finding mean of month 07, day 21\n"
     ]
    },
    {
     "name": "stderr",
     "output_type": "stream",
     "text": [
      "2021-07-16 18:56:13,369 INFO Request is running\n",
      "2021-07-16 18:56:21,043 INFO Request is completed\n",
      "2021-07-16 18:56:21,043 INFO Downloading https://download-0011.copernicus-climate.eu/cache-compute-0011/cache/data5/adaptor.mars.internal-1626476176.4489896-23205-6-ae11409f-dd72-473f-9245-b3abe26c8227.nc to /nobackup/users/lulur/ERA5_day_temps/mx2t_20140721.nc (47.5M)\n",
      "2021-07-16 18:56:25,748 INFO Download rate 10.1M/s  \n",
      "2021-07-16 18:56:25,976 INFO Welcome to the CDS\n",
      "2021-07-16 18:56:25,977 INFO Sending request to https://cds.climate.copernicus.eu/api/v2/resources/reanalysis-era5-single-levels\n",
      "2021-07-16 18:56:26,063 INFO Request is queued\n"
     ]
    },
    {
     "name": "stdout",
     "output_type": "stream",
     "text": [
      "finding mean of month 07, day 22\n"
     ]
    },
    {
     "name": "stderr",
     "output_type": "stream",
     "text": [
      "2021-07-16 18:56:27,147 INFO Request is running\n",
      "2021-07-16 18:56:35,093 INFO Request is completed\n",
      "2021-07-16 18:56:35,094 INFO Downloading https://download-0014.copernicus-climate.eu/cache-compute-0014/cache/data3/adaptor.mars.internal-1626476190.199202-10725-13-ad94d067-d36a-4910-a7f7-e27c6bd421b1.nc to /nobackup/users/lulur/ERA5_day_temps/mx2t_20140722.nc (47.5M)\n",
      "2021-07-16 18:56:41,915 INFO Download rate 7M/s     \n",
      "2021-07-16 18:56:42,136 INFO Welcome to the CDS\n",
      "2021-07-16 18:56:42,137 INFO Sending request to https://cds.climate.copernicus.eu/api/v2/resources/reanalysis-era5-single-levels\n",
      "2021-07-16 18:56:42,222 INFO Request is queued\n"
     ]
    },
    {
     "name": "stdout",
     "output_type": "stream",
     "text": [
      "finding mean of month 07, day 23\n"
     ]
    },
    {
     "name": "stderr",
     "output_type": "stream",
     "text": [
      "2021-07-16 18:56:43,304 INFO Request is running\n",
      "2021-07-16 18:56:50,966 INFO Request is completed\n",
      "2021-07-16 18:56:50,967 INFO Downloading https://download-0006.copernicus-climate.eu/cache-compute-0006/cache/data1/adaptor.mars.internal-1626476207.4205-5136-8-372de7ec-3c47-48e5-ab87-005401218422.nc to /nobackup/users/lulur/ERA5_day_temps/mx2t_20140723.nc (47.5M)\n",
      "2021-07-16 18:57:29,901 INFO Download rate 1.2M/s   \n",
      "2021-07-16 18:57:30,126 INFO Welcome to the CDS\n",
      "2021-07-16 18:57:30,127 INFO Sending request to https://cds.climate.copernicus.eu/api/v2/resources/reanalysis-era5-single-levels\n",
      "2021-07-16 18:57:30,219 INFO Request is queued\n"
     ]
    },
    {
     "name": "stdout",
     "output_type": "stream",
     "text": [
      "finding mean of month 07, day 24\n"
     ]
    },
    {
     "name": "stderr",
     "output_type": "stream",
     "text": [
      "2021-07-16 18:57:31,302 INFO Request is running\n",
      "2021-07-16 18:57:38,680 INFO Request is completed\n",
      "2021-07-16 18:57:38,680 INFO Downloading https://download-0002.copernicus-climate.eu/cache-compute-0002/cache/data6/adaptor.mars.internal-1626476254.340245-29473-7-b4d74852-a491-46b1-b3f9-1bf806d2a581.nc to /nobackup/users/lulur/ERA5_day_temps/mx2t_20140724.nc (47.5M)\n",
      "2021-07-16 18:58:59,289 INFO Download rate 603.9K/s \n",
      "2021-07-16 18:59:00,030 INFO Welcome to the CDS\n",
      "2021-07-16 18:59:00,031 INFO Sending request to https://cds.climate.copernicus.eu/api/v2/resources/reanalysis-era5-single-levels\n",
      "2021-07-16 18:59:00,118 INFO Request is queued\n"
     ]
    },
    {
     "name": "stdout",
     "output_type": "stream",
     "text": [
      "finding mean of month 07, day 25\n"
     ]
    },
    {
     "name": "stderr",
     "output_type": "stream",
     "text": [
      "2021-07-16 18:59:01,201 INFO Request is running\n",
      "2021-07-16 18:59:08,579 INFO Request is completed\n",
      "2021-07-16 18:59:08,579 INFO Downloading https://download-0008.copernicus-climate.eu/cache-compute-0008/cache/data3/adaptor.mars.internal-1626476343.9647946-25728-7-8714c5ff-fc0b-4002-9742-f815b7f967dc.nc to /nobackup/users/lulur/ERA5_day_temps/mx2t_20140725.nc (47.5M)\n",
      "2021-07-16 18:59:13,284 INFO Download rate 10.1M/s  \n",
      "2021-07-16 18:59:13,518 INFO Welcome to the CDS\n",
      "2021-07-16 18:59:13,519 INFO Sending request to https://cds.climate.copernicus.eu/api/v2/resources/reanalysis-era5-single-levels\n",
      "2021-07-16 18:59:13,606 INFO Request is queued\n"
     ]
    },
    {
     "name": "stdout",
     "output_type": "stream",
     "text": [
      "finding mean of month 07, day 26\n"
     ]
    },
    {
     "name": "stderr",
     "output_type": "stream",
     "text": [
      "2021-07-16 18:59:14,690 INFO Request is running\n",
      "2021-07-16 18:59:22,064 INFO Request is completed\n",
      "2021-07-16 18:59:22,065 INFO Downloading https://download-0011.copernicus-climate.eu/cache-compute-0011/cache/data2/adaptor.mars.internal-1626476357.758837-19383-15-39898dfa-d461-424c-8041-d982b28d27d8.nc to /nobackup/users/lulur/ERA5_day_temps/mx2t_20140726.nc (47.5M)\n",
      "2021-07-16 18:59:25,403 INFO Download rate 14.2M/s  \n",
      "2021-07-16 18:59:25,635 INFO Welcome to the CDS\n",
      "2021-07-16 18:59:25,636 INFO Sending request to https://cds.climate.copernicus.eu/api/v2/resources/reanalysis-era5-single-levels\n",
      "2021-07-16 18:59:25,725 INFO Request is queued\n"
     ]
    },
    {
     "name": "stdout",
     "output_type": "stream",
     "text": [
      "finding mean of month 07, day 27\n"
     ]
    },
    {
     "name": "stderr",
     "output_type": "stream",
     "text": [
      "2021-07-16 18:59:26,810 INFO Request is running\n",
      "2021-07-16 18:59:34,186 INFO Request is completed\n",
      "2021-07-16 18:59:34,187 INFO Downloading https://download-0013.copernicus-climate.eu/cache-compute-0013/cache/data8/adaptor.mars.internal-1626476369.6163437-5390-12-be968c1a-d6a3-4183-b650-58e818bc6ca5.nc to /nobackup/users/lulur/ERA5_day_temps/mx2t_20140727.nc (47.5M)\n",
      "2021-07-16 18:59:37,368 INFO Download rate 14.9M/s  \n",
      "2021-07-16 18:59:37,592 INFO Welcome to the CDS\n",
      "2021-07-16 18:59:37,592 INFO Sending request to https://cds.climate.copernicus.eu/api/v2/resources/reanalysis-era5-single-levels\n",
      "2021-07-16 18:59:37,681 INFO Request is queued\n"
     ]
    },
    {
     "name": "stdout",
     "output_type": "stream",
     "text": [
      "finding mean of month 07, day 28\n"
     ]
    },
    {
     "name": "stderr",
     "output_type": "stream",
     "text": [
      "2021-07-16 18:59:38,765 INFO Request is running\n",
      "2021-07-16 18:59:46,144 INFO Request is completed\n",
      "2021-07-16 18:59:46,144 INFO Downloading https://download-0014.copernicus-climate.eu/cache-compute-0014/cache/data3/adaptor.mars.internal-1626476382.695827-12219-12-ee7ac23f-70ba-4aa6-8cec-af8c85ef0f66.nc to /nobackup/users/lulur/ERA5_day_temps/mx2t_20140728.nc (47.5M)\n",
      "2021-07-16 18:59:51,312 INFO Download rate 9.2M/s   \n",
      "2021-07-16 18:59:51,534 INFO Welcome to the CDS\n",
      "2021-07-16 18:59:51,537 INFO Sending request to https://cds.climate.copernicus.eu/api/v2/resources/reanalysis-era5-single-levels\n",
      "2021-07-16 18:59:51,627 INFO Request is queued\n"
     ]
    },
    {
     "name": "stdout",
     "output_type": "stream",
     "text": [
      "finding mean of month 07, day 29\n"
     ]
    },
    {
     "name": "stderr",
     "output_type": "stream",
     "text": [
      "2021-07-16 18:59:52,710 INFO Request is running\n",
      "2021-07-16 19:00:00,088 INFO Request is completed\n",
      "2021-07-16 19:00:00,088 INFO Downloading https://download-0000.copernicus-climate.eu/cache-compute-0000/cache/data2/adaptor.mars.internal-1626476395.5603433-4666-3-12c1c544-8721-4eae-83f4-4ff32c5af22f.nc to /nobackup/users/lulur/ERA5_day_temps/mx2t_20140729.nc (47.5M)\n",
      "2021-07-16 19:00:13,689 INFO Download rate 3.5M/s   \n",
      "2021-07-16 19:00:13,913 INFO Welcome to the CDS\n",
      "2021-07-16 19:00:13,914 INFO Sending request to https://cds.climate.copernicus.eu/api/v2/resources/reanalysis-era5-single-levels\n",
      "2021-07-16 19:00:14,001 INFO Request is queued\n"
     ]
    },
    {
     "name": "stdout",
     "output_type": "stream",
     "text": [
      "finding mean of month 07, day 30\n"
     ]
    },
    {
     "name": "stderr",
     "output_type": "stream",
     "text": [
      "2021-07-16 19:00:15,083 INFO Request is running\n",
      "2021-07-16 19:00:19,002 INFO Request is completed\n",
      "2021-07-16 19:00:19,003 INFO Downloading https://download-0008.copernicus-climate.eu/cache-compute-0008/cache/data3/adaptor.mars.internal-1626476416.8257627-32445-8-e89dcfa9-1e0d-4ddd-a8e4-99e51f2d9ee8.nc to /nobackup/users/lulur/ERA5_day_temps/mx2t_20140730.nc (47.5M)\n",
      "2021-07-16 19:00:32,088 INFO Download rate 3.6M/s   \n",
      "2021-07-16 19:00:32,589 INFO Welcome to the CDS\n",
      "2021-07-16 19:00:32,589 INFO Sending request to https://cds.climate.copernicus.eu/api/v2/resources/reanalysis-era5-single-levels\n",
      "2021-07-16 19:00:32,680 INFO Request is queued\n"
     ]
    },
    {
     "name": "stdout",
     "output_type": "stream",
     "text": [
      "finding mean of month 07, day 31\n"
     ]
    },
    {
     "name": "stderr",
     "output_type": "stream",
     "text": [
      "2021-07-16 19:00:33,763 INFO Request is running\n",
      "2021-07-16 19:00:41,146 INFO Request is completed\n",
      "2021-07-16 19:00:41,146 INFO Downloading https://download-0013.copernicus-climate.eu/cache-compute-0013/cache/data1/adaptor.mars.internal-1626476437.961741-5390-13-15b0860d-3f74-4c6e-b557-656988483028.nc to /nobackup/users/lulur/ERA5_day_temps/mx2t_20140731.nc (47.5M)\n",
      "2021-07-16 19:00:56,199 INFO Download rate 3.2M/s   \n",
      "2021-07-16 19:00:56,702 INFO Welcome to the CDS\n",
      "2021-07-16 19:00:56,703 INFO Sending request to https://cds.climate.copernicus.eu/api/v2/resources/reanalysis-era5-single-levels\n",
      "2021-07-16 19:00:56,789 INFO Request is queued\n"
     ]
    },
    {
     "name": "stdout",
     "output_type": "stream",
     "text": [
      "finding mean of month 08, day 01\n"
     ]
    },
    {
     "name": "stderr",
     "output_type": "stream",
     "text": [
      "2021-07-16 19:00:57,872 INFO Request is running\n",
      "2021-07-16 19:01:05,249 INFO Request is completed\n",
      "2021-07-16 19:01:05,249 INFO Downloading https://download-0014.copernicus-climate.eu/cache-compute-0014/cache/data5/adaptor.mars.internal-1626476461.2345858-19803-2-202dd0f2-c3c6-42e2-9b11-42ce87b91fb9.nc to /nobackup/users/lulur/ERA5_day_temps/mx2t_20140801.nc (47.5M)\n",
      "2021-07-16 19:01:09,930 INFO Download rate 10.2M/s  \n",
      "2021-07-16 19:01:10,154 INFO Welcome to the CDS\n",
      "2021-07-16 19:01:10,155 INFO Sending request to https://cds.climate.copernicus.eu/api/v2/resources/reanalysis-era5-single-levels\n",
      "2021-07-16 19:01:10,244 INFO Request is queued\n"
     ]
    },
    {
     "name": "stdout",
     "output_type": "stream",
     "text": [
      "finding mean of month 08, day 02\n"
     ]
    },
    {
     "name": "stderr",
     "output_type": "stream",
     "text": [
      "2021-07-16 19:01:11,327 INFO Request is running\n",
      "2021-07-16 19:01:18,703 INFO Request is completed\n",
      "2021-07-16 19:01:18,704 INFO Downloading https://download-0010.copernicus-climate.eu/cache-compute-0010/cache/data1/adaptor.mars.internal-1626476475.0957131-19956-9-b0b4b67f-fc1f-4b3a-b18f-5085f85c5f57.nc to /nobackup/users/lulur/ERA5_day_temps/mx2t_20140802.nc (47.5M)\n",
      "2021-07-16 19:01:27,656 INFO Download rate 5.3M/s   \n",
      "2021-07-16 19:01:27,886 INFO Welcome to the CDS\n",
      "2021-07-16 19:01:27,887 INFO Sending request to https://cds.climate.copernicus.eu/api/v2/resources/reanalysis-era5-single-levels\n",
      "2021-07-16 19:01:27,974 INFO Request is queued\n"
     ]
    },
    {
     "name": "stdout",
     "output_type": "stream",
     "text": [
      "finding mean of month 08, day 03\n"
     ]
    },
    {
     "name": "stderr",
     "output_type": "stream",
     "text": [
      "2021-07-16 19:01:29,056 INFO Request is running\n",
      "2021-07-16 19:01:36,433 INFO Request is completed\n",
      "2021-07-16 19:01:36,434 INFO Downloading https://download-0011.copernicus-climate.eu/cache-compute-0011/cache/data8/adaptor.mars.internal-1626476491.7730608-22576-12-676aea38-5467-45f1-bfd3-50c94c6c9437.nc to /nobackup/users/lulur/ERA5_day_temps/mx2t_20140803.nc (47.5M)\n",
      "2021-07-16 19:01:41,129 INFO Download rate 10.1M/s  \n",
      "2021-07-16 19:01:41,351 INFO Welcome to the CDS\n",
      "2021-07-16 19:01:41,351 INFO Sending request to https://cds.climate.copernicus.eu/api/v2/resources/reanalysis-era5-single-levels\n",
      "2021-07-16 19:01:41,440 INFO Request is queued\n"
     ]
    },
    {
     "name": "stdout",
     "output_type": "stream",
     "text": [
      "finding mean of month 08, day 04\n"
     ]
    },
    {
     "name": "stderr",
     "output_type": "stream",
     "text": [
      "2021-07-16 19:01:42,809 INFO Request is running\n",
      "2021-07-16 19:01:50,186 INFO Request is completed\n",
      "2021-07-16 19:01:50,186 INFO Downloading https://download-0011.copernicus-climate.eu/cache-compute-0011/cache/data4/adaptor.mars.internal-1626476506.7983837-18990-18-81ea37c2-174b-4595-bb9b-bf4a8deef71d.nc to /nobackup/users/lulur/ERA5_day_temps/mx2t_20140804.nc (47.5M)\n",
      "2021-07-16 19:02:12,251 INFO Download rate 2.2M/s   \n",
      "2021-07-16 19:02:12,475 INFO Welcome to the CDS\n",
      "2021-07-16 19:02:12,475 INFO Sending request to https://cds.climate.copernicus.eu/api/v2/resources/reanalysis-era5-single-levels\n",
      "2021-07-16 19:02:12,564 INFO Request is queued\n"
     ]
    },
    {
     "name": "stdout",
     "output_type": "stream",
     "text": [
      "finding mean of month 08, day 05\n"
     ]
    },
    {
     "name": "stderr",
     "output_type": "stream",
     "text": [
      "2021-07-16 19:02:13,647 INFO Request is running\n",
      "2021-07-16 19:02:21,027 INFO Request is completed\n",
      "2021-07-16 19:02:21,027 INFO Downloading https://download-0009.copernicus-climate.eu/cache-compute-0009/cache/data5/adaptor.mars.internal-1626476536.4176478-5388-7-1734165d-cf13-4f84-8ccc-10ed25501adc.nc to /nobackup/users/lulur/ERA5_day_temps/mx2t_20140805.nc (47.5M)\n",
      "2021-07-16 19:02:27,824 INFO Download rate 7M/s     \n",
      "2021-07-16 19:02:28,048 INFO Welcome to the CDS\n",
      "2021-07-16 19:02:28,050 INFO Sending request to https://cds.climate.copernicus.eu/api/v2/resources/reanalysis-era5-single-levels\n",
      "2021-07-16 19:02:28,138 INFO Request is queued\n"
     ]
    },
    {
     "name": "stdout",
     "output_type": "stream",
     "text": [
      "finding mean of month 08, day 06\n"
     ]
    },
    {
     "name": "stderr",
     "output_type": "stream",
     "text": [
      "2021-07-16 19:02:29,223 INFO Request is running\n",
      "2021-07-16 19:02:37,172 INFO Request is completed\n",
      "2021-07-16 19:02:37,173 INFO Downloading https://download-0010.copernicus-climate.eu/cache-compute-0010/cache/data0/adaptor.mars.internal-1626476552.6736734-25472-4-b53425b8-c288-489c-ab0b-0e02d2c32b89.nc to /nobackup/users/lulur/ERA5_day_temps/mx2t_20140806.nc (47.5M)\n",
      "2021-07-16 19:02:40,760 INFO Download rate 13.3M/s  \n",
      "2021-07-16 19:02:41,264 INFO Welcome to the CDS\n",
      "2021-07-16 19:02:41,265 INFO Sending request to https://cds.climate.copernicus.eu/api/v2/resources/reanalysis-era5-single-levels\n",
      "2021-07-16 19:02:41,350 INFO Request is queued\n"
     ]
    },
    {
     "name": "stdout",
     "output_type": "stream",
     "text": [
      "finding mean of month 08, day 07\n"
     ]
    },
    {
     "name": "stderr",
     "output_type": "stream",
     "text": [
      "2021-07-16 19:02:42,432 INFO Request is running\n",
      "2021-07-16 19:02:49,807 INFO Request is completed\n",
      "2021-07-16 19:02:49,808 INFO Downloading https://download-0005.copernicus-climate.eu/cache-compute-0005/cache/data8/adaptor.mars.internal-1626476566.2633212-18166-14-1c888c48-bac3-4345-bd46-04398a2b75be.nc to /nobackup/users/lulur/ERA5_day_temps/mx2t_20140807.nc (47.5M)\n",
      "2021-07-16 19:02:54,551 INFO Download rate 10M/s    \n",
      "2021-07-16 19:02:54,774 INFO Welcome to the CDS\n",
      "2021-07-16 19:02:54,775 INFO Sending request to https://cds.climate.copernicus.eu/api/v2/resources/reanalysis-era5-single-levels\n",
      "2021-07-16 19:02:54,864 INFO Request is queued\n"
     ]
    },
    {
     "name": "stdout",
     "output_type": "stream",
     "text": [
      "finding mean of month 08, day 08\n"
     ]
    },
    {
     "name": "stderr",
     "output_type": "stream",
     "text": [
      "2021-07-16 19:02:56,187 INFO Request is running\n",
      "2021-07-16 19:03:03,569 INFO Request is completed\n",
      "2021-07-16 19:03:03,569 INFO Downloading https://download-0001.copernicus-climate.eu/cache-compute-0001/cache/data1/adaptor.mars.internal-1626476579.2060072-15228-4-039e2c20-7c0c-44ef-98ea-33c6216df94e.nc to /nobackup/users/lulur/ERA5_day_temps/mx2t_20140808.nc (47.5M)\n",
      "2021-07-16 19:03:12,831 INFO Download rate 5.1M/s   \n"
     ]
    },
    {
     "name": "stdout",
     "output_type": "stream",
     "text": [
      "finding mean of month 08, day 09\n"
     ]
    },
    {
     "name": "stderr",
     "output_type": "stream",
     "text": [
      "2021-07-16 19:03:13,337 INFO Welcome to the CDS\n",
      "2021-07-16 19:03:13,338 INFO Sending request to https://cds.climate.copernicus.eu/api/v2/resources/reanalysis-era5-single-levels\n",
      "2021-07-16 19:03:13,425 INFO Request is queued\n",
      "2021-07-16 19:03:14,508 INFO Request is running\n",
      "2021-07-16 19:03:21,888 INFO Request is completed\n",
      "2021-07-16 19:03:21,889 INFO Downloading https://download-0014.copernicus-climate.eu/cache-compute-0014/cache/data9/adaptor.mars.internal-1626476597.2390363-19803-4-d95c8f97-f1ed-43a6-b926-bfa1cc6f55dd.nc to /nobackup/users/lulur/ERA5_day_temps/mx2t_20140809.nc (47.5M)\n",
      "2021-07-16 19:03:26,178 INFO Download rate 11.1M/s  \n",
      "2021-07-16 19:03:26,411 INFO Welcome to the CDS\n",
      "2021-07-16 19:03:26,412 INFO Sending request to https://cds.climate.copernicus.eu/api/v2/resources/reanalysis-era5-single-levels\n",
      "2021-07-16 19:03:26,500 INFO Request is queued\n"
     ]
    },
    {
     "name": "stdout",
     "output_type": "stream",
     "text": [
      "finding mean of month 08, day 10\n"
     ]
    },
    {
     "name": "stderr",
     "output_type": "stream",
     "text": [
      "2021-07-16 19:03:27,584 INFO Request is running\n",
      "2021-07-16 19:03:35,267 INFO Request is completed\n",
      "2021-07-16 19:03:35,267 INFO Downloading https://download-0008.copernicus-climate.eu/cache-compute-0008/cache/data4/adaptor.mars.internal-1626476610.4630618-25987-5-b8ad5ea9-8501-451b-a957-05e1a6540d08.nc to /nobackup/users/lulur/ERA5_day_temps/mx2t_20140810.nc (47.5M)\n",
      "2021-07-16 19:03:38,232 INFO Download rate 16M/s    \n",
      "2021-07-16 19:03:38,456 INFO Welcome to the CDS\n",
      "2021-07-16 19:03:38,457 INFO Sending request to https://cds.climate.copernicus.eu/api/v2/resources/reanalysis-era5-single-levels\n",
      "2021-07-16 19:03:38,544 INFO Request is queued\n"
     ]
    },
    {
     "name": "stdout",
     "output_type": "stream",
     "text": [
      "finding mean of month 08, day 11\n"
     ]
    },
    {
     "name": "stderr",
     "output_type": "stream",
     "text": [
      "2021-07-16 19:03:39,627 INFO Request is running\n",
      "2021-07-16 19:03:47,703 INFO Request is completed\n",
      "2021-07-16 19:03:47,704 INFO Downloading https://download-0013.copernicus-climate.eu/cache-compute-0013/cache/data7/adaptor.mars.internal-1626476622.413219-2724-20-6ba4ab71-acf5-4d4f-aeb3-76222d70181d.nc to /nobackup/users/lulur/ERA5_day_temps/mx2t_20140811.nc (47.5M)\n",
      "2021-07-16 19:03:52,408 INFO Download rate 10.1M/s  \n",
      "2021-07-16 19:03:52,637 INFO Welcome to the CDS\n",
      "2021-07-16 19:03:52,638 INFO Sending request to https://cds.climate.copernicus.eu/api/v2/resources/reanalysis-era5-single-levels\n",
      "2021-07-16 19:03:52,733 INFO Request is queued\n"
     ]
    },
    {
     "name": "stdout",
     "output_type": "stream",
     "text": [
      "finding mean of month 08, day 12\n"
     ]
    },
    {
     "name": "stderr",
     "output_type": "stream",
     "text": [
      "2021-07-16 19:03:53,815 INFO Request is running\n",
      "2021-07-16 19:04:01,195 INFO Request is completed\n",
      "2021-07-16 19:04:01,195 INFO Downloading https://download-0005.copernicus-climate.eu/cache-compute-0005/cache/data6/adaptor.mars.internal-1626476637.3062856-18166-15-79065936-1fca-467d-9932-115db56547cd.nc to /nobackup/users/lulur/ERA5_day_temps/mx2t_20140812.nc (47.5M)\n",
      "2021-07-16 19:04:04,909 INFO Download rate 12.8M/s  \n",
      "2021-07-16 19:04:05,130 INFO Welcome to the CDS\n",
      "2021-07-16 19:04:05,131 INFO Sending request to https://cds.climate.copernicus.eu/api/v2/resources/reanalysis-era5-single-levels\n",
      "2021-07-16 19:04:05,220 INFO Request is queued\n"
     ]
    },
    {
     "name": "stdout",
     "output_type": "stream",
     "text": [
      "finding mean of month 08, day 13\n"
     ]
    },
    {
     "name": "stderr",
     "output_type": "stream",
     "text": [
      "2021-07-16 19:04:06,303 INFO Request is running\n",
      "2021-07-16 19:04:13,682 INFO Request is completed\n",
      "2021-07-16 19:04:13,682 INFO Downloading https://download-0001.copernicus-climate.eu/cache-compute-0001/cache/data2/adaptor.mars.internal-1626476650.3749368-16391-2-724bb1c7-c4c3-43d2-9fd1-5c406c8713c7.nc to /nobackup/users/lulur/ERA5_day_temps/mx2t_20140813.nc (47.5M)\n",
      "2021-07-16 19:04:35,141 INFO Download rate 2.2M/s   \n",
      "2021-07-16 19:04:35,365 INFO Welcome to the CDS\n",
      "2021-07-16 19:04:35,365 INFO Sending request to https://cds.climate.copernicus.eu/api/v2/resources/reanalysis-era5-single-levels\n",
      "2021-07-16 19:04:35,454 INFO Request is queued\n"
     ]
    },
    {
     "name": "stdout",
     "output_type": "stream",
     "text": [
      "finding mean of month 08, day 14\n"
     ]
    },
    {
     "name": "stderr",
     "output_type": "stream",
     "text": [
      "2021-07-16 19:04:36,537 INFO Request is running\n",
      "2021-07-16 19:04:43,915 INFO Request is completed\n",
      "2021-07-16 19:04:43,915 INFO Downloading https://download-0009.copernicus-climate.eu/cache-compute-0009/cache/data5/adaptor.mars.internal-1626476679.7082253-6720-11-d3e62c3b-1af4-4931-b9f9-b74c6d86274e.nc to /nobackup/users/lulur/ERA5_day_temps/mx2t_20140814.nc (47.5M)\n",
      "2021-07-16 19:04:47,033 INFO Download rate 15.2M/s  \n",
      "2021-07-16 19:04:47,256 INFO Welcome to the CDS\n",
      "2021-07-16 19:04:47,258 INFO Sending request to https://cds.climate.copernicus.eu/api/v2/resources/reanalysis-era5-single-levels\n",
      "2021-07-16 19:04:47,344 INFO Request is queued\n"
     ]
    },
    {
     "name": "stdout",
     "output_type": "stream",
     "text": [
      "finding mean of month 08, day 15\n"
     ]
    },
    {
     "name": "stderr",
     "output_type": "stream",
     "text": [
      "2021-07-16 19:04:48,427 INFO Request is running\n",
      "2021-07-16 19:04:55,802 INFO Request is completed\n",
      "2021-07-16 19:04:55,802 INFO Downloading https://download-0007.copernicus-climate.eu/cache-compute-0007/cache/data3/adaptor.mars.internal-1626476692.320104-487-9-1553c08c-a385-48a1-9a4c-0438777b409a.nc to /nobackup/users/lulur/ERA5_day_temps/mx2t_20140815.nc (47.5M)\n",
      "2021-07-16 19:05:04,530 INFO Download rate 5.4M/s   \n",
      "2021-07-16 19:05:04,752 INFO Welcome to the CDS\n",
      "2021-07-16 19:05:04,753 INFO Sending request to https://cds.climate.copernicus.eu/api/v2/resources/reanalysis-era5-single-levels\n",
      "2021-07-16 19:05:04,839 INFO Request is queued\n"
     ]
    },
    {
     "name": "stdout",
     "output_type": "stream",
     "text": [
      "finding mean of month 08, day 16\n"
     ]
    },
    {
     "name": "stderr",
     "output_type": "stream",
     "text": [
      "2021-07-16 19:05:05,921 INFO Request is running\n",
      "2021-07-16 19:05:09,839 INFO Request is completed\n",
      "2021-07-16 19:05:09,840 INFO Downloading https://download-0003.copernicus-climate.eu/cache-compute-0003/cache/data9/adaptor.mars.internal-1626476707.8425653-8401-14-5be081db-e8c2-4fed-9401-618618b409c8.nc to /nobackup/users/lulur/ERA5_day_temps/mx2t_20140816.nc (47.5M)\n",
      "2021-07-16 19:05:13,475 INFO Download rate 13.1M/s  \n",
      "2021-07-16 19:05:13,696 INFO Welcome to the CDS\n",
      "2021-07-16 19:05:13,698 INFO Sending request to https://cds.climate.copernicus.eu/api/v2/resources/reanalysis-era5-single-levels\n"
     ]
    },
    {
     "name": "stdout",
     "output_type": "stream",
     "text": [
      "finding mean of month 08, day 17\n"
     ]
    },
    {
     "name": "stderr",
     "output_type": "stream",
     "text": [
      "2021-07-16 19:05:14,067 INFO Request is queued\n",
      "2021-07-16 19:05:15,149 INFO Request is running\n",
      "2021-07-16 19:05:22,523 INFO Request is completed\n",
      "2021-07-16 19:05:22,524 INFO Downloading https://download-0015.copernicus-climate.eu/cache-compute-0015/cache/data1/adaptor.mars.internal-1626476718.001875-14392-9-d259e4a5-9444-48aa-8167-adf3d5181f5f.nc to /nobackup/users/lulur/ERA5_day_temps/mx2t_20140817.nc (47.5M)\n",
      "2021-07-16 19:05:26,676 INFO Download rate 11.5M/s  \n",
      "2021-07-16 19:05:26,898 INFO Welcome to the CDS\n",
      "2021-07-16 19:05:26,898 INFO Sending request to https://cds.climate.copernicus.eu/api/v2/resources/reanalysis-era5-single-levels\n",
      "2021-07-16 19:05:26,983 INFO Request is queued\n"
     ]
    },
    {
     "name": "stdout",
     "output_type": "stream",
     "text": [
      "finding mean of month 08, day 18\n"
     ]
    },
    {
     "name": "stderr",
     "output_type": "stream",
     "text": [
      "2021-07-16 19:05:28,064 INFO Request is running\n",
      "2021-07-16 19:05:35,441 INFO Request is completed\n",
      "2021-07-16 19:05:35,442 INFO Downloading https://download-0010.copernicus-climate.eu/cache-compute-0010/cache/data3/adaptor.mars.internal-1626476731.0003805-18550-14-32474052-90e8-4fc7-848f-34f8fb639f28.nc to /nobackup/users/lulur/ERA5_day_temps/mx2t_20140818.nc (47.5M)\n",
      "2021-07-16 19:05:41,105 INFO Download rate 8.4M/s   \n",
      "2021-07-16 19:05:41,342 INFO Welcome to the CDS\n",
      "2021-07-16 19:05:41,343 INFO Sending request to https://cds.climate.copernicus.eu/api/v2/resources/reanalysis-era5-single-levels\n",
      "2021-07-16 19:05:41,429 INFO Request is queued\n"
     ]
    },
    {
     "name": "stdout",
     "output_type": "stream",
     "text": [
      "finding mean of month 08, day 19\n"
     ]
    },
    {
     "name": "stderr",
     "output_type": "stream",
     "text": [
      "2021-07-16 19:05:42,511 INFO Request is running\n",
      "2021-07-16 19:05:49,888 INFO Request is completed\n",
      "2021-07-16 19:05:49,889 INFO Downloading https://download-0006.copernicus-climate.eu/cache-compute-0006/cache/data6/adaptor.mars.internal-1626476745.7923548-5136-14-7d431e48-1a12-4c89-b7e8-e51676cc5da5.nc to /nobackup/users/lulur/ERA5_day_temps/mx2t_20140819.nc (47.5M)\n",
      "2021-07-16 19:05:56,506 INFO Download rate 7.2M/s   \n",
      "2021-07-16 19:05:56,730 INFO Welcome to the CDS\n",
      "2021-07-16 19:05:56,730 INFO Sending request to https://cds.climate.copernicus.eu/api/v2/resources/reanalysis-era5-single-levels\n",
      "2021-07-16 19:05:56,820 INFO Request is queued\n"
     ]
    },
    {
     "name": "stdout",
     "output_type": "stream",
     "text": [
      "finding mean of month 08, day 20\n"
     ]
    },
    {
     "name": "stderr",
     "output_type": "stream",
     "text": [
      "2021-07-16 19:05:57,903 INFO Request is running\n",
      "2021-07-16 19:06:01,819 INFO Request is completed\n",
      "2021-07-16 19:06:01,820 INFO Downloading https://download-0002.copernicus-climate.eu/cache-compute-0002/cache/data4/adaptor.mars.internal-1626476760.3402112-16170-20-eeb50f71-fbbe-4c36-bbd6-2842dfcb81e9.nc to /nobackup/users/lulur/ERA5_day_temps/mx2t_20140820.nc (47.5M)\n",
      "2021-07-16 19:06:35,547 INFO Download rate 1.4M/s   \n",
      "2021-07-16 19:06:35,771 INFO Welcome to the CDS\n",
      "2021-07-16 19:06:35,771 INFO Sending request to https://cds.climate.copernicus.eu/api/v2/resources/reanalysis-era5-single-levels\n",
      "2021-07-16 19:06:35,858 INFO Request is queued\n"
     ]
    },
    {
     "name": "stdout",
     "output_type": "stream",
     "text": [
      "finding mean of month 08, day 21\n"
     ]
    },
    {
     "name": "stderr",
     "output_type": "stream",
     "text": [
      "2021-07-16 19:06:36,942 INFO Request is running\n",
      "2021-07-16 19:06:44,602 INFO Request is completed\n",
      "2021-07-16 19:06:44,603 INFO Downloading https://download-0006.copernicus-climate.eu/cache-compute-0006/cache/data2/adaptor.mars.internal-1626476799.8413324-12990-5-42f1f7ef-eaf0-45f7-b418-ce7fa8571d8e.nc to /nobackup/users/lulur/ERA5_day_temps/mx2t_20140821.nc (47.5M)\n",
      "2021-07-16 19:06:57,480 INFO Download rate 3.7M/s   \n",
      "2021-07-16 19:06:57,702 INFO Welcome to the CDS\n",
      "2021-07-16 19:06:57,702 INFO Sending request to https://cds.climate.copernicus.eu/api/v2/resources/reanalysis-era5-single-levels\n",
      "2021-07-16 19:06:57,791 INFO Request is queued\n"
     ]
    },
    {
     "name": "stdout",
     "output_type": "stream",
     "text": [
      "finding mean of month 08, day 22\n"
     ]
    },
    {
     "name": "stderr",
     "output_type": "stream",
     "text": [
      "2021-07-16 19:06:58,874 INFO Request is running\n",
      "2021-07-16 19:07:19,606 INFO Request is completed\n",
      "2021-07-16 19:07:19,607 INFO Downloading https://download-0009.copernicus-climate.eu/cache-compute-0009/cache/data6/adaptor.mars.internal-1626476832.2574036-6380-13-e3b6bed5-e58b-4fa0-b98d-a06aa246bab4.nc to /nobackup/users/lulur/ERA5_day_temps/mx2t_20140822.nc (47.5M)\n",
      "2021-07-16 19:07:27,702 INFO Download rate 5.9M/s   \n",
      "2021-07-16 19:07:27,926 INFO Welcome to the CDS\n",
      "2021-07-16 19:07:27,926 INFO Sending request to https://cds.climate.copernicus.eu/api/v2/resources/reanalysis-era5-single-levels\n",
      "2021-07-16 19:07:28,014 INFO Request is queued\n"
     ]
    },
    {
     "name": "stdout",
     "output_type": "stream",
     "text": [
      "finding mean of month 08, day 23\n"
     ]
    },
    {
     "name": "stderr",
     "output_type": "stream",
     "text": [
      "2021-07-16 19:07:29,097 INFO Request is running\n",
      "2021-07-16 19:07:36,475 INFO Request is completed\n",
      "2021-07-16 19:07:36,476 INFO Downloading https://download-0003.copernicus-climate.eu/cache-compute-0003/cache/data3/adaptor.mars.internal-1626476852.7442124-20502-1-01e7348e-2724-4cb7-bf90-13214e175196.nc to /nobackup/users/lulur/ERA5_day_temps/mx2t_20140823.nc (47.5M)\n",
      "2021-07-16 19:07:42,221 INFO Download rate 8.3M/s   \n",
      "2021-07-16 19:07:42,442 INFO Welcome to the CDS\n",
      "2021-07-16 19:07:42,443 INFO Sending request to https://cds.climate.copernicus.eu/api/v2/resources/reanalysis-era5-single-levels\n",
      "2021-07-16 19:07:42,529 INFO Request is queued\n"
     ]
    },
    {
     "name": "stdout",
     "output_type": "stream",
     "text": [
      "finding mean of month 08, day 24\n"
     ]
    },
    {
     "name": "stderr",
     "output_type": "stream",
     "text": [
      "2021-07-16 19:07:43,613 INFO Request is running\n",
      "2021-07-16 19:07:51,024 INFO Request is completed\n",
      "2021-07-16 19:07:51,024 INFO Downloading https://download-0001.copernicus-climate.eu/cache-compute-0001/cache/data6/adaptor.mars.internal-1626476867.1531646-6292-18-5ca5d47f-3d0f-4765-8f67-231c1a6f00a8.nc to /nobackup/users/lulur/ERA5_day_temps/mx2t_20140824.nc (47.5M)\n",
      "2021-07-16 19:07:54,136 INFO Download rate 15.3M/s  \n",
      "2021-07-16 19:07:54,368 INFO Welcome to the CDS\n",
      "2021-07-16 19:07:54,369 INFO Sending request to https://cds.climate.copernicus.eu/api/v2/resources/reanalysis-era5-single-levels\n",
      "2021-07-16 19:07:54,456 INFO Request is queued\n"
     ]
    },
    {
     "name": "stdout",
     "output_type": "stream",
     "text": [
      "finding mean of month 08, day 25\n"
     ]
    },
    {
     "name": "stderr",
     "output_type": "stream",
     "text": [
      "2021-07-16 19:07:55,539 INFO Request is running\n",
      "2021-07-16 19:08:02,917 INFO Request is completed\n",
      "2021-07-16 19:08:02,917 INFO Downloading https://download-0009.copernicus-climate.eu/cache-compute-0009/cache/data6/adaptor.mars.internal-1626476879.0041065-12562-9-d6038d11-055d-4934-a8fe-3890e5de8812.nc to /nobackup/users/lulur/ERA5_day_temps/mx2t_20140825.nc (47.5M)\n",
      "2021-07-16 19:08:29,736 INFO Download rate 1.8M/s   \n",
      "2021-07-16 19:08:29,968 INFO Welcome to the CDS\n",
      "2021-07-16 19:08:29,969 INFO Sending request to https://cds.climate.copernicus.eu/api/v2/resources/reanalysis-era5-single-levels\n",
      "2021-07-16 19:08:30,059 INFO Request is queued\n"
     ]
    },
    {
     "name": "stdout",
     "output_type": "stream",
     "text": [
      "finding mean of month 08, day 26\n"
     ]
    },
    {
     "name": "stderr",
     "output_type": "stream",
     "text": [
      "2021-07-16 19:08:31,142 INFO Request is running\n",
      "2021-07-16 19:08:38,520 INFO Request is completed\n",
      "2021-07-16 19:08:38,520 INFO Downloading https://download-0010.copernicus-climate.eu/cache-compute-0010/cache/data1/adaptor.mars.internal-1626476914.700757-20266-11-59c4f18b-d059-4aa3-bf13-39d1e1941679.nc to /nobackup/users/lulur/ERA5_day_temps/mx2t_20140826.nc (47.5M)\n",
      "2021-07-16 19:09:32,906 INFO Download rate 895K/s     \n",
      "2021-07-16 19:09:33,139 INFO Welcome to the CDS\n",
      "2021-07-16 19:09:33,139 INFO Sending request to https://cds.climate.copernicus.eu/api/v2/resources/reanalysis-era5-single-levels\n"
     ]
    },
    {
     "name": "stdout",
     "output_type": "stream",
     "text": [
      "finding mean of month 08, day 27\n"
     ]
    },
    {
     "name": "stderr",
     "output_type": "stream",
     "text": [
      "2021-07-16 19:09:33,507 INFO Request is queued\n",
      "2021-07-16 19:09:34,590 INFO Request is running\n",
      "2021-07-16 19:09:41,967 INFO Request is completed\n",
      "2021-07-16 19:09:41,968 INFO Downloading https://download-0004.copernicus-climate.eu/cache-compute-0004/cache/data1/adaptor.mars.internal-1626476977.8393016-4910-9-c853dd7b-e8c1-4089-a473-3eab39d73240.nc to /nobackup/users/lulur/ERA5_day_temps/mx2t_20140827.nc (47.5M)\n",
      "2021-07-16 19:09:50,091 INFO Download rate 5.9M/s   \n",
      "2021-07-16 19:09:50,314 INFO Welcome to the CDS\n",
      "2021-07-16 19:09:50,315 INFO Sending request to https://cds.climate.copernicus.eu/api/v2/resources/reanalysis-era5-single-levels\n",
      "2021-07-16 19:09:50,401 INFO Request is queued\n"
     ]
    },
    {
     "name": "stdout",
     "output_type": "stream",
     "text": [
      "finding mean of month 08, day 28\n"
     ]
    },
    {
     "name": "stderr",
     "output_type": "stream",
     "text": [
      "2021-07-16 19:09:51,483 INFO Request is running\n",
      "2021-07-16 19:09:59,146 INFO Request is completed\n",
      "2021-07-16 19:09:59,146 INFO Downloading https://download-0011.copernicus-climate.eu/cache-compute-0011/cache/data4/adaptor.mars.internal-1626476994.8807256-31145-6-34d5a8af-05f4-4a38-92fe-2c0ac729e50c.nc to /nobackup/users/lulur/ERA5_day_temps/mx2t_20140828.nc (47.5M)\n",
      "2021-07-16 19:10:43,844 INFO Download rate 1.1M/s   \n",
      "2021-07-16 19:10:44,080 INFO Welcome to the CDS\n",
      "2021-07-16 19:10:44,081 INFO Sending request to https://cds.climate.copernicus.eu/api/v2/resources/reanalysis-era5-single-levels\n",
      "2021-07-16 19:10:44,168 INFO Request is queued\n"
     ]
    },
    {
     "name": "stdout",
     "output_type": "stream",
     "text": [
      "finding mean of month 08, day 29\n"
     ]
    },
    {
     "name": "stderr",
     "output_type": "stream",
     "text": [
      "2021-07-16 19:10:45,255 INFO Request is running\n",
      "2021-07-16 19:10:52,632 INFO Request is completed\n",
      "2021-07-16 19:10:52,633 INFO Downloading https://download-0015.copernicus-climate.eu/cache-compute-0015/cache/data3/adaptor.mars.internal-1626477049.3510866-25939-1-412f4f5a-3368-4921-8604-f81d2940d93a.nc to /nobackup/users/lulur/ERA5_day_temps/mx2t_20140829.nc (47.5M)\n",
      "2021-07-16 19:10:57,243 INFO Download rate 10.3M/s  \n",
      "2021-07-16 19:10:57,468 INFO Welcome to the CDS\n",
      "2021-07-16 19:10:57,469 INFO Sending request to https://cds.climate.copernicus.eu/api/v2/resources/reanalysis-era5-single-levels\n",
      "2021-07-16 19:10:57,559 INFO Request is queued\n"
     ]
    },
    {
     "name": "stdout",
     "output_type": "stream",
     "text": [
      "finding mean of month 08, day 30\n"
     ]
    },
    {
     "name": "stderr",
     "output_type": "stream",
     "text": [
      "2021-07-16 19:10:58,643 INFO Request is running\n",
      "2021-07-16 19:11:06,020 INFO Request is completed\n",
      "2021-07-16 19:11:06,020 INFO Downloading https://download-0012.copernicus-climate.eu/cache-compute-0012/cache/data8/adaptor.mars.internal-1626477062.3163996-29144-11-e494facc-af18-4a47-b5aa-a6103b7e70d5.nc to /nobackup/users/lulur/ERA5_day_temps/mx2t_20140830.nc (47.5M)\n",
      "2021-07-16 19:11:10,396 INFO Download rate 10.9M/s  \n",
      "2021-07-16 19:11:10,633 INFO Welcome to the CDS\n",
      "2021-07-16 19:11:10,633 INFO Sending request to https://cds.climate.copernicus.eu/api/v2/resources/reanalysis-era5-single-levels\n",
      "2021-07-16 19:11:10,720 INFO Request is queued\n"
     ]
    },
    {
     "name": "stdout",
     "output_type": "stream",
     "text": [
      "finding mean of month 08, day 31\n"
     ]
    },
    {
     "name": "stderr",
     "output_type": "stream",
     "text": [
      "2021-07-16 19:11:12,087 INFO Request is running\n",
      "2021-07-16 19:11:16,003 INFO Request is completed\n",
      "2021-07-16 19:11:16,005 INFO Downloading https://download-0001.copernicus-climate.eu/cache-compute-0001/cache/data7/adaptor.mars.internal-1626477074.3615296-15228-11-e52f4c6b-0a11-4367-b0d2-0d04384d26eb.nc to /nobackup/users/lulur/ERA5_day_temps/mx2t_20140831.nc (47.5M)\n",
      "2021-07-16 19:11:19,227 INFO Download rate 14.8M/s  \n",
      "2021-07-16 19:11:19,450 INFO Welcome to the CDS\n",
      "2021-07-16 19:11:19,450 INFO Sending request to https://cds.climate.copernicus.eu/api/v2/resources/reanalysis-era5-single-levels\n",
      "2021-07-16 19:11:19,537 INFO Request is queued\n"
     ]
    },
    {
     "name": "stdout",
     "output_type": "stream",
     "text": [
      "finding mean of month 09, day 01\n"
     ]
    },
    {
     "name": "stderr",
     "output_type": "stream",
     "text": [
      "2021-07-16 19:11:20,620 INFO Request is running\n",
      "2021-07-16 19:11:27,997 INFO Request is completed\n",
      "2021-07-16 19:11:27,999 INFO Downloading https://download-0008.copernicus-climate.eu/cache-compute-0008/cache/data3/adaptor.mars.internal-1626477084.8661706-27508-18-89ad893a-3b36-4c1b-8679-1ee5d5807cd1.nc to /nobackup/users/lulur/ERA5_day_temps/mx2t_20140901.nc (47.5M)\n",
      "2021-07-16 19:11:31,675 INFO Download rate 12.9M/s  \n"
     ]
    },
    {
     "name": "stdout",
     "output_type": "stream",
     "text": [
      "finding mean of month 09, day 02\n"
     ]
    },
    {
     "name": "stderr",
     "output_type": "stream",
     "text": [
      "2021-07-16 19:11:32,179 INFO Welcome to the CDS\n",
      "2021-07-16 19:11:32,179 INFO Sending request to https://cds.climate.copernicus.eu/api/v2/resources/reanalysis-era5-single-levels\n",
      "2021-07-16 19:11:32,267 INFO Request is queued\n",
      "2021-07-16 19:11:33,349 INFO Request is running\n",
      "2021-07-16 19:11:40,725 INFO Request is completed\n",
      "2021-07-16 19:11:40,725 INFO Downloading https://download-0000.copernicus-climate.eu/cache-compute-0000/cache/data8/adaptor.mars.internal-1626477096.799019-4970-11-023849bb-5afa-4456-894f-572d666b2ed6.nc to /nobackup/users/lulur/ERA5_day_temps/mx2t_20140902.nc (47.5M)\n",
      "2021-07-16 19:11:44,843 INFO Download rate 11.5M/s  \n",
      "2021-07-16 19:11:45,079 INFO Welcome to the CDS\n",
      "2021-07-16 19:11:45,079 INFO Sending request to https://cds.climate.copernicus.eu/api/v2/resources/reanalysis-era5-single-levels\n",
      "2021-07-16 19:11:45,167 INFO Request is queued\n"
     ]
    },
    {
     "name": "stdout",
     "output_type": "stream",
     "text": [
      "finding mean of month 09, day 03\n"
     ]
    },
    {
     "name": "stderr",
     "output_type": "stream",
     "text": [
      "2021-07-16 19:11:46,250 INFO Request is running\n",
      "2021-07-16 19:11:50,168 INFO Request is completed\n",
      "2021-07-16 19:11:50,169 INFO Downloading https://download-0012.copernicus-climate.eu/cache-compute-0012/cache/data4/adaptor.mars.internal-1626477108.6128922-22209-17-f7ceb918-d272-4f13-9022-7c57776af133.nc to /nobackup/users/lulur/ERA5_day_temps/mx2t_20140903.nc (47.5M)\n",
      "2021-07-16 19:12:03,399 INFO Download rate 3.6M/s   \n",
      "2021-07-16 19:12:03,628 INFO Welcome to the CDS\n",
      "2021-07-16 19:12:03,629 INFO Sending request to https://cds.climate.copernicus.eu/api/v2/resources/reanalysis-era5-single-levels\n",
      "2021-07-16 19:12:03,716 INFO Request is queued\n"
     ]
    },
    {
     "name": "stdout",
     "output_type": "stream",
     "text": [
      "finding mean of month 09, day 04\n"
     ]
    },
    {
     "name": "stderr",
     "output_type": "stream",
     "text": [
      "2021-07-16 19:12:04,799 INFO Request is running\n",
      "2021-07-16 19:12:12,458 INFO Request is completed\n",
      "2021-07-16 19:12:12,459 INFO Downloading https://download-0010.copernicus-climate.eu/cache-compute-0010/cache/data7/adaptor.mars.internal-1626477128.050555-22725-13-ed7e585e-7983-40e6-af34-5112931f2910.nc to /nobackup/users/lulur/ERA5_day_temps/mx2t_20140904.nc (47.5M)\n",
      "2021-07-16 19:12:16,075 INFO Download rate 13.1M/s  \n"
     ]
    },
    {
     "name": "stdout",
     "output_type": "stream",
     "text": [
      "finding mean of month 09, day 05\n"
     ]
    },
    {
     "name": "stderr",
     "output_type": "stream",
     "text": [
      "2021-07-16 19:12:16,709 INFO Welcome to the CDS\n",
      "2021-07-16 19:12:16,710 INFO Sending request to https://cds.climate.copernicus.eu/api/v2/resources/reanalysis-era5-single-levels\n",
      "2021-07-16 19:12:16,798 INFO Request is queued\n",
      "2021-07-16 19:12:17,881 INFO Request is running\n",
      "2021-07-16 19:12:25,258 INFO Request is completed\n",
      "2021-07-16 19:12:25,259 INFO Downloading https://download-0000.copernicus-climate.eu/cache-compute-0000/cache/data3/adaptor.mars.internal-1626477141.4825447-5250-10-0531b1f1-b5d4-4eed-b712-a61526227100.nc to /nobackup/users/lulur/ERA5_day_temps/mx2t_20140905.nc (47.5M)\n",
      "2021-07-16 19:13:38,550 INFO Download rate 664.2K/s \n",
      "2021-07-16 19:13:39,377 INFO Welcome to the CDS\n",
      "2021-07-16 19:13:39,377 INFO Sending request to https://cds.climate.copernicus.eu/api/v2/resources/reanalysis-era5-single-levels\n",
      "2021-07-16 19:13:39,464 INFO Request is queued\n"
     ]
    },
    {
     "name": "stdout",
     "output_type": "stream",
     "text": [
      "finding mean of month 09, day 06\n"
     ]
    },
    {
     "name": "stderr",
     "output_type": "stream",
     "text": [
      "2021-07-16 19:13:40,547 INFO Request is running\n",
      "2021-07-16 19:13:47,925 INFO Request is completed\n",
      "2021-07-16 19:13:47,925 INFO Downloading https://download-0006.copernicus-climate.eu/cache-compute-0006/cache/data6/adaptor.mars.internal-1626477223.750748-30789-18-46a21741-269b-4d9f-a702-a62a893212fd.nc to /nobackup/users/lulur/ERA5_day_temps/mx2t_20140906.nc (47.5M)\n",
      "2021-07-16 19:13:59,993 INFO Download rate 3.9M/s   \n",
      "2021-07-16 19:14:00,217 INFO Welcome to the CDS\n",
      "2021-07-16 19:14:00,218 INFO Sending request to https://cds.climate.copernicus.eu/api/v2/resources/reanalysis-era5-single-levels\n",
      "2021-07-16 19:14:00,309 INFO Request is queued\n"
     ]
    },
    {
     "name": "stdout",
     "output_type": "stream",
     "text": [
      "finding mean of month 09, day 07\n"
     ]
    },
    {
     "name": "stderr",
     "output_type": "stream",
     "text": [
      "2021-07-16 19:14:01,392 INFO Request is running\n",
      "2021-07-16 19:14:08,776 INFO Request is completed\n",
      "2021-07-16 19:14:08,776 INFO Downloading https://download-0008.copernicus-climate.eu/cache-compute-0008/cache/data7/adaptor.mars.internal-1626477245.7346284-25987-14-8db96a21-8fe9-4f0f-92db-6e654641ca8b.nc to /nobackup/users/lulur/ERA5_day_temps/mx2t_20140907.nc (47.5M)\n",
      "2021-07-16 19:14:14,878 INFO Download rate 7.8M/s   \n",
      "2021-07-16 19:14:15,381 INFO Welcome to the CDS\n",
      "2021-07-16 19:14:15,383 INFO Sending request to https://cds.climate.copernicus.eu/api/v2/resources/reanalysis-era5-single-levels\n",
      "2021-07-16 19:14:15,470 INFO Request is queued\n"
     ]
    },
    {
     "name": "stdout",
     "output_type": "stream",
     "text": [
      "finding mean of month 09, day 08\n"
     ]
    },
    {
     "name": "stderr",
     "output_type": "stream",
     "text": [
      "2021-07-16 19:14:16,555 INFO Request is running\n",
      "2021-07-16 19:14:37,339 INFO Request is completed\n",
      "2021-07-16 19:14:37,339 INFO Downloading https://download-0002.copernicus-climate.eu/cache-compute-0002/cache/data5/adaptor.mars.internal-1626477268.662296-28650-11-b5075341-d8ea-474b-b32c-b190d76d8a48.nc to /nobackup/users/lulur/ERA5_day_temps/mx2t_20140908.nc (47.5M)\n",
      "2021-07-16 19:14:44,505 INFO Download rate 6.6M/s   \n",
      "2021-07-16 19:14:44,729 INFO Welcome to the CDS\n",
      "2021-07-16 19:14:44,732 INFO Sending request to https://cds.climate.copernicus.eu/api/v2/resources/reanalysis-era5-single-levels\n",
      "2021-07-16 19:14:44,823 INFO Request is queued\n"
     ]
    },
    {
     "name": "stdout",
     "output_type": "stream",
     "text": [
      "finding mean of month 09, day 09\n"
     ]
    },
    {
     "name": "stderr",
     "output_type": "stream",
     "text": [
      "2021-07-16 19:14:45,906 INFO Request is running\n",
      "2021-07-16 19:14:53,284 INFO Request is completed\n",
      "2021-07-16 19:14:53,284 INFO Downloading https://download-0014.copernicus-climate.eu/cache-compute-0014/cache/data1/adaptor.mars.internal-1626477288.8880093-19884-11-fa03588d-6f21-44d8-b3a4-f5d805f12ead.nc to /nobackup/users/lulur/ERA5_day_temps/mx2t_20140909.nc (47.5M)\n",
      "2021-07-16 19:15:07,098 INFO Download rate 3.4M/s   \n",
      "2021-07-16 19:15:07,331 INFO Welcome to the CDS\n",
      "2021-07-16 19:15:07,331 INFO Sending request to https://cds.climate.copernicus.eu/api/v2/resources/reanalysis-era5-single-levels\n",
      "2021-07-16 19:15:07,418 INFO Request is queued\n"
     ]
    },
    {
     "name": "stdout",
     "output_type": "stream",
     "text": [
      "finding mean of month 09, day 10\n"
     ]
    },
    {
     "name": "stderr",
     "output_type": "stream",
     "text": [
      "2021-07-16 19:15:08,501 INFO Request is running\n",
      "2021-07-16 19:15:15,877 INFO Request is completed\n",
      "2021-07-16 19:15:15,877 INFO Downloading https://download-0004.copernicus-climate.eu/cache-compute-0004/cache/data1/adaptor.mars.internal-1626477313.2832181-6216-9-9b66d797-6c79-4009-92c9-f82a31a648b3.nc to /nobackup/users/lulur/ERA5_day_temps/mx2t_20140910.nc (47.5M)\n",
      "2021-07-16 19:15:22,554 INFO Download rate 7.1M/s   \n",
      "2021-07-16 19:15:22,784 INFO Welcome to the CDS\n",
      "2021-07-16 19:15:22,784 INFO Sending request to https://cds.climate.copernicus.eu/api/v2/resources/reanalysis-era5-single-levels\n",
      "2021-07-16 19:15:22,872 INFO Request is queued\n"
     ]
    },
    {
     "name": "stdout",
     "output_type": "stream",
     "text": [
      "finding mean of month 09, day 11\n"
     ]
    },
    {
     "name": "stderr",
     "output_type": "stream",
     "text": [
      "2021-07-16 19:15:23,956 INFO Request is running\n",
      "2021-07-16 19:15:31,332 INFO Request is completed\n",
      "2021-07-16 19:15:31,333 INFO Downloading https://download-0001.copernicus-climate.eu/cache-compute-0001/cache/data7/adaptor.mars.internal-1626477327.1033611-16267-11-e3a8778b-6b22-461f-b5cb-c67b2c105fe8.nc to /nobackup/users/lulur/ERA5_day_temps/mx2t_20140911.nc (47.5M)\n",
      "2021-07-16 19:15:38,551 INFO Download rate 6.6M/s   \n",
      "2021-07-16 19:15:38,787 INFO Welcome to the CDS\n",
      "2021-07-16 19:15:38,788 INFO Sending request to https://cds.climate.copernicus.eu/api/v2/resources/reanalysis-era5-single-levels\n",
      "2021-07-16 19:15:38,875 INFO Request is queued\n"
     ]
    },
    {
     "name": "stdout",
     "output_type": "stream",
     "text": [
      "finding mean of month 09, day 12\n"
     ]
    },
    {
     "name": "stderr",
     "output_type": "stream",
     "text": [
      "2021-07-16 19:15:39,958 INFO Request is running\n",
      "2021-07-16 19:15:47,335 INFO Request is completed\n",
      "2021-07-16 19:15:47,336 INFO Downloading https://download-0008.copernicus-climate.eu/cache-compute-0008/cache/data4/adaptor.mars.internal-1626477343.2294068-6372-10-fbd738cf-97f6-4c1a-9371-9689537ae176.nc to /nobackup/users/lulur/ERA5_day_temps/mx2t_20140912.nc (47.5M)\n",
      "2021-07-16 19:16:34,858 INFO Download rate 1M/s     \n",
      "2021-07-16 19:16:35,082 INFO Welcome to the CDS\n",
      "2021-07-16 19:16:35,082 INFO Sending request to https://cds.climate.copernicus.eu/api/v2/resources/reanalysis-era5-single-levels\n",
      "2021-07-16 19:16:35,177 INFO Request is queued\n"
     ]
    },
    {
     "name": "stdout",
     "output_type": "stream",
     "text": [
      "finding mean of month 09, day 13\n"
     ]
    },
    {
     "name": "stderr",
     "output_type": "stream",
     "text": [
      "2021-07-16 19:16:36,260 INFO Request is running\n",
      "2021-07-16 19:16:43,926 INFO Request is completed\n",
      "2021-07-16 19:16:43,927 INFO Downloading https://download-0014.copernicus-climate.eu/cache-compute-0014/cache/data5/adaptor.mars.internal-1626477400.4742577-13200-20-0eb49ca9-a3d7-409a-8efa-36890e052133.nc to /nobackup/users/lulur/ERA5_day_temps/mx2t_20140913.nc (47.5M)\n",
      "2021-07-16 19:16:50,869 INFO Download rate 6.8M/s   \n",
      "2021-07-16 19:16:51,095 INFO Welcome to the CDS\n",
      "2021-07-16 19:16:51,096 INFO Sending request to https://cds.climate.copernicus.eu/api/v2/resources/reanalysis-era5-single-levels\n",
      "2021-07-16 19:16:51,182 INFO Request is queued\n"
     ]
    },
    {
     "name": "stdout",
     "output_type": "stream",
     "text": [
      "finding mean of month 09, day 14\n"
     ]
    },
    {
     "name": "stderr",
     "output_type": "stream",
     "text": [
      "2021-07-16 19:16:52,266 INFO Request is running\n",
      "2021-07-16 19:17:00,212 INFO Request is completed\n",
      "2021-07-16 19:17:00,212 INFO Downloading https://download-0007.copernicus-climate.eu/cache-compute-0007/cache/data8/adaptor.mars.internal-1626477415.834705-9665-5-31206c80-c4f1-440d-b2a4-fab029813cf2.nc to /nobackup/users/lulur/ERA5_day_temps/mx2t_20140914.nc (47.5M)\n",
      "2021-07-16 19:17:03,801 INFO Download rate 13.2M/s  \n",
      "2021-07-16 19:17:04,305 INFO Welcome to the CDS\n",
      "2021-07-16 19:17:04,305 INFO Sending request to https://cds.climate.copernicus.eu/api/v2/resources/reanalysis-era5-single-levels\n",
      "2021-07-16 19:17:04,392 INFO Request is queued\n"
     ]
    },
    {
     "name": "stdout",
     "output_type": "stream",
     "text": [
      "finding mean of month 09, day 15\n"
     ]
    },
    {
     "name": "stderr",
     "output_type": "stream",
     "text": [
      "2021-07-16 19:17:05,475 INFO Request is running\n",
      "2021-07-16 19:17:12,853 INFO Request is completed\n",
      "2021-07-16 19:17:12,854 INFO Downloading https://download-0009.copernicus-climate.eu/cache-compute-0009/cache/data6/adaptor.mars.internal-1626477428.5961273-13721-13-e3e99041-024e-475e-84dd-2dd87ad050f5.nc to /nobackup/users/lulur/ERA5_day_temps/mx2t_20140915.nc (47.5M)\n",
      "2021-07-16 19:17:19,251 INFO Download rate 7.4M/s   \n",
      "2021-07-16 19:17:19,474 INFO Welcome to the CDS\n",
      "2021-07-16 19:17:19,474 INFO Sending request to https://cds.climate.copernicus.eu/api/v2/resources/reanalysis-era5-single-levels\n",
      "2021-07-16 19:17:19,561 INFO Request is queued\n"
     ]
    },
    {
     "name": "stdout",
     "output_type": "stream",
     "text": [
      "finding mean of month 09, day 16\n"
     ]
    },
    {
     "name": "stderr",
     "output_type": "stream",
     "text": [
      "2021-07-16 19:17:20,644 INFO Request is running\n",
      "2021-07-16 19:17:28,305 INFO Request is completed\n",
      "2021-07-16 19:17:28,305 INFO Downloading https://download-0006.copernicus-climate.eu/cache-compute-0006/cache/data3/adaptor.mars.internal-1626477444.1268144-29873-18-eb3965a3-48ec-4c1a-ab86-232538906bec.nc to /nobackup/users/lulur/ERA5_day_temps/mx2t_20140916.nc (47.5M)\n",
      "2021-07-16 19:17:41,386 INFO Download rate 3.6M/s   \n",
      "2021-07-16 19:17:41,609 INFO Welcome to the CDS\n",
      "2021-07-16 19:17:41,610 INFO Sending request to https://cds.climate.copernicus.eu/api/v2/resources/reanalysis-era5-single-levels\n",
      "2021-07-16 19:17:41,696 INFO Request is queued\n"
     ]
    },
    {
     "name": "stdout",
     "output_type": "stream",
     "text": [
      "finding mean of month 09, day 17\n"
     ]
    },
    {
     "name": "stderr",
     "output_type": "stream",
     "text": [
      "2021-07-16 19:17:42,781 INFO Request is running\n",
      "2021-07-16 19:17:50,444 INFO Request is completed\n",
      "2021-07-16 19:17:50,445 INFO Downloading https://download-0007.copernicus-climate.eu/cache-compute-0007/cache/data8/adaptor.mars.internal-1626477466.102217-9877-5-9cf04463-7610-4ee4-9db4-aaa446805f74.nc to /nobackup/users/lulur/ERA5_day_temps/mx2t_20140917.nc (47.5M)\n",
      "2021-07-16 19:18:01,426 INFO Download rate 4.3M/s   \n",
      "2021-07-16 19:18:01,649 INFO Welcome to the CDS\n",
      "2021-07-16 19:18:01,649 INFO Sending request to https://cds.climate.copernicus.eu/api/v2/resources/reanalysis-era5-single-levels\n",
      "2021-07-16 19:18:01,736 INFO Request is queued\n"
     ]
    },
    {
     "name": "stdout",
     "output_type": "stream",
     "text": [
      "finding mean of month 09, day 18\n"
     ]
    },
    {
     "name": "stderr",
     "output_type": "stream",
     "text": [
      "2021-07-16 19:18:02,819 INFO Request is running\n",
      "2021-07-16 19:18:10,196 INFO Request is completed\n",
      "2021-07-16 19:18:10,197 INFO Downloading https://download-0012.copernicus-climate.eu/cache-compute-0012/cache/data4/adaptor.mars.internal-1626477486.898823-31650-7-fd6b350a-db95-490c-9201-d664e4e92534.nc to /nobackup/users/lulur/ERA5_day_temps/mx2t_20140918.nc (47.5M)\n",
      "2021-07-16 19:18:17,920 INFO Download rate 6.2M/s   \n",
      "2021-07-16 19:18:18,142 INFO Welcome to the CDS\n",
      "2021-07-16 19:18:18,143 INFO Sending request to https://cds.climate.copernicus.eu/api/v2/resources/reanalysis-era5-single-levels\n",
      "2021-07-16 19:18:18,230 INFO Request is queued\n"
     ]
    },
    {
     "name": "stdout",
     "output_type": "stream",
     "text": [
      "finding mean of month 09, day 19\n"
     ]
    },
    {
     "name": "stderr",
     "output_type": "stream",
     "text": [
      "2021-07-16 19:18:19,314 INFO Request is running\n",
      "2021-07-16 19:18:26,693 INFO Request is completed\n",
      "2021-07-16 19:18:26,693 INFO Downloading https://download-0002.copernicus-climate.eu/cache-compute-0002/cache/data7/adaptor.mars.internal-1626477502.664783-6898-6-8bc32bc6-9f96-48e9-bc0c-0574ee8609dc.nc to /nobackup/users/lulur/ERA5_day_temps/mx2t_20140919.nc (47.5M)\n",
      "2021-07-16 19:18:31,907 INFO Download rate 9.1M/s   \n",
      "2021-07-16 19:18:32,368 INFO Welcome to the CDS\n",
      "2021-07-16 19:18:32,370 INFO Sending request to https://cds.climate.copernicus.eu/api/v2/resources/reanalysis-era5-single-levels\n"
     ]
    },
    {
     "name": "stdout",
     "output_type": "stream",
     "text": [
      "finding mean of month 09, day 20\n"
     ]
    },
    {
     "name": "stderr",
     "output_type": "stream",
     "text": [
      "2021-07-16 19:18:32,712 INFO Request is queued\n",
      "2021-07-16 19:18:33,794 INFO Request is running\n",
      "2021-07-16 19:18:41,171 INFO Request is completed\n",
      "2021-07-16 19:18:41,172 INFO Downloading https://download-0005.copernicus-climate.eu/cache-compute-0005/cache/data6/adaptor.mars.internal-1626477518.1162584-26665-15-87f24783-0d0f-47b8-a0e7-5e57ded63d42.nc to /nobackup/users/lulur/ERA5_day_temps/mx2t_20140920.nc (47.5M)\n",
      "2021-07-16 19:18:48,012 INFO Download rate 7M/s     \n",
      "2021-07-16 19:18:48,244 INFO Welcome to the CDS\n",
      "2021-07-16 19:18:48,244 INFO Sending request to https://cds.climate.copernicus.eu/api/v2/resources/reanalysis-era5-single-levels\n",
      "2021-07-16 19:18:48,330 INFO Request is queued\n"
     ]
    },
    {
     "name": "stdout",
     "output_type": "stream",
     "text": [
      "finding mean of month 09, day 21\n"
     ]
    },
    {
     "name": "stderr",
     "output_type": "stream",
     "text": [
      "2021-07-16 19:18:49,413 INFO Request is running\n",
      "2021-07-16 19:18:56,792 INFO Request is completed\n",
      "2021-07-16 19:18:56,793 INFO Downloading https://download-0004.copernicus-climate.eu/cache-compute-0004/cache/data5/adaptor.mars.internal-1626477533.1327178-31795-17-d6ae37e9-6717-49b4-9c39-d57aa45a6131.nc to /nobackup/users/lulur/ERA5_day_temps/mx2t_20140921.nc (47.5M)\n",
      "2021-07-16 19:19:13,591 INFO Download rate 2.8M/s   \n",
      "2021-07-16 19:19:13,813 INFO Welcome to the CDS\n",
      "2021-07-16 19:19:13,814 INFO Sending request to https://cds.climate.copernicus.eu/api/v2/resources/reanalysis-era5-single-levels\n",
      "2021-07-16 19:19:13,899 INFO Request is queued\n"
     ]
    },
    {
     "name": "stdout",
     "output_type": "stream",
     "text": [
      "finding mean of month 09, day 22\n"
     ]
    },
    {
     "name": "stderr",
     "output_type": "stream",
     "text": [
      "2021-07-16 19:19:14,982 INFO Request is running\n",
      "2021-07-16 19:19:22,360 INFO Request is completed\n",
      "2021-07-16 19:19:22,361 INFO Downloading https://download-0010.copernicus-climate.eu/cache-compute-0010/cache/data3/adaptor.mars.internal-1626477558.7100549-31712-1-ee2c8cb2-141c-409f-ba1b-357760e776df.nc to /nobackup/users/lulur/ERA5_day_temps/mx2t_20140922.nc (47.5M)\n",
      "2021-07-16 19:20:54,776 INFO Download rate 526.7K/s   \n"
     ]
    },
    {
     "name": "stdout",
     "output_type": "stream",
     "text": [
      "finding mean of month 09, day 23\n"
     ]
    },
    {
     "name": "stderr",
     "output_type": "stream",
     "text": [
      "2021-07-16 19:20:55,520 INFO Welcome to the CDS\n",
      "2021-07-16 19:20:55,520 INFO Sending request to https://cds.climate.copernicus.eu/api/v2/resources/reanalysis-era5-single-levels\n",
      "2021-07-16 19:20:55,609 INFO Request is queued\n",
      "2021-07-16 19:20:56,691 INFO Request is running\n",
      "2021-07-16 19:21:04,065 INFO Request is completed\n",
      "2021-07-16 19:21:04,065 INFO Downloading https://download-0012.copernicus-climate.eu/cache-compute-0012/cache/data6/adaptor.mars.internal-1626477660.2771075-32314-8-8340591a-968b-4f10-aeb6-74a65a1f3f96.nc to /nobackup/users/lulur/ERA5_day_temps/mx2t_20140923.nc (47.5M)\n",
      "2021-07-16 19:21:20,118 INFO Download rate 3M/s     \n",
      "2021-07-16 19:21:20,340 INFO Welcome to the CDS\n",
      "2021-07-16 19:21:20,341 INFO Sending request to https://cds.climate.copernicus.eu/api/v2/resources/reanalysis-era5-single-levels\n",
      "2021-07-16 19:21:20,429 INFO Request is queued\n"
     ]
    },
    {
     "name": "stdout",
     "output_type": "stream",
     "text": [
      "finding mean of month 09, day 24\n"
     ]
    },
    {
     "name": "stderr",
     "output_type": "stream",
     "text": [
      "2021-07-16 19:21:21,792 INFO Request is running\n",
      "2021-07-16 19:21:29,169 INFO Request is completed\n",
      "2021-07-16 19:21:29,169 INFO Downloading https://download-0003.copernicus-climate.eu/cache-compute-0003/cache/data3/adaptor.mars.internal-1626477685.1065817-17586-20-8d9484c7-4647-4793-a0ef-7a51352de428.nc to /nobackup/users/lulur/ERA5_day_temps/mx2t_20140924.nc (47.5M)\n",
      "2021-07-16 19:22:42,634 INFO Download rate 662.6K/s \n",
      "2021-07-16 19:22:43,101 INFO Welcome to the CDS\n",
      "2021-07-16 19:22:43,101 INFO Sending request to https://cds.climate.copernicus.eu/api/v2/resources/reanalysis-era5-single-levels\n",
      "2021-07-16 19:22:43,202 INFO Request is queued\n"
     ]
    },
    {
     "name": "stdout",
     "output_type": "stream",
     "text": [
      "finding mean of month 09, day 25\n"
     ]
    },
    {
     "name": "stderr",
     "output_type": "stream",
     "text": [
      "2021-07-16 19:22:44,285 INFO Request is running\n",
      "2021-07-16 19:22:51,667 INFO Request is completed\n",
      "2021-07-16 19:22:51,669 INFO Downloading https://download-0012.copernicus-climate.eu/cache-compute-0012/cache/data1/adaptor.mars.internal-1626477767.2034106-30081-10-551a8fda-746d-4791-bca0-3bb874c5abcf.nc to /nobackup/users/lulur/ERA5_day_temps/mx2t_20140925.nc (47.5M)\n",
      "2021-07-16 19:24:14,848 INFO Download rate 585.2K/s \n",
      "2021-07-16 19:24:15,333 INFO Welcome to the CDS\n",
      "2021-07-16 19:24:15,334 INFO Sending request to https://cds.climate.copernicus.eu/api/v2/resources/reanalysis-era5-single-levels\n",
      "2021-07-16 19:24:15,421 INFO Request is queued\n"
     ]
    },
    {
     "name": "stdout",
     "output_type": "stream",
     "text": [
      "finding mean of month 09, day 26\n"
     ]
    },
    {
     "name": "stderr",
     "output_type": "stream",
     "text": [
      "2021-07-16 19:24:16,789 INFO Request is running\n",
      "2021-07-16 19:24:20,706 INFO Request is completed\n",
      "2021-07-16 19:24:20,706 INFO Downloading https://download-0010.copernicus-climate.eu/cache-compute-0010/cache/data3/adaptor.mars.internal-1626477858.6289222-27246-14-39458e2e-c46b-46d2-b376-dfb67c2066b6.nc to /nobackup/users/lulur/ERA5_day_temps/mx2t_20140926.nc (47.5M)\n",
      "2021-07-16 19:24:27,913 INFO Download rate 6.6M/s   \n",
      "2021-07-16 19:24:28,136 INFO Welcome to the CDS\n",
      "2021-07-16 19:24:28,136 INFO Sending request to https://cds.climate.copernicus.eu/api/v2/resources/reanalysis-era5-single-levels\n",
      "2021-07-16 19:24:28,225 INFO Request is queued\n"
     ]
    },
    {
     "name": "stdout",
     "output_type": "stream",
     "text": [
      "finding mean of month 09, day 27\n"
     ]
    },
    {
     "name": "stderr",
     "output_type": "stream",
     "text": [
      "2021-07-16 19:24:29,308 INFO Request is running\n",
      "2021-07-16 19:24:37,003 INFO Request is completed\n",
      "2021-07-16 19:24:37,003 INFO Downloading https://download-0012.copernicus-climate.eu/cache-compute-0012/cache/data7/adaptor.mars.internal-1626477872.5613387-29259-19-3b7c7ad7-3b8f-4e2c-93ab-36c88175e5e5.nc to /nobackup/users/lulur/ERA5_day_temps/mx2t_20140927.nc (47.5M)\n",
      "2021-07-16 19:26:00,355 INFO Download rate 584K/s   \n",
      "2021-07-16 19:26:00,819 INFO Welcome to the CDS\n",
      "2021-07-16 19:26:00,819 INFO Sending request to https://cds.climate.copernicus.eu/api/v2/resources/reanalysis-era5-single-levels\n",
      "2021-07-16 19:26:00,907 INFO Request is queued\n"
     ]
    },
    {
     "name": "stdout",
     "output_type": "stream",
     "text": [
      "finding mean of month 09, day 28\n"
     ]
    },
    {
     "name": "stderr",
     "output_type": "stream",
     "text": [
      "2021-07-16 19:26:01,989 INFO Request is running\n",
      "2021-07-16 19:26:09,364 INFO Request is completed\n",
      "2021-07-16 19:26:09,365 INFO Downloading https://download-0013.copernicus-climate.eu/cache-compute-0013/cache/data1/adaptor.mars.internal-1626477964.8654857-18486-8-2ba440dd-be97-4298-a7c9-36fe5b539cc0.nc to /nobackup/users/lulur/ERA5_day_temps/mx2t_20140928.nc (47.5M)\n",
      "2021-07-16 19:26:13,674 INFO Download rate 11M/s    \n",
      "2021-07-16 19:26:13,906 INFO Welcome to the CDS\n",
      "2021-07-16 19:26:13,906 INFO Sending request to https://cds.climate.copernicus.eu/api/v2/resources/reanalysis-era5-single-levels\n",
      "2021-07-16 19:26:13,993 INFO Request is queued\n"
     ]
    },
    {
     "name": "stdout",
     "output_type": "stream",
     "text": [
      "finding mean of month 09, day 29\n"
     ]
    },
    {
     "name": "stderr",
     "output_type": "stream",
     "text": [
      "2021-07-16 19:26:15,074 INFO Request is running\n",
      "2021-07-16 19:26:22,449 INFO Request is completed\n",
      "2021-07-16 19:26:22,449 INFO Downloading https://download-0000.copernicus-climate.eu/cache-compute-0000/cache/data2/adaptor.mars.internal-1626477978.34709-11410-3-598f4682-9d14-4575-90bb-ac672a7a03a5.nc to /nobackup/users/lulur/ERA5_day_temps/mx2t_20140929.nc (47.5M)\n",
      "2021-07-16 19:27:08,551 INFO Download rate 1M/s     \n",
      "2021-07-16 19:27:08,776 INFO Welcome to the CDS\n",
      "2021-07-16 19:27:08,777 INFO Sending request to https://cds.climate.copernicus.eu/api/v2/resources/reanalysis-era5-single-levels\n",
      "2021-07-16 19:27:08,865 INFO Request is queued\n"
     ]
    },
    {
     "name": "stdout",
     "output_type": "stream",
     "text": [
      "finding mean of month 09, day 30\n"
     ]
    },
    {
     "name": "stderr",
     "output_type": "stream",
     "text": [
      "2021-07-16 19:27:09,949 INFO Request is running\n",
      "2021-07-16 19:27:17,892 INFO Request is completed\n",
      "2021-07-16 19:27:17,893 INFO Downloading https://download-0009.copernicus-climate.eu/cache-compute-0009/cache/data3/adaptor.mars.internal-1626478033.0881424-21904-4-ee0e4d42-73e4-49c9-978a-d939781ab43c.nc to /nobackup/users/lulur/ERA5_day_temps/mx2t_20140930.nc (47.5M)\n",
      "2021-07-16 19:27:21,224 INFO Download rate 14.3M/s  \n"
     ]
    },
    {
     "ename": "NameError",
     "evalue": "name 'datetime' is not defined",
     "output_type": "error",
     "traceback": [
      "\u001b[0;31m---------------------------------------------------------------------------\u001b[0m",
      "\u001b[0;31mNameError\u001b[0m                                 Traceback (most recent call last)",
      "\u001b[0;32m<ipython-input-11-959a2804aa9b>\u001b[0m in \u001b[0;36m<module>\u001b[0;34m\u001b[0m\n\u001b[1;32m      1\u001b[0m \u001b[0mmeans2014\u001b[0m \u001b[0;34m=\u001b[0m \u001b[0mfind_arctic_summer_daily_means\u001b[0m\u001b[0;34m(\u001b[0m\u001b[0;34m'2014'\u001b[0m\u001b[0;34m)\u001b[0m\u001b[0;34m\u001b[0m\u001b[0;34m\u001b[0m\u001b[0m\n\u001b[1;32m      2\u001b[0m \u001b[0mnp\u001b[0m\u001b[0;34m.\u001b[0m\u001b[0msavetxt\u001b[0m\u001b[0;34m(\u001b[0m\u001b[0;34m'/nobackup/users/lulur/ERA5_day_temps/mx2t_means_2016'\u001b[0m\u001b[0;34m,\u001b[0m\u001b[0mmeans2014\u001b[0m\u001b[0;34m)\u001b[0m\u001b[0;34m\u001b[0m\u001b[0;34m\u001b[0m\u001b[0m\n\u001b[0;32m----> 3\u001b[0;31m \u001b[0mnow\u001b[0m \u001b[0;34m=\u001b[0m \u001b[0mdatetime\u001b[0m\u001b[0;34m.\u001b[0m\u001b[0mnow\u001b[0m\u001b[0;34m(\u001b[0m\u001b[0;34m)\u001b[0m\u001b[0;34m\u001b[0m\u001b[0;34m\u001b[0m\u001b[0m\n\u001b[0m\u001b[1;32m      4\u001b[0m \u001b[0;34m\u001b[0m\u001b[0m\n\u001b[1;32m      5\u001b[0m \u001b[0mcurrent_time\u001b[0m \u001b[0;34m=\u001b[0m \u001b[0mnow\u001b[0m\u001b[0;34m.\u001b[0m\u001b[0mstrftime\u001b[0m\u001b[0;34m(\u001b[0m\u001b[0;34m\"%H:%M:%S\"\u001b[0m\u001b[0;34m)\u001b[0m\u001b[0;34m\u001b[0m\u001b[0;34m\u001b[0m\u001b[0m\n",
      "\u001b[0;31mNameError\u001b[0m: name 'datetime' is not defined"
     ]
    }
   ],
   "source": [
    "means2014 = find_arctic_summer_daily_means('2014')\n",
    "np.savetxt('/nobackup/users/lulur/ERA5_day_temps/mx2t_means_2016',means2014)\n",
    "now = datetime.now()\n",
    "\n",
    "current_time = now.strftime(\"%H:%M:%S\")\n",
    "print(\"Current Time =\", current_time)\n"
   ]
  },
  {
   "cell_type": "code",
   "execution_count": 9,
   "metadata": {},
   "outputs": [
    {
     "data": {
      "text/plain": [
       "153"
      ]
     },
     "execution_count": 9,
     "metadata": {},
     "output_type": "execute_result"
    }
   ],
   "source": [
    "len(means2016)"
   ]
  },
  {
   "cell_type": "code",
   "execution_count": null,
   "metadata": {},
   "outputs": [],
   "source": [
    "max2016 = find_arctic_daily_maxes('2016')\n",
    "np.savetxt('/nobackup/users/lulur/ERA5_day_temps/mx2t_2016',max2016)\n",
    "#dailymax = find_arctic_mean_daily_max('2016','01','01')\n",
    "print(max2016)\n",
    "now = datetime.now()\n",
    "\n",
    "current_time = now.strftime(\"%H:%M:%S\")\n",
    "print(\"Current Time =\", current_time)\n"
   ]
  },
  {
   "cell_type": "code",
   "execution_count": null,
   "metadata": {},
   "outputs": [],
   "source": [
    "max2016"
   ]
  },
  {
   "cell_type": "code",
   "execution_count": null,
   "metadata": {},
   "outputs": [],
   "source": []
  },
  {
   "cell_type": "code",
   "execution_count": null,
   "metadata": {},
   "outputs": [],
   "source": [
    "print(float(dailymax['mx2t']))"
   ]
  },
  {
   "cell_type": "code",
   "execution_count": null,
   "metadata": {},
   "outputs": [],
   "source": [
    "\n",
    "#variabel shortname is mx2t\n",
    "c = cdsapi.Client()\n",
    "r = c.retrieve(\n",
    "    'reanalysis-era5-single-levels', {\n",
    "            'variable'    : 'maximum_2m_temperature_since_previous_post_processing',\n",
    "            'product_type': 'reanalysis',\n",
    "            'year'        : '2017',\n",
    "            'month'       : '01',\n",
    "            'day'         : ['01', '02'],\n",
    "            'time'        : [\n",
    "                '00:00','01:00','02:00',\n",
    "                '03:00','04:00','05:00',\n",
    "                '06:00','07:00','08:00',\n",
    "                '09:00','10:00','11:00',\n",
    "                '12:00','13:00','14:00',\n",
    "                '15:00','16:00','17:00',\n",
    "                '18:00','19:00','20:00',\n",
    "                '21:00','22:00','23:00'\n",
    "            ],\n",
    "            'format'      : 'netcdf'\n",
    "    })\n",
    "r.download('mx2t_20170101-20170102.nc')\n"
   ]
  },
  {
   "cell_type": "code",
   "execution_count": null,
   "metadata": {},
   "outputs": [],
   "source": [
    "import time, sys\n",
    "from datetime import datetime, timedelta\n",
    " \n",
    "from netCDF4 import Dataset, date2num, num2date"
   ]
  },
  {
   "cell_type": "code",
   "execution_count": null,
   "metadata": {},
   "outputs": [],
   "source": [
    "day = 20170101\n",
    "d = datetime.strptime(str(day), '%Y%m%d')\n",
    "f_in = 'mx2t_%d-%s.nc' % (day, (d + timedelta(days = 1)).strftime('%Y%m%d'))\n",
    "f_out = 'daily-mx2t_%d.nc' % day\n",
    "dataset = xr.open_dataset(f_in)\n",
    "mean_temp = arctic_mean(dataset)\n",
    "#dailymax = dataset.max(dim='time', skipna=None)"
   ]
  },
  {
   "cell_type": "code",
   "execution_count": null,
   "metadata": {},
   "outputs": [],
   "source": [
    "dailymax = mean_temp.max(dim='time')\n",
    "dailymax"
   ]
  },
  {
   "cell_type": "markdown",
   "metadata": {},
   "source": []
  },
  {
   "cell_type": "code",
   "execution_count": null,
   "metadata": {},
   "outputs": [],
   "source": [
    "day = 20170101\n",
    "d = datetime.strptime(str(day), '%Y%m%d')\n",
    "f_in = 'mx2t_%d-%s.nc' % (day, (d + timedelta(days = 1)).strftime('%Y%m%d'))\n",
    "f_out = 'daily-mx2t_%d.nc' % day\n",
    " \n",
    "time_needed = []\n",
    "for i in range(1, 25):\n",
    "    time_needed.append(d + timedelta(hours = i))\n",
    "\n",
    "with Dataset(f_in) as ds_src:\n",
    "    var_time = ds_src.variables['time']\n",
    "    time_avail = num2date(var_time[:], var_time.units,\n",
    "            calendar = var_time.calendar)\n",
    " \n",
    "    indices = []\n",
    "    for tm in time_needed:\n",
    "        a = np.where(time_avail == tm)[0]\n",
    "        if len(a) == 0:\n",
    "            sys.stderr.write('Error: precipitation data is missing/incomplete - %s!\\n'\n",
    "                    % tm.strftime('%Y%m%d %H:%M:%S'))\n",
    "            sys.exit(200)\n",
    "        else:\n",
    "            #print('Found %s' % tm.strftime('%Y%m%d %H:%M:%S'))\n",
    "            indices.append(a[0])\n",
    " \n",
    "    var_mx2t = ds_src.variables['mx2t']\n",
    "    max_daily_temp = -1000\n",
    "    for idx in indices:\n",
    "        data = var_mx2t[idx, :, :]\n",
    "        print(data.shape)\n",
    "        if data > max_daily_temp:\n",
    "            max_daily_temp = data\n",
    "            \n",
    "#     with Dataset(f_out, mode = 'w', format = 'NETCDF3_64BIT_OFFSET') as ds_dest:\n",
    "#         # Dimensions\n",
    "#         for name in ['latitude', 'longitude']:\n",
    "#             dim_src = ds_src.dimensions[name]\n",
    "#             ds_dest.createDimension(name, dim_src.size)\n",
    "#             var_src = ds_src.variables[name]\n",
    "#             var_dest = ds_dest.createVariable(name, var_src.datatype, (name,))\n",
    "#             var_dest[:] = var_src[:]\n",
    "#             var_dest.setncattr('units', var_src.units)\n",
    "#             var_dest.setncattr('long_name', var_src.long_name)\n",
    " \n",
    "#         ds_dest.createDimension('time', None)\n",
    "#         var = ds_dest.createVariable('time', np.int32, ('time',))\n",
    "#         time_units = 'hours since 1900-01-01 00:00:00'\n",
    "#         time_cal = 'gregorian'\n",
    "#         var[:] = date2num([d], units = time_units, calendar = time_cal)\n",
    "#         var.setncattr('units', time_units)\n",
    "#         var.setncattr('long_name', 'time')\n",
    "#         var.setncattr('calendar', time_cal)\n",
    " \n",
    "#         # Variables\n",
    "#         var = ds_dest.createVariable(var_tp.name, np.double, var_tp.dimensions)\n",
    "#         var[0, :, :] = data\n",
    "#         var.setncattr('units', var_tp.units)\n",
    "#         var.setncattr('long_name', var_tp.long_name)\n",
    " \n",
    "#         # Attributes\n",
    "#         ds_dest.setncattr('Conventions', 'CF-1.6')\n",
    "#         ds_dest.setncattr('history', '%s %s'\n",
    "#                 % (datetime.now().strftime('%Y-%m-%d %H:%M:%S'),\n",
    "#                 ' '.join(time.tzname)))\n",
    " \n",
    "#         print('Done! Daily total precipitation saved in %s' % f_out)"
   ]
  },
  {
   "cell_type": "code",
   "execution_count": null,
   "metadata": {},
   "outputs": [],
   "source": [
    "dailymax"
   ]
  },
  {
   "cell_type": "code",
   "execution_count": null,
   "metadata": {},
   "outputs": [],
   "source": [
    "maximum = dailymax.max(('latitude'))\n",
    "maximum"
   ]
  },
  {
   "cell_type": "code",
   "execution_count": null,
   "metadata": {},
   "outputs": [],
   "source": [
    "plt.contourf([dailymax['latitude'],dailymax['longitude'],],dailymax['mx2t'])"
   ]
  },
  {
   "cell_type": "code",
   "execution_count": null,
   "metadata": {},
   "outputs": [],
   "source": []
  }
 ],
 "metadata": {
  "kernelspec": {
   "display_name": "cicoes39",
   "language": "python",
   "name": "cicoes39"
  },
  "language_info": {
   "codemirror_mode": {
    "name": "ipython",
    "version": 3
   },
   "file_extension": ".py",
   "mimetype": "text/x-python",
   "name": "python",
   "nbconvert_exporter": "python",
   "pygments_lexer": "ipython3",
   "version": "3.9.5"
  }
 },
 "nbformat": 4,
 "nbformat_minor": 4
}
